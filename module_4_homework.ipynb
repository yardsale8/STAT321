{
 "cells": [
  {
   "cell_type": "markdown",
   "metadata": {
    "colab_type": "text",
    "id": "T9-tv82uQzNx"
   },
   "source": [
    "## Module 4 Homework"
   ]
  },
  {
   "cell_type": "markdown",
   "metadata": {
    "colab_type": "text",
    "id": "qxjHbFHLQzN4"
   },
   "source": [
    "An article in the *ACI Materials Journal* (Vol/ 85, 1987, pp. 213-216) describes several experiments investigating the rodding of concrete to remove entrapped air.  A 3-inch X 6-inch cylinder was used, and the number of times this rod was used is the design variable.  The resulting compressive strength of the concrete specimen is the response.  The data are available in the file **rodding_concrete.csv**."
   ]
  },
  {
   "cell_type": "markdown",
   "metadata": {
    "colab_type": "text",
    "id": "qxjHbFHLQzN4"
   },
   "source": [
    "1. Write out the the formal statistical model for these data and interpret each term in the context of the problem."
   ]
  },
  {
   "cell_type": "markdown",
   "metadata": {
    "colab_type": "text",
    "id": "qxjHbFHLQzN4"
   },
   "source": [
    "$$ your\\;equation\\;here $$"
   ]
  },
  {
   "cell_type": "markdown",
   "metadata": {
    "colab_type": "text",
    "id": "qxjHbFHLQzN4"
   },
   "source": [
    "> Write out an interpretation for each term in the model."
   ]
  },
  {
   "cell_type": "markdown",
   "metadata": {
    "colab_type": "text",
    "id": "qxjHbFHLQzN4"
   },
   "source": [
    "2. Below, I have included  the code that reads the data into a data frame called `rodding`.  Start by using `R` to create side-by-side boxplots and commenting on what you learn."
   ]
  },
  {
   "cell_type": "code",
   "execution_count": 5,
   "metadata": {
    "colab_type": "text",
    "id": "qxjHbFHLQzN4"
   },
   "outputs": [
    {
     "data": {
      "text/html": [
       "<table>\n",
       "<thead><tr><th scope=col>Rodding.Level</th><th scope=col>Compressive.Strength</th></tr></thead>\n",
       "<tbody>\n",
       "\t<tr><td>10  </td><td>1530</td></tr>\n",
       "\t<tr><td>10  </td><td>1530</td></tr>\n",
       "\t<tr><td>10  </td><td>1440</td></tr>\n",
       "\t<tr><td>15  </td><td>1610</td></tr>\n",
       "\t<tr><td>15  </td><td>1650</td></tr>\n",
       "\t<tr><td>15  </td><td>1500</td></tr>\n",
       "</tbody>\n",
       "</table>\n"
      ],
      "text/latex": [
       "\\begin{tabular}{r|ll}\n",
       " Rodding.Level & Compressive.Strength\\\\\n",
       "\\hline\n",
       "\t 10   & 1530\\\\\n",
       "\t 10   & 1530\\\\\n",
       "\t 10   & 1440\\\\\n",
       "\t 15   & 1610\\\\\n",
       "\t 15   & 1650\\\\\n",
       "\t 15   & 1500\\\\\n",
       "\\end{tabular}\n"
      ],
      "text/markdown": [
       "\n",
       "| Rodding.Level | Compressive.Strength |\n",
       "|---|---|\n",
       "| 10   | 1530 |\n",
       "| 10   | 1530 |\n",
       "| 10   | 1440 |\n",
       "| 15   | 1610 |\n",
       "| 15   | 1650 |\n",
       "| 15   | 1500 |\n",
       "\n"
      ],
      "text/plain": [
       "  Rodding.Level Compressive.Strength\n",
       "1 10            1530                \n",
       "2 10            1530                \n",
       "3 10            1440                \n",
       "4 15            1610                \n",
       "5 15            1650                \n",
       "6 15            1500                "
      ]
     },
     "metadata": {},
     "output_type": "display_data"
    }
   ],
   "source": [
    "rodding = read.csv(\"https://github.com/yardsale8/STAT321/raw/master/rodding_concrete.csv\")\n",
    "head(rodding)"
   ]
  },
  {
   "cell_type": "code",
   "execution_count": 2,
   "metadata": {
    "colab_type": "text",
    "id": "qxjHbFHLQzN4"
   },
   "outputs": [],
   "source": [
    "# Your code here"
   ]
  },
  {
   "cell_type": "markdown",
   "metadata": {
    "colab_type": "text",
    "id": "qxjHbFHLQzN4"
   },
   "source": [
    "3. Use `R` to create the design matrix for this experiment.  Be sure to reparameterize as shown in the notes (page 8)."
   ]
  },
  {
   "cell_type": "code",
   "execution_count": 3,
   "metadata": {
    "colab_type": "text",
    "id": "qxjHbFHLQzN4"
   },
   "outputs": [],
   "source": [
    "# Your code here"
   ]
  },
  {
   "cell_type": "markdown",
   "metadata": {
    "colab_type": "text",
    "id": "qxjHbFHLQzN4"
   },
   "source": [
    "4. Use matrix arithmetic to compute each of the following: $\\mathbf{r}$, $SSE$, $MSE$ and the $SE$ for each term in the model."
   ]
  },
  {
   "cell_type": "code",
   "execution_count": 4,
   "metadata": {
    "colab_type": "text",
    "id": "qxjHbFHLQzN4"
   },
   "outputs": [],
   "source": [
    "# Your code here"
   ]
  },
  {
   "cell_type": "markdown",
   "metadata": {
    "colab_type": "text",
    "id": "qxjHbFHLQzN4"
   },
   "source": [
    "5. Use JMP to verify all of your calculations.  Take a screenshot of the relevant output be sure to paste your JMP screenshot into your Word file and answer the following question."
   ]
  },
  {
   "cell_type": "markdown",
   "metadata": {
    "colab_type": "text",
    "id": "qxjHbFHLQzN4"
   },
   "source": [
    "> Did your calculations match JMP?"
   ]
  }
 ],
 "metadata": {
  "colab": {
   "name": "the_statistical_model.ipynb",
   "provenance": []
  },
  "kernelspec": {
   "display_name": "R",
   "language": "R",
   "name": "ir"
  },
  "language_info": {
   "codemirror_mode": "r",
   "file_extension": ".r",
   "mimetype": "text/x-r-source",
   "name": "R",
   "pygments_lexer": "r",
   "version": "3.6.0"
  },
  "varInspector": {
   "cols": {
    "lenName": 16,
    "lenType": 16,
    "lenVar": 40
   },
   "kernels_config": {
    "python": {
     "delete_cmd_postfix": "",
     "delete_cmd_prefix": "del ",
     "library": "var_list.py",
     "varRefreshCmd": "print(var_dic_list())"
    },
    "r": {
     "delete_cmd_postfix": ") ",
     "delete_cmd_prefix": "rm(",
     "library": "var_list.r",
     "varRefreshCmd": "cat(var_dic_list()) "
    }
   },
   "types_to_exclude": [
    "module",
    "function",
    "builtin_function_or_method",
    "instance",
    "_Feature"
   ],
   "window_display": false
  }
 },
 "nbformat": 4,
 "nbformat_minor": 1
}
