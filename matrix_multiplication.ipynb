{
 "cells": [
  {
   "cell_type": "markdown",
   "metadata": {},
   "source": [
    "# A Brief Review of Matrix Multiplication\n",
    "\n",
    "Next we will review a couple of important ideas from linear algebra, namely \n",
    "\n",
    "1. Linear combinations and the dot product\n",
    "2. Matrix multiplication\n",
    "3. Other matrix transforms such as the transpose and inverse.\n",
    "\n",
    "We start by defining the the fundemental stucture in linear algebra, the vector."
   ]
  },
  {
   "cell_type": "markdown",
   "metadata": {},
   "source": [
    "## Column vectors and row vectors\n",
    "\n",
    "A **vector** is an order sequence of values.  Vectors can be written as either **column vectors**, which stack the value vertically, or **row vectors**, which organize the values horizontally.  Below we illustrate a row vector $\\mathbf{r}$ and a column vector $\\mathbf{c}$\n",
    "\n",
    "$$\\mathbf{c}= \\begin{pmatrix} \n",
    "                 c_{1} \\\\ \n",
    "                 c_{2} \\\\ \n",
    "                 c_{2} \n",
    "              \\end{pmatrix} \\;\n",
    "\\mathbf{r}= \\begin{pmatrix} \n",
    "                 r_{1} & r_2 & r_3\\\\ \n",
    "              \\end{pmatrix}$$\n",
    "              \n",
    "Take a second to consider our typesetting.  Note that we represent a whole vector with **bold, non-italicized font** and an entry of the vector with *an non-bold, italicized font* using the same letter.  This should help keep it clear when we are taking about a whole vector versus an entry in said vector."
   ]
  },
  {
   "cell_type": "markdown",
   "metadata": {},
   "source": [
    "## Column and row vectors in `R`\n",
    "\n",
    "We can construct a vector in `R` using the `c` function.  "
   ]
  },
  {
   "cell_type": "code",
   "execution_count": 14,
   "metadata": {},
   "outputs": [
    {
     "data": {
      "text/html": [
       "<ol class=list-inline>\n",
       "\t<li>1</li>\n",
       "\t<li>2</li>\n",
       "\t<li>3</li>\n",
       "</ol>\n"
      ],
      "text/latex": [
       "\\begin{enumerate*}\n",
       "\\item 1\n",
       "\\item 2\n",
       "\\item 3\n",
       "\\end{enumerate*}\n"
      ],
      "text/markdown": [
       "1. 1\n",
       "2. 2\n",
       "3. 3\n",
       "\n",
       "\n"
      ],
      "text/plain": [
       "[1] 1 2 3"
      ]
     },
     "metadata": {},
     "output_type": "display_data"
    }
   ],
   "source": [
    "v1 <- c(1,2,3)\n",
    "v1"
   ]
  },
  {
   "cell_type": "markdown",
   "metadata": {},
   "source": [
    "We can use `class` to verify that this is an `R` numeric vector (Vectors are also the standard data structure in `R`, so much so that `class` neglects to tell us the \"vector\" part of numeric vector.)"
   ]
  },
  {
   "cell_type": "code",
   "execution_count": 16,
   "metadata": {},
   "outputs": [
    {
     "name": "stdout",
     "output_type": "stream",
     "text": [
      " num [1:3] 1 2 3\n"
     ]
    }
   ],
   "source": [
    "str(v1)"
   ]
  },
  {
   "cell_type": "markdown",
   "metadata": {},
   "source": [
    "Note that `R` will try to guess whether a vector is a row or column vector and, as we will see in the next section, the meaning of a computation will change depending on the location of the vector.  It is good practice to avoid this sort of confusion, so we will use the `rbind` and `cbind` functions to bind our vectors to rows and columns, respectively."
   ]
  },
  {
   "cell_type": "code",
   "execution_count": 37,
   "metadata": {},
   "outputs": [
    {
     "data": {
      "text/html": [
       "<table>\n",
       "<tbody>\n",
       "\t<tr><td>1</td></tr>\n",
       "\t<tr><td>1</td></tr>\n",
       "\t<tr><td>3</td></tr>\n",
       "</tbody>\n",
       "</table>\n"
      ],
      "text/latex": [
       "\\begin{tabular}{l}\n",
       "\t 1\\\\\n",
       "\t 1\\\\\n",
       "\t 3\\\\\n",
       "\\end{tabular}\n"
      ],
      "text/markdown": [
       "\n",
       "| 1 |\n",
       "| 1 |\n",
       "| 3 |\n",
       "\n"
      ],
      "text/plain": [
       "     [,1]\n",
       "[1,] 1   \n",
       "[2,] 1   \n",
       "[3,] 3   "
      ]
     },
     "metadata": {},
     "output_type": "display_data"
    }
   ],
   "source": [
    "c1 <- cbind(c(1,1,3))\n",
    "c1"
   ]
  },
  {
   "cell_type": "code",
   "execution_count": 38,
   "metadata": {
    "scrolled": true
   },
   "outputs": [
    {
     "data": {
      "text/html": [
       "<table>\n",
       "<tbody>\n",
       "\t<tr><td>2</td><td>5</td><td>1</td></tr>\n",
       "</tbody>\n",
       "</table>\n"
      ],
      "text/latex": [
       "\\begin{tabular}{lll}\n",
       "\t 2 & 5 & 1\\\\\n",
       "\\end{tabular}\n"
      ],
      "text/markdown": [
       "\n",
       "| 2 | 5 | 1 |\n",
       "\n"
      ],
      "text/plain": [
       "     [,1] [,2] [,3]\n",
       "[1,] 2    5    1   "
      ]
     },
     "metadata": {},
     "output_type": "display_data"
    }
   ],
   "source": [
    "r1 <- rbind(c(2,5,1))\n",
    "r1"
   ]
  },
  {
   "cell_type": "markdown",
   "metadata": {},
   "source": [
    "Here are some more examples that we will use in the following sections."
   ]
  },
  {
   "cell_type": "code",
   "execution_count": 49,
   "metadata": {},
   "outputs": [],
   "source": [
    "v2 <- c(1, 0, 0)\n",
    "c2 <- cbind(c(1.1, 0.5, 1))\n",
    "r2 <- rbind(c(1,2,1))"
   ]
  },
  {
   "cell_type": "markdown",
   "metadata": {},
   "source": [
    "## Vector arithmetic\n",
    "\n",
    "There are two arithmetic operations defined on vectors, addition and scalar multiplication.\n",
    "\n",
    "**Vector Addition** is only defined for vectors with the same number of entries, is accomplished by adding the corresponding entries, and results in a vector of the same size.\n",
    "\n",
    "#### Adding column vectors\n",
    "\n",
    "$$\\mathbf{a} + \\mathbf{b}= \n",
    "  \\begin{pmatrix} \n",
    "     a_{1} \\\\ \n",
    "     a_{2} \\\\ \n",
    "     a_{3} \n",
    "  \\end{pmatrix} + \n",
    "  \\begin{pmatrix} \n",
    "     b_{1} \\\\ \n",
    "     b_{2} \\\\ \n",
    "     b_{3} \n",
    "  \\end{pmatrix} = \n",
    "  \\begin{pmatrix} \n",
    "     a_1 + b_1\\\\ \n",
    "     a_2 + b_2\\\\ \n",
    "     a_3 + b_3\n",
    "  \\end{pmatrix}$$"
   ]
  },
  {
   "cell_type": "markdown",
   "metadata": {},
   "source": [
    "#### Adding row vectors\n",
    "\n",
    "$$\\mathbf{c} + \\mathbf{d}= \n",
    "  \\begin{pmatrix} \n",
    "     c_{1} &  c_{2} &  c_{3} \n",
    "  \\end{pmatrix} + \n",
    "  \\begin{pmatrix} \n",
    "     d_{1} &  d_{2} &  d_{3} \n",
    "  \\end{pmatrix} = \n",
    "  \\begin{pmatrix} \n",
    "     c_1 + d_1 &  c_2 + d_2 &  c_3 + d_3\n",
    "  \\end{pmatrix}$$\n",
    "  \n",
    "Vector addition is performed in `R` using the regular addition `+` operator"
   ]
  },
  {
   "cell_type": "code",
   "execution_count": 96,
   "metadata": {},
   "outputs": [
    {
     "data": {
      "text/html": [
       "<ol class=list-inline>\n",
       "\t<li>2</li>\n",
       "\t<li>2</li>\n",
       "\t<li>3</li>\n",
       "</ol>\n"
      ],
      "text/latex": [
       "\\begin{enumerate*}\n",
       "\\item 2\n",
       "\\item 2\n",
       "\\item 3\n",
       "\\end{enumerate*}\n"
      ],
      "text/markdown": [
       "1. 2\n",
       "2. 2\n",
       "3. 3\n",
       "\n",
       "\n"
      ],
      "text/plain": [
       "[1] 2 2 3"
      ]
     },
     "metadata": {},
     "output_type": "display_data"
    }
   ],
   "source": [
    "v1 + v2"
   ]
  },
  {
   "cell_type": "code",
   "execution_count": 51,
   "metadata": {},
   "outputs": [
    {
     "data": {
      "text/html": [
       "<table>\n",
       "<tbody>\n",
       "\t<tr><td>2.1</td></tr>\n",
       "\t<tr><td>1.5</td></tr>\n",
       "\t<tr><td>4.0</td></tr>\n",
       "</tbody>\n",
       "</table>\n"
      ],
      "text/latex": [
       "\\begin{tabular}{l}\n",
       "\t 2.1\\\\\n",
       "\t 1.5\\\\\n",
       "\t 4.0\\\\\n",
       "\\end{tabular}\n"
      ],
      "text/markdown": [
       "\n",
       "| 2.1 |\n",
       "| 1.5 |\n",
       "| 4.0 |\n",
       "\n"
      ],
      "text/plain": [
       "     [,1]\n",
       "[1,] 2.1 \n",
       "[2,] 1.5 \n",
       "[3,] 4.0 "
      ]
     },
     "metadata": {},
     "output_type": "display_data"
    }
   ],
   "source": [
    "c1 + c2"
   ]
  },
  {
   "cell_type": "code",
   "execution_count": 97,
   "metadata": {},
   "outputs": [
    {
     "data": {
      "text/html": [
       "<table>\n",
       "<tbody>\n",
       "\t<tr><td>3</td><td>7</td><td>2</td></tr>\n",
       "</tbody>\n",
       "</table>\n"
      ],
      "text/latex": [
       "\\begin{tabular}{lll}\n",
       "\t 3 & 7 & 2\\\\\n",
       "\\end{tabular}\n"
      ],
      "text/markdown": [
       "\n",
       "| 3 | 7 | 2 |\n",
       "\n"
      ],
      "text/plain": [
       "     [,1] [,2] [,3]\n",
       "[1,] 3    7    2   "
      ]
     },
     "metadata": {},
     "output_type": "display_data"
    }
   ],
   "source": [
    "r1 + r2"
   ]
  },
  {
   "cell_type": "code",
   "execution_count": 98,
   "metadata": {},
   "outputs": [
    {
     "data": {
      "text/html": [
       "<table>\n",
       "<tbody>\n",
       "\t<tr><td>2</td></tr>\n",
       "\t<tr><td>3</td></tr>\n",
       "\t<tr><td>6</td></tr>\n",
       "</tbody>\n",
       "</table>\n"
      ],
      "text/latex": [
       "\\begin{tabular}{l}\n",
       "\t 2\\\\\n",
       "\t 3\\\\\n",
       "\t 6\\\\\n",
       "\\end{tabular}\n"
      ],
      "text/markdown": [
       "\n",
       "| 2 |\n",
       "| 3 |\n",
       "| 6 |\n",
       "\n"
      ],
      "text/plain": [
       "     [,1]\n",
       "[1,] 2   \n",
       "[2,] 3   \n",
       "[3,] 6   "
      ]
     },
     "metadata": {},
     "output_type": "display_data"
    }
   ],
   "source": [
    "v1 + c1"
   ]
  },
  {
   "cell_type": "code",
   "execution_count": 99,
   "metadata": {},
   "outputs": [
    {
     "data": {
      "text/html": [
       "<table>\n",
       "<tbody>\n",
       "\t<tr><td>3</td><td>7</td><td>4</td></tr>\n",
       "</tbody>\n",
       "</table>\n"
      ],
      "text/latex": [
       "\\begin{tabular}{lll}\n",
       "\t 3 & 7 & 4\\\\\n",
       "\\end{tabular}\n"
      ],
      "text/markdown": [
       "\n",
       "| 3 | 7 | 4 |\n",
       "\n"
      ],
      "text/plain": [
       "     [,1] [,2] [,3]\n",
       "[1,] 3    7    4   "
      ]
     },
     "metadata": {},
     "output_type": "display_data"
    }
   ],
   "source": [
    "v1 + r1"
   ]
  },
  {
   "cell_type": "code",
   "execution_count": 100,
   "metadata": {},
   "outputs": [
    {
     "ename": "ERROR",
     "evalue": "Error in c1 + r1: non-conformable arrays\n",
     "output_type": "error",
     "traceback": [
      "Error in c1 + r1: non-conformable arrays\nTraceback:\n"
     ]
    }
   ],
   "source": [
    "c1 + r1"
   ]
  },
  {
   "cell_type": "markdown",
   "metadata": {},
   "source": [
    "## <font color=\"red\"> Exercise 1</font>\n",
    "\n",
    "Suppose we define the following vectors.\n",
    "\n",
    "$$\\mathbf{a} =\n",
    "\\begin{pmatrix} \n",
    "     1 \\\\ \n",
    "     2 \\\\ \n",
    "     3 \n",
    "  \\end{pmatrix} \\;\n",
    "\\mathbf{b} =\n",
    "\\begin{pmatrix} \n",
    "     4 \\\\ \n",
    "     5 \\\\ \n",
    "     6 \n",
    "  \\end{pmatrix} \\;\n",
    "\\mathbf{c} =\n",
    "\\begin{pmatrix} \n",
    "     7 \\\\ \n",
    "     8 \\\\ \n",
    "     9 \\\\\n",
    "     10\n",
    "  \\end{pmatrix}$$\n",
    "\n",
    "Compute the sum of all pairs of these vectors by hand and in `R`.  If the sum is note defined, identify the problem (in words) and illustrate what happens when you try to add these vectors in `R`."
   ]
  },
  {
   "cell_type": "markdown",
   "metadata": {},
   "source": [
    "> *Your by-hand computations here"
   ]
  },
  {
   "cell_type": "code",
   "execution_count": 23,
   "metadata": {},
   "outputs": [],
   "source": [
    "# Your code here"
   ]
  },
  {
   "cell_type": "markdown",
   "metadata": {},
   "source": [
    "## Scalar multiplication\n",
    "\n",
    "**Scalar multiplication** involves multiplying a *scalar*, or single number, times a *vector*.  The result of scalar multiplication is another vector of the same size as the original, where every entry is multiplied by the scalar.  Suppose that $c$ is a real-valued scalar, then\n",
    "\n",
    "#### Scalar multiplication with a column vector.\n",
    "\n",
    "$$c*\\mathbf{a} =c\\mathbf{a}= \n",
    "  \\begin{pmatrix} \n",
    "     c*a_{1} \\\\ \n",
    "     c*a_{2} \\\\ \n",
    "     c*a_{3} \n",
    "  \\end{pmatrix}$$\n"
   ]
  },
  {
   "cell_type": "markdown",
   "metadata": {},
   "source": [
    "#### Scalar multiplication with a row vector\n",
    "\n",
    "\n",
    "\n",
    "$$c*\\mathbf{b} = c\\mathbf{b}= \n",
    "  \\begin{pmatrix} \n",
    "     c*b_{1} &  c*b_{2} &  c*b_{3} \n",
    "  \\end{pmatrix}$$\n",
    "  \n",
    "  \n",
    "Similar to vector addition, scalar multiplication is performed in `R` using `*`"
   ]
  },
  {
   "cell_type": "code",
   "execution_count": 101,
   "metadata": {},
   "outputs": [
    {
     "data": {
      "text/html": [
       "<ol class=list-inline>\n",
       "\t<li>2</li>\n",
       "\t<li>4</li>\n",
       "\t<li>6</li>\n",
       "</ol>\n"
      ],
      "text/latex": [
       "\\begin{enumerate*}\n",
       "\\item 2\n",
       "\\item 4\n",
       "\\item 6\n",
       "\\end{enumerate*}\n"
      ],
      "text/markdown": [
       "1. 2\n",
       "2. 4\n",
       "3. 6\n",
       "\n",
       "\n"
      ],
      "text/plain": [
       "[1] 2 4 6"
      ]
     },
     "metadata": {},
     "output_type": "display_data"
    }
   ],
   "source": [
    "2*v1"
   ]
  },
  {
   "cell_type": "code",
   "execution_count": 102,
   "metadata": {},
   "outputs": [
    {
     "data": {
      "text/html": [
       "<ol class=list-inline>\n",
       "\t<li>2</li>\n",
       "\t<li>4</li>\n",
       "\t<li>6</li>\n",
       "</ol>\n"
      ],
      "text/latex": [
       "\\begin{enumerate*}\n",
       "\\item 2\n",
       "\\item 4\n",
       "\\item 6\n",
       "\\end{enumerate*}\n"
      ],
      "text/markdown": [
       "1. 2\n",
       "2. 4\n",
       "3. 6\n",
       "\n",
       "\n"
      ],
      "text/plain": [
       "[1] 2 4 6"
      ]
     },
     "metadata": {},
     "output_type": "display_data"
    }
   ],
   "source": [
    "v1*2 # consider bad form in math classes"
   ]
  },
  {
   "cell_type": "code",
   "execution_count": 103,
   "metadata": {},
   "outputs": [
    {
     "data": {
      "text/html": [
       "<table>\n",
       "<tbody>\n",
       "\t<tr><td>3</td></tr>\n",
       "\t<tr><td>3</td></tr>\n",
       "\t<tr><td>9</td></tr>\n",
       "</tbody>\n",
       "</table>\n"
      ],
      "text/latex": [
       "\\begin{tabular}{l}\n",
       "\t 3\\\\\n",
       "\t 3\\\\\n",
       "\t 9\\\\\n",
       "\\end{tabular}\n"
      ],
      "text/markdown": [
       "\n",
       "| 3 |\n",
       "| 3 |\n",
       "| 9 |\n",
       "\n"
      ],
      "text/plain": [
       "     [,1]\n",
       "[1,] 3   \n",
       "[2,] 3   \n",
       "[3,] 9   "
      ]
     },
     "metadata": {},
     "output_type": "display_data"
    }
   ],
   "source": [
    "3*c1"
   ]
  },
  {
   "cell_type": "code",
   "execution_count": 104,
   "metadata": {},
   "outputs": [
    {
     "data": {
      "text/html": [
       "<table>\n",
       "<tbody>\n",
       "\t<tr><td>6.283185</td><td>15.70796</td><td>3.141593</td></tr>\n",
       "</tbody>\n",
       "</table>\n"
      ],
      "text/latex": [
       "\\begin{tabular}{lll}\n",
       "\t 6.283185 & 15.70796 & 3.141593\\\\\n",
       "\\end{tabular}\n"
      ],
      "text/markdown": [
       "\n",
       "| 6.283185 | 15.70796 | 3.141593 |\n",
       "\n"
      ],
      "text/plain": [
       "     [,1]     [,2]     [,3]    \n",
       "[1,] 6.283185 15.70796 3.141593"
      ]
     },
     "metadata": {},
     "output_type": "display_data"
    }
   ],
   "source": [
    "pi*r1"
   ]
  },
  {
   "cell_type": "markdown",
   "metadata": {},
   "source": [
    "## <font color=\"red\"> Exercise 2</font>\n",
    "\n",
    "Consider the vectors defined in <font color=\"red\">Exercise 1</font>.  Perform each of the following computations, both by-hand and using `R`\n",
    "\n",
    "* What is $2\\mathbf{a}$\n",
    "* What is $1.5\\mathbf{b}$\n",
    "* What is $\\pi\\mathbf{d}$"
   ]
  },
  {
   "cell_type": "markdown",
   "metadata": {},
   "source": [
    "> *Your by-hand computations here"
   ]
  },
  {
   "cell_type": "code",
   "execution_count": 23,
   "metadata": {},
   "outputs": [],
   "source": [
    "# Your code here"
   ]
  },
  {
   "cell_type": "markdown",
   "metadata": {},
   "source": [
    "## Linear combinations\n",
    "\n",
    "A **linear combination** of items involves combining a number of values together through multiplication and addition.  A good example of linear combinations in the wild is a cooking recipe, specifically a recipe for  fruit salad (yummy yummy).  \n",
    "\n",
    "Suppose we have a recipe for a simple fruit salad that mixes \n",
    "\n",
    "* 3 bananas,\n",
    "* 4 peaches,\n",
    "* 15 strawberries, and\n",
    "* 30 blueberries.\n",
    "\n",
    "Mathematically, we might write this process as\n",
    "\n",
    "$$3*b + 4*p + 15*s + 30*b$$\n",
    "\n",
    "This is all there is to a linear combination.\n",
    "\n",
    "Another good example of linear combinations in the wild is totaling a shopping bill.  Suppose that I went shopping for the ingredients to my fruit salad (yummy yummy) and the current prices for each ingredient are currently\n",
    "\n",
    "* Bananas are \\$2 each<br>\n",
    "* Peaches are \\$0.3 each<br>\n",
    "* Strawberries are \\$0.2 each<br>\n",
    "* Blueberries are \\$0.05 each<br>\n",
    "\n",
    "Then the (pre-tax) total of my bill can be expressed with the following linear combination.\n",
    "\n",
    "$$ 3*2 + 4*0.3 + 15*0.2 + 30*0.05 = 11.7$$"
   ]
  },
  {
   "cell_type": "markdown",
   "metadata": {},
   "source": [
    "## Linear combinations of vectors\n",
    "\n",
    "A **linear combination of vectors** is the result of performing scalar multiplication on each vector, then adding the results.\n",
    "\n",
    "$$u*\\mathbf{a} + v*\\mathbf{b}= u\\mathbf{a} + v\\mathbf{b}= \n",
    "  \\begin{pmatrix} \n",
    "     u*a_{1} \\\\ \n",
    "     u*a_{2} \\\\ \n",
    "     u*a_{3} \n",
    "  \\end{pmatrix} + \n",
    "  \\begin{pmatrix} \n",
    "     v*b_{1} \\\\ \n",
    "     v*b_{2} \\\\ \n",
    "     v*b_{3} \n",
    "  \\end{pmatrix} = \n",
    "  \\begin{pmatrix} \n",
    "     u*a_1 + v*b_1\\\\ \n",
    "     u*a_2 + v*b_2\\\\ \n",
    "     u*a_3 + v*b_3\n",
    "  \\end{pmatrix}$$\n",
    "\n",
    "\n",
    "It can be argued that this is most important action that we can perform with vectors, and it turns out that all of linear algebra can be thought of as the study of linear combinations of vectors.  \n",
    "\n",
    "Linear combinations in `R` are easy, just combine multiplication and addition."
   ]
  },
  {
   "cell_type": "code",
   "execution_count": 105,
   "metadata": {},
   "outputs": [
    {
     "data": {
      "text/html": [
       "<ol class=list-inline>\n",
       "\t<li>3</li>\n",
       "\t<li>2</li>\n",
       "\t<li>3</li>\n",
       "</ol>\n"
      ],
      "text/latex": [
       "\\begin{enumerate*}\n",
       "\\item 3\n",
       "\\item 2\n",
       "\\item 3\n",
       "\\end{enumerate*}\n"
      ],
      "text/markdown": [
       "1. 3\n",
       "2. 2\n",
       "3. 3\n",
       "\n",
       "\n"
      ],
      "text/plain": [
       "[1] 3 2 3"
      ]
     },
     "metadata": {},
     "output_type": "display_data"
    }
   ],
   "source": [
    "v1 + 2*v2"
   ]
  },
  {
   "cell_type": "code",
   "execution_count": 106,
   "metadata": {},
   "outputs": [
    {
     "data": {
      "text/html": [
       "<table>\n",
       "<tbody>\n",
       "\t<tr><td>3.65</td></tr>\n",
       "\t<tr><td>2.75</td></tr>\n",
       "\t<tr><td>7.50</td></tr>\n",
       "</tbody>\n",
       "</table>\n"
      ],
      "text/latex": [
       "\\begin{tabular}{l}\n",
       "\t 3.65\\\\\n",
       "\t 2.75\\\\\n",
       "\t 7.50\\\\\n",
       "\\end{tabular}\n"
      ],
      "text/markdown": [
       "\n",
       "| 3.65 |\n",
       "| 2.75 |\n",
       "| 7.50 |\n",
       "\n"
      ],
      "text/plain": [
       "     [,1]\n",
       "[1,] 3.65\n",
       "[2,] 2.75\n",
       "[3,] 7.50"
      ]
     },
     "metadata": {},
     "output_type": "display_data"
    }
   ],
   "source": [
    "2*c1 + 1.5*c2"
   ]
  },
  {
   "cell_type": "code",
   "execution_count": 107,
   "metadata": {},
   "outputs": [
    {
     "data": {
      "text/html": [
       "<table>\n",
       "<tbody>\n",
       "\t<tr><td>13</td><td>38</td><td>1 </td></tr>\n",
       "</tbody>\n",
       "</table>\n"
      ],
      "text/latex": [
       "\\begin{tabular}{lll}\n",
       "\t 13 & 38 & 1 \\\\\n",
       "\\end{tabular}\n"
      ],
      "text/markdown": [
       "\n",
       "| 13 | 38 | 1  |\n",
       "\n"
      ],
      "text/plain": [
       "     [,1] [,2] [,3]\n",
       "[1,] 13   38   1   "
      ]
     },
     "metadata": {},
     "output_type": "display_data"
    }
   ],
   "source": [
    "12*r1 + -11*r2"
   ]
  },
  {
   "cell_type": "markdown",
   "metadata": {},
   "source": [
    "## <font color=\"red\"> Exercise 3</font>\n",
    "\n",
    "Consider the vectors defined in <font color=\"red\">Exercise 1</font>.  Perform each of the following computations, both by-hand and using `R`\n",
    "\n",
    "* What is $2\\mathbf{a} + 0.5\\mathbf{b}$\n",
    "* Investigate the result of linear combinations of the different type of `R` vectors\n",
    "* How might we express $\\mathbf{a} + \\mathbf{b}$ as an linear combination?\n",
    "* Notice that we haven't defined vector subtraction.  Use a linear combination make a reasonable definition for $\\mathbf{a} - \\mathbf{b}$\n",
    "* Why can't we perform a linear combination of $\\mathbf{a}$ and  $\\mathbf{c}$?"
   ]
  },
  {
   "cell_type": "markdown",
   "metadata": {},
   "source": [
    "> *Your by-hand computations and written answers here"
   ]
  },
  {
   "cell_type": "code",
   "execution_count": 25,
   "metadata": {},
   "outputs": [],
   "source": [
    "# Your code here"
   ]
  },
  {
   "cell_type": "markdown",
   "metadata": {},
   "source": [
    "## Linear combinations and the dot product\n",
    "\n",
    "The **dot product** between two vectors is defined for all vectors of the same size and is computed by taking the sum of the products of corresponding entries.\n",
    "\n",
    "$$\\mathbf{a} \\cdot \\mathbf{b}= \n",
    "  \\begin{pmatrix} \n",
    "     a_{1} \\\\ \n",
    "     a_{2} \\\\ \n",
    "     a_{3} \n",
    "  \\end{pmatrix} \\cdot \n",
    "  \\begin{pmatrix} \n",
    "     b_{1} \\\\ \n",
    "     b_{2} \\\\ \n",
    "     b_{3} \n",
    "  \\end{pmatrix} =  a_1b_1 +   a_2b_2 +   a_3b_3$$\n",
    "  \n",
    "In `R` we can compute the dot product between two vectors defined with `c` using the `%*%` operator."
   ]
  },
  {
   "cell_type": "code",
   "execution_count": 27,
   "metadata": {},
   "outputs": [
    {
     "data": {
      "text/html": [
       "<table>\n",
       "<tbody>\n",
       "\t<tr><td>10</td></tr>\n",
       "</tbody>\n",
       "</table>\n"
      ],
      "text/latex": [
       "\\begin{tabular}{l}\n",
       "\t 10\\\\\n",
       "\\end{tabular}\n"
      ],
      "text/markdown": [
       "\n",
       "| 10 |\n",
       "\n"
      ],
      "text/plain": [
       "     [,1]\n",
       "[1,] 10  "
      ]
     },
     "metadata": {},
     "output_type": "display_data"
    }
   ],
   "source": [
    "c(1,2,3) %*% c(3, 2, 1)"
   ]
  },
  {
   "cell_type": "markdown",
   "metadata": {},
   "source": [
    "Note that if we explicitly define our vectors as row and column vectors using `rbind` and `cbind`, then we can only compute the dot product of a row vector (on the left) with a column vector (on the right)."
   ]
  },
  {
   "cell_type": "code",
   "execution_count": 108,
   "metadata": {},
   "outputs": [
    {
     "data": {
      "text/html": [
       "<table>\n",
       "<tbody>\n",
       "\t<tr><td>10</td></tr>\n",
       "</tbody>\n",
       "</table>\n"
      ],
      "text/latex": [
       "\\begin{tabular}{l}\n",
       "\t 10\\\\\n",
       "\\end{tabular}\n"
      ],
      "text/markdown": [
       "\n",
       "| 10 |\n",
       "\n"
      ],
      "text/plain": [
       "     [,1]\n",
       "[1,] 10  "
      ]
     },
     "metadata": {},
     "output_type": "display_data"
    }
   ],
   "source": [
    "rbind(c(1,2,3)) %*% cbind(c(3, 2, 1))"
   ]
  },
  {
   "cell_type": "markdown",
   "metadata": {},
   "source": [
    "Attempting to perform the dot product in the other direction will result something *entirely different* (more on this in the next section)."
   ]
  },
  {
   "cell_type": "code",
   "execution_count": 109,
   "metadata": {},
   "outputs": [
    {
     "data": {
      "text/html": [
       "<table>\n",
       "<tbody>\n",
       "\t<tr><td>3</td><td>2</td><td>1</td></tr>\n",
       "\t<tr><td>6</td><td>4</td><td>2</td></tr>\n",
       "\t<tr><td>9</td><td>6</td><td>3</td></tr>\n",
       "</tbody>\n",
       "</table>\n"
      ],
      "text/latex": [
       "\\begin{tabular}{lll}\n",
       "\t 3 & 2 & 1\\\\\n",
       "\t 6 & 4 & 2\\\\\n",
       "\t 9 & 6 & 3\\\\\n",
       "\\end{tabular}\n"
      ],
      "text/markdown": [
       "\n",
       "| 3 | 2 | 1 |\n",
       "| 6 | 4 | 2 |\n",
       "| 9 | 6 | 3 |\n",
       "\n"
      ],
      "text/plain": [
       "     [,1] [,2] [,3]\n",
       "[1,] 3    2    1   \n",
       "[2,] 6    4    2   \n",
       "[3,] 9    6    3   "
      ]
     },
     "metadata": {},
     "output_type": "display_data"
    }
   ],
   "source": [
    "cbind(c(1,2,3)) %*% rbind(c(3, 2, 1))"
   ]
  },
  {
   "cell_type": "markdown",
   "metadata": {},
   "source": [
    "### Example - Fruit Salad, Yummy Yummy\n",
    "\n",
    "Note that we can think of a dot product as a linear combination, with the coefficients in the left-hand vector and the values being combined in the right-hand vector. If we put the fruit quantities in a (row) vector $\\mathbf{c}$ and the prices in a (column) vector $\\mathbf{p}$, as shown below\n",
    "\n",
    "$$\n",
    "\\mathbf{c}= \n",
    "\\begin{pmatrix} \n",
    "  3  &  4  &  15 &  30\\\\\n",
    "\\end{pmatrix} \\;\n",
    "\\mathbf{p}= \n",
    "\\begin{pmatrix} \n",
    "  2  \\\\ \n",
    "  0.3  \\\\ \n",
    "  0.2 \\\\ \n",
    "  0.05\n",
    "\\end{pmatrix}$$\n",
    "\n",
    "Then the dot product of $\\mathbf{c}$ and $\\mathbf{p}$ gives \n",
    "\n",
    "$$\n",
    "\\mathbf{c} \\cdot \\mathbf{p}= \n",
    "\\begin{pmatrix} \n",
    "  3  &  4  &  15 &  30\\\\\n",
    "\\end{pmatrix}\\cdot\n",
    "\\begin{pmatrix} \n",
    "  2  \\\\ \n",
    "  0.3  \\\\ \n",
    "  0.2 \\\\ \n",
    "  0.05\n",
    "\\end{pmatrix} = 3*2 + 4*0.3 + 15*0.2 + 30*0.05 = 11.7;$$\n",
    "\n",
    "Which was exactly the computation from the last section. There are other ways of thinking about a dot product (i.e. thinking about lengths and angles), but in this class this will be our primary focus."
   ]
  },
  {
   "cell_type": "markdown",
   "metadata": {},
   "source": [
    "## Matrices and matrix arithmetic\n",
    "\n",
    "A matrix $\\mathbf{A}$ is a collection of numbers stored in an array with $n$ rows and $m$ columns.  For convenience, we describe the size of such a matrix as $n\\times m$, where the numbers represent the number of rows and columns, respectively.  For example, we might write a $2\\times 2$ matrix $\\mathbf{A}$ as follows.\n",
    "\n",
    "$$\\mathbf{A}= \\begin{pmatrix} \n",
    "                 a_{11} & a_{12} \\\\ \n",
    "                 a_{21} & a_{22} \n",
    "              \\end{pmatrix}$$\n",
    "\n",
    "Matrices can be defined in `R` using by either binding rows with `rbind`, or columns with `cbind`, as shown below. "
   ]
  },
  {
   "cell_type": "code",
   "execution_count": 70,
   "metadata": {},
   "outputs": [
    {
     "data": {
      "text/html": [
       "<table>\n",
       "<tbody>\n",
       "\t<tr><td>1</td><td>2</td><td>3</td></tr>\n",
       "\t<tr><td>1</td><td>3</td><td>1</td></tr>\n",
       "</tbody>\n",
       "</table>\n"
      ],
      "text/latex": [
       "\\begin{tabular}{lll}\n",
       "\t 1 & 2 & 3\\\\\n",
       "\t 1 & 3 & 1\\\\\n",
       "\\end{tabular}\n"
      ],
      "text/markdown": [
       "\n",
       "| 1 | 2 | 3 |\n",
       "| 1 | 3 | 1 |\n",
       "\n"
      ],
      "text/plain": [
       "     [,1] [,2] [,3]\n",
       "[1,] 1    2    3   \n",
       "[2,] 1    3    1   "
      ]
     },
     "metadata": {},
     "output_type": "display_data"
    }
   ],
   "source": [
    "A = rbind(c(1,2,3),\n",
    "          c(1,3,1))\n",
    "A"
   ]
  },
  {
   "cell_type": "code",
   "execution_count": 77,
   "metadata": {},
   "outputs": [
    {
     "data": {
      "text/html": [
       "<table>\n",
       "<tbody>\n",
       "\t<tr><td>1</td><td>3</td></tr>\n",
       "\t<tr><td>1</td><td>3</td></tr>\n",
       "\t<tr><td>2</td><td>2</td></tr>\n",
       "</tbody>\n",
       "</table>\n"
      ],
      "text/latex": [
       "\\begin{tabular}{ll}\n",
       "\t 1 & 3\\\\\n",
       "\t 1 & 3\\\\\n",
       "\t 2 & 2\\\\\n",
       "\\end{tabular}\n"
      ],
      "text/markdown": [
       "\n",
       "| 1 | 3 |\n",
       "| 1 | 3 |\n",
       "| 2 | 2 |\n",
       "\n"
      ],
      "text/plain": [
       "     [,1] [,2]\n",
       "[1,] 1    3   \n",
       "[2,] 1    3   \n",
       "[3,] 2    2   "
      ]
     },
     "metadata": {},
     "output_type": "display_data"
    }
   ],
   "source": [
    "B = cbind(c(1,1,2),\n",
    "          c(3,3,2))\n",
    "B"
   ]
  },
  {
   "cell_type": "markdown",
   "metadata": {},
   "source": [
    "The author prefers `rbind`, as the matrix is represented in the correct order in the code, making it easier to read."
   ]
  },
  {
   "cell_type": "code",
   "execution_count": 110,
   "metadata": {},
   "outputs": [
    {
     "data": {
      "text/html": [
       "<table>\n",
       "<tbody>\n",
       "\t<tr><td>1</td><td>1</td></tr>\n",
       "\t<tr><td>2</td><td>2</td></tr>\n",
       "\t<tr><td>3</td><td>1</td></tr>\n",
       "</tbody>\n",
       "</table>\n"
      ],
      "text/latex": [
       "\\begin{tabular}{ll}\n",
       "\t 1 & 1\\\\\n",
       "\t 2 & 2\\\\\n",
       "\t 3 & 1\\\\\n",
       "\\end{tabular}\n"
      ],
      "text/markdown": [
       "\n",
       "| 1 | 1 |\n",
       "| 2 | 2 |\n",
       "| 3 | 1 |\n",
       "\n"
      ],
      "text/plain": [
       "     [,1] [,2]\n",
       "[1,] 1    1   \n",
       "[2,] 2    2   \n",
       "[3,] 3    1   "
      ]
     },
     "metadata": {},
     "output_type": "display_data"
    }
   ],
   "source": [
    "C = rbind(c(1,1),\n",
    "          c(2,2),\n",
    "          c(3,1))\n",
    "C"
   ]
  },
  {
   "cell_type": "markdown",
   "metadata": {},
   "source": [
    "#### Scalar matrix multiplication\n",
    "\n",
    "We define scalar matrix multiplication and matrix addition in an analogous way to the vector definitions.  Again, scalar multiplication involves multiplying a scalar (single number) with a matrix; and again this computation is resolved by multiplying each element by said scalar.  \n",
    "\n",
    "$$c\\mathbf{A}= c\\begin{pmatrix} \n",
    "                 a_{11} & a_{12} \\\\ \n",
    "                 a_{21} & a_{22} \n",
    "              \\end{pmatrix} =\n",
    "              \\begin{pmatrix} \n",
    "                ca_{11} & ca_{12} \\\\ \n",
    "                ca_{21} &  ca_{22} \n",
    "              \\end{pmatrix} $$\n",
    "\n",
    "As before, scalar multiplication is performed in `R` using `*`"
   ]
  },
  {
   "cell_type": "code",
   "execution_count": 72,
   "metadata": {},
   "outputs": [
    {
     "data": {
      "text/html": [
       "<table>\n",
       "<tbody>\n",
       "\t<tr><td>2</td><td>4</td><td>6</td></tr>\n",
       "\t<tr><td>2</td><td>6</td><td>2</td></tr>\n",
       "</tbody>\n",
       "</table>\n"
      ],
      "text/latex": [
       "\\begin{tabular}{lll}\n",
       "\t 2 & 4 & 6\\\\\n",
       "\t 2 & 6 & 2\\\\\n",
       "\\end{tabular}\n"
      ],
      "text/markdown": [
       "\n",
       "| 2 | 4 | 6 |\n",
       "| 2 | 6 | 2 |\n",
       "\n"
      ],
      "text/plain": [
       "     [,1] [,2] [,3]\n",
       "[1,] 2    4    6   \n",
       "[2,] 2    6    2   "
      ]
     },
     "metadata": {},
     "output_type": "display_data"
    }
   ],
   "source": [
    "2*A"
   ]
  },
  {
   "cell_type": "markdown",
   "metadata": {},
   "source": [
    "#### Matrix-vector multiplication\n",
    "\n",
    "Next, let's look at matrix-vector multiplication (with the matrix on the left).  The result of $\\mathbf{A}\\mathbf{b}$, is as an example, if $\\mathbf{A}$ is a $2\\times 2$ matrix and $\\mathbf{b}$ is a $2\\times 1$ vector, then the matrix $\\mathbf{A}\\mathbf{b}$ is $2\\times 1$, as follows:\n",
    "\n",
    "$$\\mathbf{A}\\mathbf{b}= \\begin{pmatrix} \n",
    "                 a_{11} & a_{12} \\\\ \n",
    "                 a_{21} & a_{22} \\end{pmatrix}\n",
    "              \\begin{pmatrix} \n",
    "                  b_1\\\\ b_2 \n",
    "              \\end{pmatrix} =\n",
    "              \\begin{pmatrix} \n",
    "                a_{11} b_1 + a_{12}b_2 \\\\ \n",
    "                a_{21}b_1 + a_{22}b_2 \n",
    "              \\end{pmatrix} $$\n",
    "              \n",
    "              \n",
    "<img src=\"./img/matrix_vector_multiplication.gif\" width=600>"
   ]
  },
  {
   "cell_type": "markdown",
   "metadata": {},
   "source": [
    "#### Matrix multiplication\n",
    "\n",
    "It is also important to recall the definition of matrix multiplication, we illustrate below for two $2 \\times 2$ matrices.\n",
    "\n",
    "\n",
    "$$\\mathbf{AB}= \\begin{pmatrix} \n",
    "                 a_{11} & a_{12}\\\\ \n",
    "                 a_{21} & a_{22}\n",
    "              \\end{pmatrix}\n",
    "              \\begin{pmatrix} \n",
    "                 b_{11} & b_{12}\\\\ \n",
    "                 b_{21} & b_{22}\n",
    "              \\end{pmatrix} =\n",
    "              \\begin{pmatrix} \n",
    "                a_{11}b_{11} + a_{12}b_{21} & a_{11}b_{12} + a_{12}b_{22}\\\\ \n",
    "                a_{21}b_{11} + a_{22}b_{21} & a_{21}b_{12} + a_{22}b_{22} \n",
    "              \\end{pmatrix} $$\n",
    "\n",
    "Matrix multiplication involves multiplying the entries of rows in the first matrix with the entries of the corresponding column in the second; then summing the results of these products. \n",
    "\n",
    "We illustrate by adding another column to the example animated above, and picking up where we left off.\n",
    "\n",
    "<img src=\"./img/matrix_multiplication.gif\" width=600>\n",
    "\n",
    "If we need to multiply larger matrices, we simply continue this process for each column in the right-hand matrix."
   ]
  },
  {
   "cell_type": "markdown",
   "metadata": {},
   "source": [
    "We can use `R` to compute the result of matrix multiplication using the `%*%` operator.  "
   ]
  },
  {
   "cell_type": "code",
   "execution_count": 75,
   "metadata": {},
   "outputs": [
    {
     "data": {
      "text/html": [
       "<table>\n",
       "<tbody>\n",
       "\t<tr><td>9 </td><td>15</td></tr>\n",
       "\t<tr><td>6 </td><td>14</td></tr>\n",
       "</tbody>\n",
       "</table>\n"
      ],
      "text/latex": [
       "\\begin{tabular}{ll}\n",
       "\t 9  & 15\\\\\n",
       "\t 6  & 14\\\\\n",
       "\\end{tabular}\n"
      ],
      "text/markdown": [
       "\n",
       "| 9  | 15 |\n",
       "| 6  | 14 |\n",
       "\n"
      ],
      "text/plain": [
       "     [,1] [,2]\n",
       "[1,] 9    15  \n",
       "[2,] 6    14  "
      ]
     },
     "metadata": {},
     "output_type": "display_data"
    }
   ],
   "source": [
    "A %*% B"
   ]
  },
  {
   "cell_type": "markdown",
   "metadata": {},
   "source": [
    "Note that matrix multiplication is only defined if the number of rows on the LHS matches the number of columns on the RHS.  Consequently, $BC$ is undefined for the matrices defined above, as $B$ and $C$ are both $3\\times 2$."
   ]
  },
  {
   "cell_type": "code",
   "execution_count": 87,
   "metadata": {},
   "outputs": [
    {
     "ename": "ERROR",
     "evalue": "Error in B %*% C: non-conformable arguments\n",
     "output_type": "error",
     "traceback": [
      "Error in B %*% C: non-conformable arguments\nTraceback:\n"
     ]
    }
   ],
   "source": [
    "B %*% C"
   ]
  },
  {
   "cell_type": "markdown",
   "metadata": {},
   "source": [
    "## <font color=\"red\"> Exercise 4</font>\n",
    "\n",
    "Compute the following products, if possible.\n",
    "\n",
    "1. $BA$\n",
    "2. $BC$\n",
    "3. $CB$\n",
    "\n",
    "If the multiplication is not defined, identify the problem."
   ]
  },
  {
   "cell_type": "markdown",
   "metadata": {},
   "source": [
    "> *Your by-hand computations and written answers here"
   ]
  },
  {
   "cell_type": "code",
   "execution_count": 25,
   "metadata": {},
   "outputs": [],
   "source": [
    "# Your code here"
   ]
  },
  {
   "cell_type": "markdown",
   "metadata": {},
   "source": [
    "A nice way to check if multiplication is defined is to write out the matrix sizes, side-by-side, in the order of the multiplication.  If the multiplication is defined, the middle two numbers will match.  Furthermore, the outside number determine the size of the resulting matrix (when defined). \n",
    "\n",
    "#### Example 1\n",
    "\n",
    "For $AB$ we get\n",
    "\n",
    "$$ \\left(2 \\times 3\\right) * \\left(3 \\times 2\\right),$$\n",
    "\n",
    "and since the inner numbers match the multiplication is defined and we will get a $2\\times 2$ matrix (outer numbers).\n",
    "\n",
    "#### Example 2\n",
    "\n",
    "For $B$ and $C$ we have\n",
    "\n",
    "$$ \\left(3 \\times 2\\right) * \\left(3 \\times 2\\right)$$\n",
    "\n",
    "and we note that the inside numbers (2 and 3) don't match, so the multiplication is not defined."
   ]
  },
  {
   "cell_type": "code",
   "execution_count": 86,
   "metadata": {},
   "outputs": [
    {
     "data": {
      "text/html": [
       "<table>\n",
       "<tbody>\n",
       "\t<tr><td>1</td><td>3</td></tr>\n",
       "\t<tr><td>1</td><td>3</td></tr>\n",
       "\t<tr><td>2</td><td>2</td></tr>\n",
       "</tbody>\n",
       "</table>\n"
      ],
      "text/latex": [
       "\\begin{tabular}{ll}\n",
       "\t 1 & 3\\\\\n",
       "\t 1 & 3\\\\\n",
       "\t 2 & 2\\\\\n",
       "\\end{tabular}\n"
      ],
      "text/markdown": [
       "\n",
       "| 1 | 3 |\n",
       "| 1 | 3 |\n",
       "| 2 | 2 |\n",
       "\n"
      ],
      "text/plain": [
       "     [,1] [,2]\n",
       "[1,] 1    3   \n",
       "[2,] 1    3   \n",
       "[3,] 2    2   "
      ]
     },
     "metadata": {},
     "output_type": "display_data"
    }
   ],
   "source": [
    "B"
   ]
  },
  {
   "cell_type": "markdown",
   "metadata": {},
   "source": [
    "## <font color=\"red\"> Exercise 4</font>\n",
    "\n",
    "Use the method defined above to (a) determine if the multiplication is defined and if so, (b) determine the size of the output.\n",
    "\n",
    "1. $BA$\n",
    "2. $BC$\n",
    "3. $CB$"
   ]
  },
  {
   "cell_type": "markdown",
   "metadata": {},
   "source": [
    "> *Your by-hand computations and written answers here"
   ]
  },
  {
   "cell_type": "markdown",
   "metadata": {},
   "source": [
    "## Solving systems of equations with matrices\n",
    "\n",
    "Finally, we review the matrix inverse.  Recall that a matrix equation $\\mathbf{A}\\mathbf{x} = \\mathbf{b}$ corresponds to a linear system of equations.  For example, the system shown below \n",
    "corresponds to the matrix equation is given by $\\mathbf{A}\\mathbf{x}=\\mathbf{b}$.\n",
    "\n",
    "$$\\begin{array}{ccccc}\n",
    "2x & + & 3y & = & 5\\\\\n",
    "x & - & y & = & 7\n",
    "\\end{array} \n",
    "\\Longrightarrow\n",
    "\\begin{pmatrix}\n",
    "2 & 3\\\\\n",
    "1 & -1\n",
    "\\end{pmatrix} \n",
    "\\begin{pmatrix}\n",
    "  x\\\\\n",
    "  y\n",
    "\\end{pmatrix} = \n",
    "\\begin{pmatrix}\n",
    "  5\\\\\n",
    "  7\n",
    "\\end{pmatrix} .$$\n",
    "\n",
    "If a system has a unique solution, then the matrix $\\mathbf{A}$ will have a matrix inverse, denoted $\\mathbf{A}^{-1}$, and the solution to the original equation can be written as $\\mathbf{x} = \\mathbf{A}^{-1}\\mathbf{b}$ ^[Read more about computing the inverse on [Wikipedia](https://en.wikipedia.org/wiki/Invertible_matrix).].  R can be used to solve a system in this way, as follows."
   ]
  },
  {
   "cell_type": "code",
   "execution_count": 111,
   "metadata": {},
   "outputs": [
    {
     "data": {
      "text/html": [
       "<table>\n",
       "<tbody>\n",
       "\t<tr><td>2 </td><td> 3</td></tr>\n",
       "\t<tr><td>1 </td><td>-1</td></tr>\n",
       "</tbody>\n",
       "</table>\n"
      ],
      "text/latex": [
       "\\begin{tabular}{ll}\n",
       "\t 2  &  3\\\\\n",
       "\t 1  & -1\\\\\n",
       "\\end{tabular}\n"
      ],
      "text/markdown": [
       "\n",
       "| 2  |  3 |\n",
       "| 1  | -1 |\n",
       "\n"
      ],
      "text/plain": [
       "     [,1] [,2]\n",
       "[1,] 2     3  \n",
       "[2,] 1    -1  "
      ]
     },
     "metadata": {},
     "output_type": "display_data"
    }
   ],
   "source": [
    "A <- rbind(c(2,3),\n",
    "           c(1,-1))\n",
    "A"
   ]
  },
  {
   "cell_type": "code",
   "execution_count": 112,
   "metadata": {},
   "outputs": [
    {
     "data": {
      "text/html": [
       "<table>\n",
       "<tbody>\n",
       "\t<tr><td>5</td></tr>\n",
       "\t<tr><td>7</td></tr>\n",
       "</tbody>\n",
       "</table>\n"
      ],
      "text/latex": [
       "\\begin{tabular}{l}\n",
       "\t 5\\\\\n",
       "\t 7\\\\\n",
       "\\end{tabular}\n"
      ],
      "text/markdown": [
       "\n",
       "| 5 |\n",
       "| 7 |\n",
       "\n"
      ],
      "text/plain": [
       "     [,1]\n",
       "[1,] 5   \n",
       "[2,] 7   "
      ]
     },
     "metadata": {},
     "output_type": "display_data"
    }
   ],
   "source": [
    "b <- cbind(c(5,7))\n",
    "b"
   ]
  },
  {
   "cell_type": "code",
   "execution_count": 113,
   "metadata": {},
   "outputs": [
    {
     "data": {
      "text/html": [
       "<table>\n",
       "<tbody>\n",
       "\t<tr><td>0.2 </td><td> 0.6</td></tr>\n",
       "\t<tr><td>0.2 </td><td>-0.4</td></tr>\n",
       "</tbody>\n",
       "</table>\n"
      ],
      "text/latex": [
       "\\begin{tabular}{ll}\n",
       "\t 0.2  &  0.6\\\\\n",
       "\t 0.2  & -0.4\\\\\n",
       "\\end{tabular}\n"
      ],
      "text/markdown": [
       "\n",
       "| 0.2  |  0.6 |\n",
       "| 0.2  | -0.4 |\n",
       "\n"
      ],
      "text/plain": [
       "     [,1] [,2]\n",
       "[1,] 0.2   0.6\n",
       "[2,] 0.2  -0.4"
      ]
     },
     "metadata": {},
     "output_type": "display_data"
    }
   ],
   "source": [
    "A.inverse <- solve(A)\n",
    "A.inverse"
   ]
  },
  {
   "cell_type": "code",
   "execution_count": 114,
   "metadata": {},
   "outputs": [
    {
     "data": {
      "text/html": [
       "<table>\n",
       "<tbody>\n",
       "\t<tr><td> 5.2</td></tr>\n",
       "\t<tr><td>-1.8</td></tr>\n",
       "</tbody>\n",
       "</table>\n"
      ],
      "text/latex": [
       "\\begin{tabular}{l}\n",
       "\t  5.2\\\\\n",
       "\t -1.8\\\\\n",
       "\\end{tabular}\n"
      ],
      "text/markdown": [
       "\n",
       "|  5.2 |\n",
       "| -1.8 |\n",
       "\n"
      ],
      "text/plain": [
       "     [,1]\n",
       "[1,]  5.2\n",
       "[2,] -1.8"
      ]
     },
     "metadata": {},
     "output_type": "display_data"
    }
   ],
   "source": [
    "x <- A.inverse %*% b\n",
    "x"
   ]
  },
  {
   "cell_type": "markdown",
   "metadata": {},
   "source": [
    "We can double check this solution by computing $\\mathbf{A}\\mathbf{x}$ and making sure it is the same as $\\mathbf{b}$."
   ]
  },
  {
   "cell_type": "code",
   "execution_count": 115,
   "metadata": {},
   "outputs": [
    {
     "data": {
      "text/html": [
       "<table>\n",
       "<tbody>\n",
       "\t<tr><td>5</td></tr>\n",
       "\t<tr><td>7</td></tr>\n",
       "</tbody>\n",
       "</table>\n"
      ],
      "text/latex": [
       "\\begin{tabular}{l}\n",
       "\t 5\\\\\n",
       "\t 7\\\\\n",
       "\\end{tabular}\n"
      ],
      "text/markdown": [
       "\n",
       "| 5 |\n",
       "| 7 |\n",
       "\n"
      ],
      "text/plain": [
       "     [,1]\n",
       "[1,] 5   \n",
       "[2,] 7   "
      ]
     },
     "metadata": {},
     "output_type": "display_data"
    }
   ],
   "source": [
    "A %*% x"
   ]
  },
  {
   "cell_type": "markdown",
   "metadata": {},
   "source": [
    "## The transpose of a matrix\n",
    "\n",
    "Finally, we note that the **transpose** of a matrix $\\mathbf{A}$, denoted $\\mathbf{A}^T$, is contructed using the rows of $\\mathbf{A}$ as columns. \n",
    "\n",
    "$$\\mathbf{A}= \\begin{pmatrix} \n",
    "                 a_{11} & a_{12}\\\\ \n",
    "                 a_{21} & a_{22}\n",
    "              \\end{pmatrix} \\Rightarrow \\mathbf{A}^T = \n",
    "              \\begin{pmatrix} \n",
    "                 a_{11} & a_{21}\\\\ \n",
    "                 a_{12} & a_{22}\n",
    "              \\end{pmatrix}$$\n",
    "\n",
    "We can compute the transpose in R using the `t` function, as follows."
   ]
  },
  {
   "cell_type": "code",
   "execution_count": 116,
   "metadata": {},
   "outputs": [
    {
     "data": {
      "text/html": [
       "<table>\n",
       "<tbody>\n",
       "\t<tr><td>2 </td><td> 3</td></tr>\n",
       "\t<tr><td>1 </td><td>-1</td></tr>\n",
       "</tbody>\n",
       "</table>\n"
      ],
      "text/latex": [
       "\\begin{tabular}{ll}\n",
       "\t 2  &  3\\\\\n",
       "\t 1  & -1\\\\\n",
       "\\end{tabular}\n"
      ],
      "text/markdown": [
       "\n",
       "| 2  |  3 |\n",
       "| 1  | -1 |\n",
       "\n"
      ],
      "text/plain": [
       "     [,1] [,2]\n",
       "[1,] 2     3  \n",
       "[2,] 1    -1  "
      ]
     },
     "metadata": {},
     "output_type": "display_data"
    }
   ],
   "source": [
    "A <- rbind(c(2,3),\n",
    "           c(1,-1))\n",
    "A"
   ]
  },
  {
   "cell_type": "code",
   "execution_count": 117,
   "metadata": {},
   "outputs": [
    {
     "data": {
      "text/html": [
       "<table>\n",
       "<tbody>\n",
       "\t<tr><td>2 </td><td> 1</td></tr>\n",
       "\t<tr><td>3 </td><td>-1</td></tr>\n",
       "</tbody>\n",
       "</table>\n"
      ],
      "text/latex": [
       "\\begin{tabular}{ll}\n",
       "\t 2  &  1\\\\\n",
       "\t 3  & -1\\\\\n",
       "\\end{tabular}\n"
      ],
      "text/markdown": [
       "\n",
       "| 2  |  1 |\n",
       "| 3  | -1 |\n",
       "\n"
      ],
      "text/plain": [
       "     [,1] [,2]\n",
       "[1,] 2     1  \n",
       "[2,] 3    -1  "
      ]
     },
     "metadata": {},
     "output_type": "display_data"
    }
   ],
   "source": [
    "t(A) # Transpose"
   ]
  },
  {
   "cell_type": "code",
   "execution_count": null,
   "metadata": {},
   "outputs": [],
   "source": []
  }
 ],
 "metadata": {
  "kernelspec": {
   "display_name": "R",
   "language": "R",
   "name": "ir"
  },
  "language_info": {
   "codemirror_mode": "r",
   "file_extension": ".r",
   "mimetype": "text/x-r-source",
   "name": "R",
   "pygments_lexer": "r",
   "version": "3.5.1"
  },
  "varInspector": {
   "cols": {
    "lenName": 16,
    "lenType": 16,
    "lenVar": 40
   },
   "kernels_config": {
    "python": {
     "delete_cmd_postfix": "",
     "delete_cmd_prefix": "del ",
     "library": "var_list.py",
     "varRefreshCmd": "print(var_dic_list())"
    },
    "r": {
     "delete_cmd_postfix": ") ",
     "delete_cmd_prefix": "rm(",
     "library": "var_list.r",
     "varRefreshCmd": "cat(var_dic_list()) "
    }
   },
   "types_to_exclude": [
    "module",
    "function",
    "builtin_function_or_method",
    "instance",
    "_Feature"
   ],
   "window_display": false
  }
 },
 "nbformat": 4,
 "nbformat_minor": 2
}
