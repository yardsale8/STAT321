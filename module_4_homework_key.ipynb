{
  "nbformat": 4,
  "nbformat_minor": 0,
  "metadata": {
    "colab": {
      "name": "the_statistical_model.ipynb",
      "provenance": []
    },
    "kernelspec": {
      "display_name": "R",
      "language": "R",
      "name": "ir"
    },
    "language_info": {
      "codemirror_mode": "r",
      "file_extension": ".r",
      "mimetype": "text/x-r-source",
      "name": "R",
      "pygments_lexer": "r",
      "version": "3.6.0"
    },
    "varInspector": {
      "cols": {
        "lenName": 16,
        "lenType": 16,
        "lenVar": 40
      },
      "kernels_config": {
        "python": {
          "delete_cmd_postfix": "",
          "delete_cmd_prefix": "del ",
          "library": "var_list.py",
          "varRefreshCmd": "print(var_dic_list())"
        },
        "r": {
          "delete_cmd_postfix": ") ",
          "delete_cmd_prefix": "rm(",
          "library": "var_list.r",
          "varRefreshCmd": "cat(var_dic_list()) "
        }
      },
      "types_to_exclude": [
        "module",
        "function",
        "builtin_function_or_method",
        "instance",
        "_Feature"
      ],
      "window_display": false
    }
  },
  "cells": [
    {
      "cell_type": "markdown",
      "metadata": {
        "colab_type": "text",
        "id": "T9-tv82uQzNx"
      },
      "source": [
        "## Module 4 Homework"
      ]
    },
    {
      "cell_type": "markdown",
      "metadata": {
        "colab_type": "text",
        "id": "qxjHbFHLQzN4"
      },
      "source": [
        "An article in the *ACI Materials Journal* (Vol/ 85, 1987, pp. 213-216) describes several experiments investigating the rodding of concrete to remove entrapped air.  A 3-inch X 6-inch cylinder was used, and the number of times this rod was used is the design variable.  The resulting compressive strength of the concrete specimen is the response.  The data are available in the file **rodding_concrete.csv**."
      ]
    },
    {
      "cell_type": "markdown",
      "metadata": {
        "colab_type": "text",
        "id": "otO7Z6t1uv6m"
      },
      "source": [
        "1. Write out the the formal statistical model for these data and interpret each term in the context of the problem."
      ]
    },
    {
      "cell_type": "markdown",
      "metadata": {
        "colab_type": "text",
        "id": "yH96VPg9uv6q"
      },
      "source": [
        "$$ your\\;equation\\;here $$"
      ]
    },
    {
      "cell_type": "markdown",
      "metadata": {
        "colab_type": "text",
        "id": "fU76PQ_vuv6u"
      },
      "source": [
        "> Write out an interpretation for each term in the model."
      ]
    },
    {
      "cell_type": "markdown",
      "metadata": {
        "colab_type": "text",
        "id": "3ff8VsfHuv61"
      },
      "source": [
        "2. Below, I have included  the code that reads the data into a data frame called `rodding`.  Start by using `R` to create side-by-side boxplots and commenting on what you learn."
      ]
    },
    {
      "cell_type": "markdown",
      "metadata": {
        "colab_type": "text",
        "id": "TLbeoapYuv64"
      },
      "source": [
        "rodding = read.csv(\"https://github.com/yardsale8/STAT321/raw/master/rodding_concrete.csv\")\n",
        "head(rodding)"
      ]
    },
    {
      "cell_type": "markdown",
      "metadata": {
        "colab_type": "text",
        "id": "_sdtJQsEuv69"
      },
      "source": [
        "# Your code here"
      ]
    },
    {
      "cell_type": "markdown",
      "metadata": {
        "colab_type": "text",
        "id": "NAYdEGccuv6_"
      },
      "source": [
        "3. Use `R` to create the design matrix for this experiment.  Be sure to reparameterize as shown in the notes (page 8)."
      ]
    },
    {
      "cell_type": "markdown",
      "metadata": {
        "colab_type": "text",
        "id": "Zyfk0me-uv7D"
      },
      "source": [
        "# Your code here"
      ]
    },
    {
      "cell_type": "markdown",
      "metadata": {
        "colab_type": "text",
        "id": "hOB-Ke48uv7G"
      },
      "source": [
        "4. Use matrix arithmetic to compute each of the following: $\\mathbf{r}$, $SSE$, $MSE$ and the $SE$ for each term in the model."
      ]
    },
    {
      "cell_type": "markdown",
      "metadata": {
        "colab_type": "text",
        "id": "kcY05FRouv7K"
      },
      "source": [
        "# Your code here"
      ]
    },
    {
      "cell_type": "markdown",
      "metadata": {
        "colab_type": "text",
        "id": "_GWb15qBuv7M"
      },
      "source": [
        "5. Use JMP to verify all of your calculations.  Take a screenshot of the relevant output be sure to paste your JMP screenshot into your Word file and answer the following question."
      ]
    },
    {
      "cell_type": "markdown",
      "metadata": {
        "colab_type": "text",
        "id": "LHYG_GcJuv7P"
      },
      "source": [
        "> Did your calculations match JMP?"
      ]
    }
  ]
}