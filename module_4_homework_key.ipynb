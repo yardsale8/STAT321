{
  "nbformat": 4,
  "nbformat_minor": 0,
  "metadata": {
    "colab": {
      "name": "the_statistical_model.ipynb",
      "provenance": []
    },
    "kernelspec": {
      "display_name": "R",
      "language": "R",
      "name": "ir"
    },
    "language_info": {
      "codemirror_mode": "r",
      "file_extension": ".r",
      "mimetype": "text/x-r-source",
      "name": "R",
      "pygments_lexer": "r",
      "version": "3.6.0"
    },
    "varInspector": {
      "cols": {
        "lenName": 16,
        "lenType": 16,
        "lenVar": 40
      },
      "kernels_config": {
        "python": {
          "delete_cmd_postfix": "",
          "delete_cmd_prefix": "del ",
          "library": "var_list.py",
          "varRefreshCmd": "print(var_dic_list())"
        },
        "r": {
          "delete_cmd_postfix": ") ",
          "delete_cmd_prefix": "rm(",
          "library": "var_list.r",
          "varRefreshCmd": "cat(var_dic_list()) "
        }
      },
      "types_to_exclude": [
        "module",
        "function",
        "builtin_function_or_method",
        "instance",
        "_Feature"
      ],
      "window_display": false
    }
  },
  "cells": [
    {
      "cell_type": "markdown",
      "metadata": {
        "colab_type": "text",
        "id": "T9-tv82uQzNx"
      },
      "source": [
        "## Module 4 Homework"
      ]
    },
    {
      "cell_type": "markdown",
      "metadata": {
        "colab_type": "text",
        "id": "qxjHbFHLQzN4"
      },
      "source": [
        "An article in the *ACI Materials Journal* (Vol/ 85, 1987, pp. 213-216) describes several experiments investigating the rodding of concrete to remove entrapped air.  A 3-inch X 6-inch cylinder was used, and the number of times this rod was used is the design variable.  The resulting compressive strength of the concrete specimen is the response.  The data are available in the file **rodding_concrete.csv**."
      ]
    },
    {
      "cell_type": "markdown",
      "metadata": {
        "colab_type": "text",
        "id": "otO7Z6t1uv6m"
      },
      "source": [
        "1. Write out the the formal statistical model for these data and interpret each term in the context of the problem."
      ]
    },
    {
      "cell_type": "markdown",
      "metadata": {
        "colab_type": "text",
        "id": "yH96VPg9uv6q"
      },
      "source": [
        "$$ y_{ij} = \\mu + \\tau_i + \\epsilon_ij $$"
      ]
    },
    {
      "cell_type": "markdown",
      "metadata": {
        "colab_type": "text",
        "id": "fU76PQ_vuv6u"
      },
      "source": [
        "> The compression strength of $j$th replication of treatment $i$ is denoted $y_{ij}$\n",
        "> The average compression strength over all replication and treatment is denoted $\\mu$\n",
        "> The average treatment effect on compression strength for treatment $i$ is denoted $\\tau_{i}$\n",
        "> The part of the compression strength not explained by the treatments is denoted $\\epsilon_{ij}$"
      ]
    },
    {
      "cell_type": "markdown",
      "metadata": {
        "colab_type": "text",
        "id": "3ff8VsfHuv61"
      },
      "source": [
        "2. Below, I have included  the code that reads the data into a data frame called `rodding`.  Start by using `R` to create side-by-side boxplots and commenting on what you learn."
      ]
    },
    {
      "cell_type": "code",
      "metadata": {
        "id": "yPyF2usvwUXy",
        "colab_type": "code",
        "colab": {
          "base_uri": "https://localhost:8080/",
          "height": 336
        },
        "outputId": "c673f0ca-a26d-4b3f-91a2-5310344ede30"
      },
      "source": [
        "rodding = read.csv(\"https://github.com/yardsale8/STAT321/raw/master/rodding_concrete.csv\")\n",
        "rodding"
      ],
      "execution_count": 6,
      "outputs": [
        {
          "output_type": "display_data",
          "data": {
            "text/plain": [
              "   Rodding.Level Compressive.Strength\n",
              "1  10            1530                \n",
              "2  10            1530                \n",
              "3  10            1440                \n",
              "4  15            1610                \n",
              "5  15            1650                \n",
              "6  15            1500                \n",
              "7  20            1560                \n",
              "8  20            1730                \n",
              "9  20            1530                \n",
              "10 25            1500                \n",
              "11 25            1490                \n",
              "12 25            1510                "
            ],
            "text/latex": "A data.frame: 12 × 2\n\\begin{tabular}{ll}\n Rodding.Level & Compressive.Strength\\\\\n <int> & <int>\\\\\n\\hline\n\t 10 & 1530\\\\\n\t 10 & 1530\\\\\n\t 10 & 1440\\\\\n\t 15 & 1610\\\\\n\t 15 & 1650\\\\\n\t 15 & 1500\\\\\n\t 20 & 1560\\\\\n\t 20 & 1730\\\\\n\t 20 & 1530\\\\\n\t 25 & 1500\\\\\n\t 25 & 1490\\\\\n\t 25 & 1510\\\\\n\\end{tabular}\n",
            "text/markdown": "\nA data.frame: 12 × 2\n\n| Rodding.Level &lt;int&gt; | Compressive.Strength &lt;int&gt; |\n|---|---|\n| 10 | 1530 |\n| 10 | 1530 |\n| 10 | 1440 |\n| 15 | 1610 |\n| 15 | 1650 |\n| 15 | 1500 |\n| 20 | 1560 |\n| 20 | 1730 |\n| 20 | 1530 |\n| 25 | 1500 |\n| 25 | 1490 |\n| 25 | 1510 |\n\n",
            "text/html": [
              "<table>\n",
              "<caption>A data.frame: 12 × 2</caption>\n",
              "<thead>\n",
              "\t<tr><th scope=col>Rodding.Level</th><th scope=col>Compressive.Strength</th></tr>\n",
              "\t<tr><th scope=col>&lt;int&gt;</th><th scope=col>&lt;int&gt;</th></tr>\n",
              "</thead>\n",
              "<tbody>\n",
              "\t<tr><td>10</td><td>1530</td></tr>\n",
              "\t<tr><td>10</td><td>1530</td></tr>\n",
              "\t<tr><td>10</td><td>1440</td></tr>\n",
              "\t<tr><td>15</td><td>1610</td></tr>\n",
              "\t<tr><td>15</td><td>1650</td></tr>\n",
              "\t<tr><td>15</td><td>1500</td></tr>\n",
              "\t<tr><td>20</td><td>1560</td></tr>\n",
              "\t<tr><td>20</td><td>1730</td></tr>\n",
              "\t<tr><td>20</td><td>1530</td></tr>\n",
              "\t<tr><td>25</td><td>1500</td></tr>\n",
              "\t<tr><td>25</td><td>1490</td></tr>\n",
              "\t<tr><td>25</td><td>1510</td></tr>\n",
              "</tbody>\n",
              "</table>\n"
            ]
          },
          "metadata": {
            "tags": []
          }
        }
      ]
    },
    {
      "cell_type": "code",
      "metadata": {
        "id": "X1iDq6S8wjR7",
        "colab_type": "code",
        "colab": {}
      },
      "source": [
        "# Extract the necessary information from the data to make our life easier\n",
        "y <- rodding$Compressive.Strength\n",
        "trt <- rodding$Rodding.Level\n",
        "t <- length(unique(trt))\n",
        "n <- nrow(rodding)"
      ],
      "execution_count": 0,
      "outputs": []
    },
    {
      "cell_type": "code",
      "metadata": {
        "id": "Rrbm-pDrw-ia",
        "colab_type": "code",
        "colab": {
          "base_uri": "https://localhost:8080/",
          "height": 437
        },
        "outputId": "0bf81520-1c0a-49a8-a03d-27d0d9632dbf"
      },
      "source": [
        "# Side-by-side boxplots\n",
        "boxplot(y~trt)"
      ],
      "execution_count": 29,
      "outputs": [
        {
          "output_type": "display_data",
          "data": {
            "image/png": "[encoded data removed]",
            "text/plain": [
              "plot without title"
            ]
          },
          "metadata": {
            "tags": [],
            "image/png": {
              "width": 420,
              "height": 420
            },
            "text/plain": {
              "width": 420,
              "height": 420
            }
          }
        }
      ]
    },
    {
      "cell_type": "markdown",
      "metadata": {
        "id": "Rhf0dfy0xGmg",
        "colab_type": "text"
      },
      "source": [
        "<font color=\"blue\"><i>**Interpretation:** We note that the levels of 15 and 20 had the largest strength, and are probably significantly larger than the other two treatments.</i></font>"
      ]
    },
    {
      "cell_type": "markdown",
      "metadata": {
        "colab_type": "text",
        "id": "NAYdEGccuv6_"
      },
      "source": [
        "3. Use `R` to create the design matrix for this experiment.  Be sure to reparameterize as shown in the notes (page 8)."
      ]
    },
    {
      "cell_type": "markdown",
      "metadata": {
        "colab_type": "text",
        "id": "Zyfk0me-uv7D"
      },
      "source": [
        "<font color=\"blue\"> <i>Note that there are 3 replications of each of the 4 treatments.  Also, we need to drop the last column and replace the last 3 rows with -1 (see the notes).</i></font>\n"
      ]
    },
    {
      "cell_type": "code",
      "metadata": {
        "id": "2LDoNU1OyQEs",
        "colab_type": "code",
        "colab": {
          "base_uri": "https://localhost:8080/",
          "height": 328
        },
        "outputId": "623693cd-7a62-43e8-f4bb-ee07f80e336c"
      },
      "source": [
        "num_rep <- 3\n",
        "X = cbind(rep(1, each=n),\n",
        "          rep(c(1,0,0,-1), each=num_rep),\n",
        "          rep(c(0,1,0,-1), each=num_rep),\n",
        "          rep(c(0,0,1,-1), each=num_rep))\n",
        "X"
      ],
      "execution_count": 30,
      "outputs": [
        {
          "output_type": "display_data",
          "data": {
            "text/plain": [
              "      [,1] [,2] [,3] [,4]\n",
              " [1,] 1     1    0    0  \n",
              " [2,] 1     1    0    0  \n",
              " [3,] 1     1    0    0  \n",
              " [4,] 1     0    1    0  \n",
              " [5,] 1     0    1    0  \n",
              " [6,] 1     0    1    0  \n",
              " [7,] 1     0    0    1  \n",
              " [8,] 1     0    0    1  \n",
              " [9,] 1     0    0    1  \n",
              "[10,] 1    -1   -1   -1  \n",
              "[11,] 1    -1   -1   -1  \n",
              "[12,] 1    -1   -1   -1  "
            ],
            "text/latex": "A matrix: 12 × 4 of type dbl\n\\begin{tabular}{llll}\n\t 1 &  1 &  0 &  0\\\\\n\t 1 &  1 &  0 &  0\\\\\n\t 1 &  1 &  0 &  0\\\\\n\t 1 &  0 &  1 &  0\\\\\n\t 1 &  0 &  1 &  0\\\\\n\t 1 &  0 &  1 &  0\\\\\n\t 1 &  0 &  0 &  1\\\\\n\t 1 &  0 &  0 &  1\\\\\n\t 1 &  0 &  0 &  1\\\\\n\t 1 & -1 & -1 & -1\\\\\n\t 1 & -1 & -1 & -1\\\\\n\t 1 & -1 & -1 & -1\\\\\n\\end{tabular}\n",
            "text/markdown": "\nA matrix: 12 × 4 of type dbl\n\n| 1 |  1 |  0 |  0 |\n| 1 |  1 |  0 |  0 |\n| 1 |  1 |  0 |  0 |\n| 1 |  0 |  1 |  0 |\n| 1 |  0 |  1 |  0 |\n| 1 |  0 |  1 |  0 |\n| 1 |  0 |  0 |  1 |\n| 1 |  0 |  0 |  1 |\n| 1 |  0 |  0 |  1 |\n| 1 | -1 | -1 | -1 |\n| 1 | -1 | -1 | -1 |\n| 1 | -1 | -1 | -1 |\n\n",
            "text/html": [
              "<table>\n",
              "<caption>A matrix: 12 × 4 of type dbl</caption>\n",
              "<tbody>\n",
              "\t<tr><td>1</td><td> 1</td><td> 0</td><td> 0</td></tr>\n",
              "\t<tr><td>1</td><td> 1</td><td> 0</td><td> 0</td></tr>\n",
              "\t<tr><td>1</td><td> 1</td><td> 0</td><td> 0</td></tr>\n",
              "\t<tr><td>1</td><td> 0</td><td> 1</td><td> 0</td></tr>\n",
              "\t<tr><td>1</td><td> 0</td><td> 1</td><td> 0</td></tr>\n",
              "\t<tr><td>1</td><td> 0</td><td> 1</td><td> 0</td></tr>\n",
              "\t<tr><td>1</td><td> 0</td><td> 0</td><td> 1</td></tr>\n",
              "\t<tr><td>1</td><td> 0</td><td> 0</td><td> 1</td></tr>\n",
              "\t<tr><td>1</td><td> 0</td><td> 0</td><td> 1</td></tr>\n",
              "\t<tr><td>1</td><td>-1</td><td>-1</td><td>-1</td></tr>\n",
              "\t<tr><td>1</td><td>-1</td><td>-1</td><td>-1</td></tr>\n",
              "\t<tr><td>1</td><td>-1</td><td>-1</td><td>-1</td></tr>\n",
              "</tbody>\n",
              "</table>\n"
            ]
          },
          "metadata": {
            "tags": []
          }
        }
      ]
    },
    {
      "cell_type": "markdown",
      "metadata": {
        "colab_type": "text",
        "id": "hOB-Ke48uv7G"
      },
      "source": [
        "4. Use matrix arithmetic to compute each of the following: $\\mathbf{r}$, $SSE$, $MSE$ and the $SE$ for each term in the model."
      ]
    },
    {
      "cell_type": "code",
      "metadata": {
        "id": "ICrM9vXHylwJ",
        "colab_type": "code",
        "colab": {
          "base_uri": "https://localhost:8080/",
          "height": 34
        },
        "outputId": "69075822-69c3-43c6-8631-fb621838a2a2"
      },
      "source": [
        "length(y)"
      ],
      "execution_count": 31,
      "outputs": [
        {
          "output_type": "display_data",
          "data": {
            "text/plain": [
              "[1] 12"
            ],
            "text/latex": "12",
            "text/markdown": "12",
            "text/html": [
              "12"
            ]
          },
          "metadata": {
            "tags": []
          }
        }
      ]
    },
    {
      "cell_type": "code",
      "metadata": {
        "id": "7pqEfS4RydBh",
        "colab_type": "code",
        "colab": {
          "base_uri": "https://localhost:8080/",
          "height": 139
        },
        "outputId": "ad447780-fba7-4085-bc13-19f06f5c99d7"
      },
      "source": [
        "mu_hat = solve(t(X) %*% X) %*% t(X) %*% y # Estimated model parameters\n",
        "mu_hat"
      ],
      "execution_count": 32,
      "outputs": [
        {
          "output_type": "display_data",
          "data": {
            "text/plain": [
              "     [,1]      \n",
              "[1,] 1548.33333\n",
              "[2,]  -48.33333\n",
              "[3,]   38.33333\n",
              "[4,]   58.33333"
            ],
            "text/latex": "A matrix: 4 × 1 of type dbl\n\\begin{tabular}{l}\n\t 1548.33333\\\\\n\t  -48.33333\\\\\n\t   38.33333\\\\\n\t   58.33333\\\\\n\\end{tabular}\n",
            "text/markdown": "\nA matrix: 4 × 1 of type dbl\n\n| 1548.33333 |\n|  -48.33333 |\n|   38.33333 |\n|   58.33333 |\n\n",
            "text/html": [
              "<table>\n",
              "<caption>A matrix: 4 × 1 of type dbl</caption>\n",
              "<tbody>\n",
              "\t<tr><td>1548.33333</td></tr>\n",
              "\t<tr><td> -48.33333</td></tr>\n",
              "\t<tr><td>  38.33333</td></tr>\n",
              "\t<tr><td>  58.33333</td></tr>\n",
              "</tbody>\n",
              "</table>\n"
            ]
          },
          "metadata": {
            "tags": []
          }
        }
      ]
    },
    {
      "cell_type": "code",
      "metadata": {
        "id": "vaOGyje2y6PA",
        "colab_type": "code",
        "colab": {
          "base_uri": "https://localhost:8080/",
          "height": 328
        },
        "outputId": "815b0c68-65e0-4bad-e60a-4ce1ce11bb32"
      },
      "source": [
        "y_hat = X %*% mu_hat # Estimates for y_ij base on the model\n",
        "y_hat"
      ],
      "execution_count": 33,
      "outputs": [
        {
          "output_type": "display_data",
          "data": {
            "text/plain": [
              "      [,1]    \n",
              " [1,] 1500.000\n",
              " [2,] 1500.000\n",
              " [3,] 1500.000\n",
              " [4,] 1586.667\n",
              " [5,] 1586.667\n",
              " [6,] 1586.667\n",
              " [7,] 1606.667\n",
              " [8,] 1606.667\n",
              " [9,] 1606.667\n",
              "[10,] 1500.000\n",
              "[11,] 1500.000\n",
              "[12,] 1500.000"
            ],
            "text/latex": "A matrix: 12 × 1 of type dbl\n\\begin{tabular}{l}\n\t 1500.000\\\\\n\t 1500.000\\\\\n\t 1500.000\\\\\n\t 1586.667\\\\\n\t 1586.667\\\\\n\t 1586.667\\\\\n\t 1606.667\\\\\n\t 1606.667\\\\\n\t 1606.667\\\\\n\t 1500.000\\\\\n\t 1500.000\\\\\n\t 1500.000\\\\\n\\end{tabular}\n",
            "text/markdown": "\nA matrix: 12 × 1 of type dbl\n\n| 1500.000 |\n| 1500.000 |\n| 1500.000 |\n| 1586.667 |\n| 1586.667 |\n| 1586.667 |\n| 1606.667 |\n| 1606.667 |\n| 1606.667 |\n| 1500.000 |\n| 1500.000 |\n| 1500.000 |\n\n",
            "text/html": [
              "<table>\n",
              "<caption>A matrix: 12 × 1 of type dbl</caption>\n",
              "<tbody>\n",
              "\t<tr><td>1500.000</td></tr>\n",
              "\t<tr><td>1500.000</td></tr>\n",
              "\t<tr><td>1500.000</td></tr>\n",
              "\t<tr><td>1586.667</td></tr>\n",
              "\t<tr><td>1586.667</td></tr>\n",
              "\t<tr><td>1586.667</td></tr>\n",
              "\t<tr><td>1606.667</td></tr>\n",
              "\t<tr><td>1606.667</td></tr>\n",
              "\t<tr><td>1606.667</td></tr>\n",
              "\t<tr><td>1500.000</td></tr>\n",
              "\t<tr><td>1500.000</td></tr>\n",
              "\t<tr><td>1500.000</td></tr>\n",
              "</tbody>\n",
              "</table>\n"
            ]
          },
          "metadata": {
            "tags": []
          }
        }
      ]
    },
    {
      "cell_type": "code",
      "metadata": {
        "id": "ATDoqfJzzBU0",
        "colab_type": "code",
        "colab": {
          "base_uri": "https://localhost:8080/",
          "height": 310
        },
        "outputId": "2b45b30a-5957-4486-e367-910e65d29fdc"
      },
      "source": [
        "r = y - y_hat # Within group error are the difference between predicted and actual\n",
        "r"
      ],
      "execution_count": 34,
      "outputs": [
        {
          "output_type": "display_data",
          "data": {
            "text/plain": [
              "      [,1]         \n",
              " [1,]  3.000000e+01\n",
              " [2,]  3.000000e+01\n",
              " [3,] -6.000000e+01\n",
              " [4,]  2.333333e+01\n",
              " [5,]  6.333333e+01\n",
              " [6,] -8.666667e+01\n",
              " [7,] -4.666667e+01\n",
              " [8,]  1.233333e+02\n",
              " [9,] -7.666667e+01\n",
              "[10,] -4.547474e-13\n",
              "[11,] -1.000000e+01\n",
              "[12,]  1.000000e+01"
            ],
            "text/latex": "A matrix: 12 × 1 of type dbl\n\\begin{tabular}{l}\n\t  3.000000e+01\\\\\n\t  3.000000e+01\\\\\n\t -6.000000e+01\\\\\n\t  2.333333e+01\\\\\n\t  6.333333e+01\\\\\n\t -8.666667e+01\\\\\n\t -4.666667e+01\\\\\n\t  1.233333e+02\\\\\n\t -7.666667e+01\\\\\n\t -4.547474e-13\\\\\n\t -1.000000e+01\\\\\n\t  1.000000e+01\\\\\n\\end{tabular}\n",
            "text/markdown": "\nA matrix: 12 × 1 of type dbl\n\n|  3.000000e+01 |\n|  3.000000e+01 |\n| -6.000000e+01 |\n|  2.333333e+01 |\n|  6.333333e+01 |\n| -8.666667e+01 |\n| -4.666667e+01 |\n|  1.233333e+02 |\n| -7.666667e+01 |\n| -4.547474e-13 |\n| -1.000000e+01 |\n|  1.000000e+01 |\n\n",
            "text/html": [
              "<table>\n",
              "<caption>A matrix: 12 × 1 of type dbl</caption>\n",
              "<tbody>\n",
              "\t<tr><td> 3.000000e+01</td></tr>\n",
              "\t<tr><td> 3.000000e+01</td></tr>\n",
              "\t<tr><td>-6.000000e+01</td></tr>\n",
              "\t<tr><td> 2.333333e+01</td></tr>\n",
              "\t<tr><td> 6.333333e+01</td></tr>\n",
              "\t<tr><td>-8.666667e+01</td></tr>\n",
              "\t<tr><td>-4.666667e+01</td></tr>\n",
              "\t<tr><td> 1.233333e+02</td></tr>\n",
              "\t<tr><td>-7.666667e+01</td></tr>\n",
              "\t<tr><td>-4.547474e-13</td></tr>\n",
              "\t<tr><td>-1.000000e+01</td></tr>\n",
              "\t<tr><td> 1.000000e+01</td></tr>\n",
              "</tbody>\n",
              "</table>\n"
            ]
          },
          "metadata": {
            "tags": []
          }
        }
      ]
    },
    {
      "cell_type": "code",
      "metadata": {
        "id": "9rMPp2oUzI2I",
        "colab_type": "code",
        "colab": {
          "base_uri": "https://localhost:8080/",
          "height": 34
        },
        "outputId": "b6021663-3de6-4412-8bff-13a3ed690908"
      },
      "source": [
        "df_error <- n - t\n",
        "df_error"
      ],
      "execution_count": 35,
      "outputs": [
        {
          "output_type": "display_data",
          "data": {
            "text/plain": [
              "[1] 8"
            ],
            "text/latex": "8",
            "text/markdown": "8",
            "text/html": [
              "8"
            ]
          },
          "metadata": {
            "tags": []
          }
        }
      ]
    },
    {
      "cell_type": "code",
      "metadata": {
        "id": "lnnz4T2DzJPl",
        "colab_type": "code",
        "colab": {
          "base_uri": "https://localhost:8080/",
          "height": 34
        },
        "outputId": "3805052f-0014-43b1-c9dd-b656673aa1df"
      },
      "source": [
        "SS_error <- (t(r) %*% r)[1] # The dot product is a fancy way to square-and-sum\n",
        "SS_error"
      ],
      "execution_count": 36,
      "outputs": [
        {
          "output_type": "display_data",
          "data": {
            "text/plain": [
              "[1] 40933.33"
            ],
            "text/latex": "40933.3333333333",
            "text/markdown": "40933.3333333333",
            "text/html": [
              "40933.3333333333"
            ]
          },
          "metadata": {
            "tags": []
          }
        }
      ]
    },
    {
      "cell_type": "code",
      "metadata": {
        "id": "FFrHeIY5zJY_",
        "colab_type": "code",
        "colab": {
          "base_uri": "https://localhost:8080/",
          "height": 34
        },
        "outputId": "2cda868f-bf6a-42ad-a7a8-c8d90c0453fa"
      },
      "source": [
        "sigma_sqr_hat <- SS_error/df_error # AKA MS error from the ANOVA table\n",
        "sigma_sqr_hat"
      ],
      "execution_count": 37,
      "outputs": [
        {
          "output_type": "display_data",
          "data": {
            "text/plain": [
              "[1] 5116.667"
            ],
            "text/latex": "5116.66666666667",
            "text/markdown": "5116.66666666667",
            "text/html": [
              "5116.66666666667"
            ]
          },
          "metadata": {
            "tags": []
          }
        }
      ]
    },
    {
      "cell_type": "markdown",
      "metadata": {
        "colab_type": "text",
        "id": "_GWb15qBuv7M"
      },
      "source": [
        "5. Use JMP to verify all of your calculations.  Take a screenshot of the relevant output be sure to paste your JMP screenshot into your Word file and answer the following question.\n",
        "\n",
        "<font color=\"blue\"> <i> Here is the JMP output for this experment. </i></font>\n",
        "\n",
        "<img src=\"https://github.com/yardsale8/STAT321/raw/master/img/rodding_output.png\" width=\"400\"/>"
      ]
    },
    {
      "cell_type": "markdown",
      "metadata": {
        "colab_type": "text",
        "id": "LHYG_GcJuv7P"
      },
      "source": [
        "> <font color=\"blue\"> <i> Yes, we have the same group means, $SS_{error}$ and $MS_{error}$.</i></font>"
      ]
    }
  ]
}