{
  "nbformat": 4,
  "nbformat_minor": 0,
  "metadata": {
    "kernelspec": {
      "display_name": "R",
      "language": "R",
      "name": "ir"
    },
    "language_info": {
      "codemirror_mode": "r",
      "file_extension": ".r",
      "mimetype": "text/x-r-source",
      "name": "R",
      "pygments_lexer": "r",
      "version": "3.5.1"
    },
    "varInspector": {
      "cols": {
        "lenName": 16,
        "lenType": 16,
        "lenVar": 40
      },
      "kernels_config": {
        "python": {
          "delete_cmd_postfix": "",
          "delete_cmd_prefix": "del ",
          "library": "var_list.py",
          "varRefreshCmd": "print(var_dic_list())"
        },
        "r": {
          "delete_cmd_postfix": ") ",
          "delete_cmd_prefix": "rm(",
          "library": "var_list.r",
          "varRefreshCmd": "cat(var_dic_list()) "
        }
      },
      "types_to_exclude": [
        "module",
        "function",
        "builtin_function_or_method",
        "instance",
        "_Feature"
      ],
      "window_display": false
    },
    "colab": {
      "name": "the_statistical_model.ipynb",
      "provenance": []
    }
  },
  "cells": [
    {
      "cell_type": "markdown",
      "metadata": {
        "id": "T9-tv82uQzNx",
        "colab_type": "text"
      },
      "source": [
        "# The Statistical Model"
      ]
    },
    {
      "cell_type": "markdown",
      "metadata": {
        "id": "qxjHbFHLQzN4",
        "colab_type": "text"
      },
      "source": [
        "## Example 4.1 \n",
        "\n",
        "Consider the following etch rate data. The\n",
        "goal is to make comparisons across the power settings.\n",
        "\n",
        "![tables](https://github.com/yardsale8/STAT321/blob/master/img/e1_tables.png?raw=1)\n",
        "\n",
        "![summaries](https://github.com/yardsale8/STAT321/blob/master/img/e1_summary.png?raw=1)\n"
      ]
    },
    {
      "cell_type": "code",
      "metadata": {
        "id": "Hc76ez3_QzN9",
        "colab_type": "code",
        "colab": {
          "base_uri": "https://localhost:8080/",
          "height": 207
        },
        "outputId": "33905148-f4c9-4334-f002-7b721f3a9f67"
      },
      "source": [
        "data <- read.csv(\"https://raw.githubusercontent.com/yardsale8/STAT321/master/data/power_etch.csv\")\n",
        "head(data)"
      ],
      "execution_count": 1,
      "outputs": [
        {
          "output_type": "display_data",
          "data": {
            "text/plain": [
              "  power_w etch_rate\n",
              "1 160     575      \n",
              "2 160     542      \n",
              "3 160     530      \n",
              "4 160     539      \n",
              "5 160     570      \n",
              "6 180     565      "
            ],
            "text/latex": "A data.frame: 6 × 2\n\\begin{tabular}{r|ll}\n  & power\\_w & etch\\_rate\\\\\n  & <int> & <int>\\\\\n\\hline\n\t1 & 160 & 575\\\\\n\t2 & 160 & 542\\\\\n\t3 & 160 & 530\\\\\n\t4 & 160 & 539\\\\\n\t5 & 160 & 570\\\\\n\t6 & 180 & 565\\\\\n\\end{tabular}\n",
            "text/markdown": "\nA data.frame: 6 × 2\n\n| <!--/--> | power_w &lt;int&gt; | etch_rate &lt;int&gt; |\n|---|---|---|\n| 1 | 160 | 575 |\n| 2 | 160 | 542 |\n| 3 | 160 | 530 |\n| 4 | 160 | 539 |\n| 5 | 160 | 570 |\n| 6 | 180 | 565 |\n\n",
            "text/html": [
              "<table>\n",
              "<caption>A data.frame: 6 × 2</caption>\n",
              "<thead>\n",
              "\t<tr><th></th><th scope=col>power_w</th><th scope=col>etch_rate</th></tr>\n",
              "\t<tr><th></th><th scope=col>&lt;int&gt;</th><th scope=col>&lt;int&gt;</th></tr>\n",
              "</thead>\n",
              "<tbody>\n",
              "\t<tr><th scope=row>1</th><td>160</td><td>575</td></tr>\n",
              "\t<tr><th scope=row>2</th><td>160</td><td>542</td></tr>\n",
              "\t<tr><th scope=row>3</th><td>160</td><td>530</td></tr>\n",
              "\t<tr><th scope=row>4</th><td>160</td><td>539</td></tr>\n",
              "\t<tr><th scope=row>5</th><td>160</td><td>570</td></tr>\n",
              "\t<tr><th scope=row>6</th><td>180</td><td>565</td></tr>\n",
              "</tbody>\n",
              "</table>\n"
            ]
          },
          "metadata": {
            "tags": []
          }
        }
      ]
    },
    {
      "cell_type": "code",
      "metadata": {
        "id": "B7p4UjaZQzOO",
        "colab_type": "code",
        "colab": {}
      },
      "source": [
        "y <- data$etch_rate\n",
        "trt <- data$power_w"
      ],
      "execution_count": 0,
      "outputs": []
    },
    {
      "cell_type": "code",
      "metadata": {
        "id": "8arH_4T9QzOY",
        "colab_type": "code",
        "colab": {
          "base_uri": "https://localhost:8080/",
          "height": 437
        },
        "outputId": "6f4cb029-e2fe-45f6-f811-7903d7d5769d"
      },
      "source": [
        "boxplot(y~trt)"
      ],
      "execution_count": 3,
      "outputs": [
        {
          "output_type": "display_data",
          "data": {
            "image/png": "[encoded data removed]",
            "text/plain": [
              "plot without title"
            ]
          },
          "metadata": {
            "tags": [],
            "image/png": {
              "width": 420,
              "height": 420
            },
            "text/plain": {
              "width": 420,
              "height": 420
            }
          }
        }
      ]
    },
    {
      "cell_type": "code",
      "metadata": {
        "id": "PbrBGrwuQzOi",
        "colab_type": "code",
        "colab": {
          "base_uri": "https://localhost:8080/",
          "height": 165
        },
        "outputId": "77e1b201-9bc3-4e3f-e68c-40ea45390bce"
      },
      "source": [
        "group_means = aggregate(etch_rate~power_w, data=data, mean)\n",
        "group_means"
      ],
      "execution_count": 4,
      "outputs": [
        {
          "output_type": "display_data",
          "data": {
            "text/plain": [
              "  power_w etch_rate\n",
              "1 160     551.2    \n",
              "2 180     587.4    \n",
              "3 200     625.4    \n",
              "4 220     707.0    "
            ],
            "text/latex": "A data.frame: 4 × 2\n\\begin{tabular}{ll}\n power\\_w & etch\\_rate\\\\\n <int> & <dbl>\\\\\n\\hline\n\t 160 & 551.2\\\\\n\t 180 & 587.4\\\\\n\t 200 & 625.4\\\\\n\t 220 & 707.0\\\\\n\\end{tabular}\n",
            "text/markdown": "\nA data.frame: 4 × 2\n\n| power_w &lt;int&gt; | etch_rate &lt;dbl&gt; |\n|---|---|\n| 160 | 551.2 |\n| 180 | 587.4 |\n| 200 | 625.4 |\n| 220 | 707.0 |\n\n",
            "text/html": [
              "<table>\n",
              "<caption>A data.frame: 4 × 2</caption>\n",
              "<thead>\n",
              "\t<tr><th scope=col>power_w</th><th scope=col>etch_rate</th></tr>\n",
              "\t<tr><th scope=col>&lt;int&gt;</th><th scope=col>&lt;dbl&gt;</th></tr>\n",
              "</thead>\n",
              "<tbody>\n",
              "\t<tr><td>160</td><td>551.2</td></tr>\n",
              "\t<tr><td>180</td><td>587.4</td></tr>\n",
              "\t<tr><td>200</td><td>625.4</td></tr>\n",
              "\t<tr><td>220</td><td>707.0</td></tr>\n",
              "</tbody>\n",
              "</table>\n"
            ]
          },
          "metadata": {
            "tags": []
          }
        }
      ]
    },
    {
      "cell_type": "markdown",
      "metadata": {
        "id": "LeSxkbtXQzOs",
        "colab_type": "text"
      },
      "source": [
        "## The Statistical Model\n",
        "\n",
        "In the last handout, we carried out the ANOVA and intuitively obtained\n",
        "measures of error by computing the sums of squares \"by hand.\" These\n",
        "calculations are made much simpler using the framework for a general\n",
        "linear model. The general linear model approach does require the use of\n",
        "matrices and some linear algebra operations.\n",
        "\n",
        "In the previous handout, the goal was to compare different levels of a\n",
        "single factor. One way to write the statistical model for our example is\n",
        "as follows:\n",
        "\n",
        "$$y_{i,j} = \\mu + \\tau_i + \\epsilon_{i,j}$$\n",
        "\n",
        "where\n",
        "\n",
        "-   $i=1,2, \\ldots, 4$ identifies the treatment level, and\n",
        "\n",
        "-   $j=1,2, \\ldots,5$ denotes the replicate.\n",
        "\n",
        "Identify the meaning of each of the terms in the model."
      ]
    },
    {
      "cell_type": "markdown",
      "metadata": {
        "id": "v9AUvHUzQzOu",
        "colab_type": "text"
      },
      "source": [
        "## <font color=\"red\"> Exercise 1 </font>\n",
        "\n",
        "$y_{i,j}$"
      ]
    },
    {
      "cell_type": "markdown",
      "metadata": {
        "id": "fZnUC3RhQzOx",
        "colab_type": "text"
      },
      "source": [
        "*Your answer here*"
      ]
    },
    {
      "cell_type": "markdown",
      "metadata": {
        "id": "kQYXo5dDQzOz",
        "colab_type": "text"
      },
      "source": [
        "$\\mu$"
      ]
    },
    {
      "cell_type": "markdown",
      "metadata": {
        "id": "bofxMmvSQzO2",
        "colab_type": "text"
      },
      "source": [
        "*Your answer here*"
      ]
    },
    {
      "cell_type": "markdown",
      "metadata": {
        "id": "oQCfH35NQzO4",
        "colab_type": "text"
      },
      "source": [
        "$\\tau_i$"
      ]
    },
    {
      "cell_type": "markdown",
      "metadata": {
        "id": "OdmQxwy5QzO7",
        "colab_type": "text"
      },
      "source": [
        "*Your answer here*"
      ]
    },
    {
      "cell_type": "markdown",
      "metadata": {
        "id": "viJ988abQzO9",
        "colab_type": "text"
      },
      "source": [
        "$y_{i,j}$"
      ]
    },
    {
      "cell_type": "markdown",
      "metadata": {
        "id": "7SJvn3p_QzO_",
        "colab_type": "text"
      },
      "source": [
        "*Your answer here*"
      ]
    },
    {
      "cell_type": "markdown",
      "metadata": {
        "id": "nytu-6sEQzPC",
        "colab_type": "text"
      },
      "source": [
        "## The Model in Matrix Notation\n",
        "\n",
        "The easiest way to work with such a model is through the use of\n",
        "matrices. The model for our simple example can be expressed in matrix\n",
        "form as follows.\n",
        "\n",
        "$$\\begin{bmatrix}\n",
        "y_{11} \\\\\n",
        "y_{12} \\\\\n",
        "y_{13} \\\\\n",
        "y_{14} \\\\\n",
        "y_{15} \\\\\n",
        "y_{21} \\\\\n",
        "y_{22} \\\\\n",
        "y_{23} \\\\\n",
        "y_{24} \\\\\n",
        "y_{25} \\\\\n",
        "y_{31} \\\\\n",
        "y_{32} \\\\\n",
        "y_{33} \\\\\n",
        "y_{34} \\\\\n",
        "y_{35} \\\\\n",
        "y_{41} \\\\\n",
        "y_{42} \\\\\n",
        "y_{43} \\\\\n",
        "y_{44} \\\\\n",
        "y_{45} \\\\\n",
        "\\end{bmatrix} = \\begin{bmatrix}\n",
        "\\mu \\\\\n",
        "\\mu \\\\\n",
        "\\mu \\\\\n",
        "\\mu \\\\\n",
        "\\mu \\\\\n",
        "\\mu \\\\\n",
        "\\mu \\\\\n",
        "\\mu \\\\\n",
        "\\mu \\\\\n",
        "\\mu \\\\\n",
        "\\mu \\\\\n",
        "\\mu \\\\\n",
        "\\mu \\\\\n",
        "\\mu \\\\\n",
        "\\mu \\\\\n",
        "\\mu \\\\\n",
        "\\mu \\\\\n",
        "\\mu \\\\\n",
        "\\mu \\\\\n",
        "\\mu \\\\\n",
        "\\end{bmatrix} + \\begin{bmatrix}\n",
        "\\tau_{1} \\\\\n",
        "\\tau_{1} \\\\\n",
        "\\tau_{1} \\\\\n",
        "\\tau_{1} \\\\\n",
        "\\tau_{1} \\\\\n",
        "\\tau_{2} \\\\\n",
        "\\tau_{2} \\\\\n",
        "\\tau_{2} \\\\\n",
        "\\tau_{2} \\\\\n",
        "\\tau_{2} \\\\\n",
        "\\tau_{3} \\\\\n",
        "\\tau_{3} \\\\\n",
        "\\tau_{3} \\\\\n",
        "\\tau_{3} \\\\\n",
        "\\tau_{3} \\\\\n",
        "\\tau_{4} \\\\\n",
        "\\tau_{4} \\\\\n",
        "\\tau_{4} \\\\\n",
        "\\tau_{4} \\\\\n",
        "\\tau_{4} \\\\\n",
        "\\end{bmatrix} + \\begin{bmatrix}\n",
        "\\varepsilon_{11} \\\\\n",
        "\\varepsilon_{12} \\\\\n",
        "\\varepsilon_{13} \\\\\n",
        "\\varepsilon_{14} \\\\\n",
        "\\varepsilon_{15} \\\\\n",
        "\\varepsilon_{21} \\\\\n",
        "\\varepsilon_{22} \\\\\n",
        "\\varepsilon_{23} \\\\\n",
        "\\varepsilon_{24} \\\\\n",
        "\\varepsilon_{25} \\\\\n",
        "\\varepsilon_{31} \\\\\n",
        "\\varepsilon_{32} \\\\\n",
        "\\varepsilon_{33} \\\\\n",
        "\\varepsilon_{34} \\\\\n",
        "\\varepsilon_{35} \\\\\n",
        "\\varepsilon_{41} \\\\\n",
        "\\varepsilon_{42} \\\\\n",
        "\\varepsilon_{43} \\\\\n",
        "\\varepsilon_{44} \\\\\n",
        "\\varepsilon_{45} \\\\\n",
        "\\end{bmatrix}$$"
      ]
    },
    {
      "cell_type": "markdown",
      "metadata": {
        "id": "bxrFZLTMQzPG",
        "colab_type": "text"
      },
      "source": [
        "It is important to note that these vectors are directly related to some of the columns that we computed earlier.  The table shown below illustrates this relationship.\n",
        "\n",
        "![model as table](https://github.com/yardsale8/STAT321/blob/master/img/model_as_table.png?raw=1)"
      ]
    },
    {
      "cell_type": "markdown",
      "metadata": {
        "id": "VH-lg2NnQzPH",
        "colab_type": "text"
      },
      "source": [
        "Note that we can rewrite the vector equation as\n",
        "\n",
        "\n",
        "$$\\begin{bmatrix}\n",
        "y_{11} \\\\\n",
        "y_{12} \\\\\n",
        "y_{13} \\\\\n",
        "y_{14} \\\\\n",
        "y_{15} \\\\\n",
        "y_{21} \\\\\n",
        "y_{22} \\\\\n",
        "y_{23} \\\\\n",
        "y_{24} \\\\\n",
        "y_{25} \\\\\n",
        "y_{31} \\\\\n",
        "y_{32} \\\\\n",
        "y_{33} \\\\\n",
        "y_{34} \\\\\n",
        "y_{35} \\\\\n",
        "y_{41} \\\\\n",
        "y_{42} \\\\\n",
        "y_{43} \\\\\n",
        "y_{44} \\\\\n",
        "y_{45} \\\\\n",
        "\\end{bmatrix} = \\begin{bmatrix}\n",
        "1 & 1 & 0 & 0 & 0 \\\\\n",
        "1 & 1 & 0 & 0 & 0 \\\\\n",
        "1 & 1 & 0 & 0 & 0 \\\\\n",
        "1 & 1 & 0 & 0 & 0 \\\\\n",
        "1 & 1 & 0 & 0 & 0 \\\\\n",
        "1 & 0 & 1 & 0 & 0 \\\\\n",
        "1 & 0 & 1 & 0 & 0 \\\\\n",
        "1 & 0 & 1 & 0 & 0 \\\\\n",
        "1 & 0 & 1 & 0 & 0 \\\\\n",
        "1 & 0 & 1 & 0 & 0 \\\\\n",
        "1 & 0 & 0 & 1 & 0 \\\\\n",
        "1 & 0 & 0 & 1 & 0 \\\\\n",
        "1 & 0 & 0 & 1 & 0 \\\\\n",
        "1 & 0 & 0 & 1 & 0 \\\\\n",
        "1 & 0 & 0 & 1 & 0 \\\\\n",
        "1 & 0 & 0 & 0 & 1 \\\\\n",
        "1 & 0 & 0 & 0 & 1 \\\\\n",
        "1 & 0 & 0 & 0 & 1 \\\\\n",
        "1 & 0 & 0 & 0 & 1 \\\\\n",
        "1 & 0 & 0 & 0 & 1 \\\\\n",
        "\\end{bmatrix}  \\begin{bmatrix}\n",
        "\\mu \\\\\n",
        "\\tau_1 \\\\\n",
        "\\tau_2 \\\\\n",
        "\\tau_3 \\\\\n",
        "\\tau_4 \\\\\n",
        "\\end{bmatrix} + \\begin{bmatrix}\n",
        "\\varepsilon_{11} \\\\\n",
        "\\varepsilon_{12} \\\\\n",
        "\\varepsilon_{13} \\\\\n",
        "\\varepsilon_{14} \\\\\n",
        "\\varepsilon_{15} \\\\\n",
        "\\varepsilon_{21} \\\\\n",
        "\\varepsilon_{22} \\\\\n",
        "\\varepsilon_{23} \\\\\n",
        "\\varepsilon_{24} \\\\\n",
        "\\varepsilon_{25} \\\\\n",
        "\\varepsilon_{31} \\\\\n",
        "\\varepsilon_{32} \\\\\n",
        "\\varepsilon_{33} \\\\\n",
        "\\varepsilon_{34} \\\\\n",
        "\\varepsilon_{35} \\\\\n",
        "\\varepsilon_{41} \\\\\n",
        "\\varepsilon_{42} \\\\\n",
        "\\varepsilon_{43} \\\\\n",
        "\\varepsilon_{44} \\\\\n",
        "\\varepsilon_{45} \\\\\n",
        "\\end{bmatrix}$$"
      ]
    },
    {
      "cell_type": "markdown",
      "metadata": {
        "id": "ov9_Ooz_QzPK",
        "colab_type": "text"
      },
      "source": [
        "## <font color=\"red\"> Exercise 2 </font>\n",
        "\n",
        "There is a repetative structure that we will take advantage of in our `R` code.  For example, the first column is all 1's.\n",
        "\n",
        "**Task:** Write a few sentences describing the structure of the rest of the columns.  What does this have to do with the treatment labels?"
      ]
    },
    {
      "cell_type": "markdown",
      "metadata": {
        "id": "Kam-vi8PQzPM",
        "colab_type": "text"
      },
      "source": [
        "> *Your answer here*"
      ]
    },
    {
      "cell_type": "markdown",
      "metadata": {
        "id": "T44TZ7l5QzPO",
        "colab_type": "text"
      },
      "source": [
        "We construct a matrix in `R` using the `cbind` function to bind together column vectors, which are constructed using various functions like the concatenation function `c`.  We will use the `rep` function, which is short for *replicate*, to take advantage of the matrix's repetitive structure."
      ]
    },
    {
      "cell_type": "code",
      "metadata": {
        "id": "67xDr0vDQzPR",
        "colab_type": "code",
        "colab": {
          "base_uri": "https://localhost:8080/",
          "height": 498
        },
        "outputId": "6aeffff7-1f60-4a79-be64-3373542744c2"
      },
      "source": [
        "num_repl <- 5\n",
        "X <- cbind(rep(1, each=20),\n",
        "          rep(c(1,0,0,0), each=num_repl),\n",
        "          rep(c(0,1,0,0), each=num_repl),\n",
        "          rep(c(0,0,1,0), each=num_repl),\n",
        "          rep(c(0,0,0,1), each=num_repl))\n",
        "X"
      ],
      "execution_count": 6,
      "outputs": [
        {
          "output_type": "display_data",
          "data": {
            "text/plain": [
              "      [,1] [,2] [,3] [,4] [,5]\n",
              " [1,] 1    1    0    0    0   \n",
              " [2,] 1    1    0    0    0   \n",
              " [3,] 1    1    0    0    0   \n",
              " [4,] 1    1    0    0    0   \n",
              " [5,] 1    1    0    0    0   \n",
              " [6,] 1    0    1    0    0   \n",
              " [7,] 1    0    1    0    0   \n",
              " [8,] 1    0    1    0    0   \n",
              " [9,] 1    0    1    0    0   \n",
              "[10,] 1    0    1    0    0   \n",
              "[11,] 1    0    0    1    0   \n",
              "[12,] 1    0    0    1    0   \n",
              "[13,] 1    0    0    1    0   \n",
              "[14,] 1    0    0    1    0   \n",
              "[15,] 1    0    0    1    0   \n",
              "[16,] 1    0    0    0    1   \n",
              "[17,] 1    0    0    0    1   \n",
              "[18,] 1    0    0    0    1   \n",
              "[19,] 1    0    0    0    1   \n",
              "[20,] 1    0    0    0    1   "
            ],
            "text/latex": "A matrix: 20 × 5 of type dbl\n\\begin{tabular}{lllll}\n\t 1 & 1 & 0 & 0 & 0\\\\\n\t 1 & 1 & 0 & 0 & 0\\\\\n\t 1 & 1 & 0 & 0 & 0\\\\\n\t 1 & 1 & 0 & 0 & 0\\\\\n\t 1 & 1 & 0 & 0 & 0\\\\\n\t 1 & 0 & 1 & 0 & 0\\\\\n\t 1 & 0 & 1 & 0 & 0\\\\\n\t 1 & 0 & 1 & 0 & 0\\\\\n\t 1 & 0 & 1 & 0 & 0\\\\\n\t 1 & 0 & 1 & 0 & 0\\\\\n\t 1 & 0 & 0 & 1 & 0\\\\\n\t 1 & 0 & 0 & 1 & 0\\\\\n\t 1 & 0 & 0 & 1 & 0\\\\\n\t 1 & 0 & 0 & 1 & 0\\\\\n\t 1 & 0 & 0 & 1 & 0\\\\\n\t 1 & 0 & 0 & 0 & 1\\\\\n\t 1 & 0 & 0 & 0 & 1\\\\\n\t 1 & 0 & 0 & 0 & 1\\\\\n\t 1 & 0 & 0 & 0 & 1\\\\\n\t 1 & 0 & 0 & 0 & 1\\\\\n\\end{tabular}\n",
            "text/markdown": "\nA matrix: 20 × 5 of type dbl\n\n| 1 | 1 | 0 | 0 | 0 |\n| 1 | 1 | 0 | 0 | 0 |\n| 1 | 1 | 0 | 0 | 0 |\n| 1 | 1 | 0 | 0 | 0 |\n| 1 | 1 | 0 | 0 | 0 |\n| 1 | 0 | 1 | 0 | 0 |\n| 1 | 0 | 1 | 0 | 0 |\n| 1 | 0 | 1 | 0 | 0 |\n| 1 | 0 | 1 | 0 | 0 |\n| 1 | 0 | 1 | 0 | 0 |\n| 1 | 0 | 0 | 1 | 0 |\n| 1 | 0 | 0 | 1 | 0 |\n| 1 | 0 | 0 | 1 | 0 |\n| 1 | 0 | 0 | 1 | 0 |\n| 1 | 0 | 0 | 1 | 0 |\n| 1 | 0 | 0 | 0 | 1 |\n| 1 | 0 | 0 | 0 | 1 |\n| 1 | 0 | 0 | 0 | 1 |\n| 1 | 0 | 0 | 0 | 1 |\n| 1 | 0 | 0 | 0 | 1 |\n\n",
            "text/html": [
              "<table>\n",
              "<caption>A matrix: 20 × 5 of type dbl</caption>\n",
              "<tbody>\n",
              "\t<tr><td>1</td><td>1</td><td>0</td><td>0</td><td>0</td></tr>\n",
              "\t<tr><td>1</td><td>1</td><td>0</td><td>0</td><td>0</td></tr>\n",
              "\t<tr><td>1</td><td>1</td><td>0</td><td>0</td><td>0</td></tr>\n",
              "\t<tr><td>1</td><td>1</td><td>0</td><td>0</td><td>0</td></tr>\n",
              "\t<tr><td>1</td><td>1</td><td>0</td><td>0</td><td>0</td></tr>\n",
              "\t<tr><td>1</td><td>0</td><td>1</td><td>0</td><td>0</td></tr>\n",
              "\t<tr><td>1</td><td>0</td><td>1</td><td>0</td><td>0</td></tr>\n",
              "\t<tr><td>1</td><td>0</td><td>1</td><td>0</td><td>0</td></tr>\n",
              "\t<tr><td>1</td><td>0</td><td>1</td><td>0</td><td>0</td></tr>\n",
              "\t<tr><td>1</td><td>0</td><td>1</td><td>0</td><td>0</td></tr>\n",
              "\t<tr><td>1</td><td>0</td><td>0</td><td>1</td><td>0</td></tr>\n",
              "\t<tr><td>1</td><td>0</td><td>0</td><td>1</td><td>0</td></tr>\n",
              "\t<tr><td>1</td><td>0</td><td>0</td><td>1</td><td>0</td></tr>\n",
              "\t<tr><td>1</td><td>0</td><td>0</td><td>1</td><td>0</td></tr>\n",
              "\t<tr><td>1</td><td>0</td><td>0</td><td>1</td><td>0</td></tr>\n",
              "\t<tr><td>1</td><td>0</td><td>0</td><td>0</td><td>1</td></tr>\n",
              "\t<tr><td>1</td><td>0</td><td>0</td><td>0</td><td>1</td></tr>\n",
              "\t<tr><td>1</td><td>0</td><td>0</td><td>0</td><td>1</td></tr>\n",
              "\t<tr><td>1</td><td>0</td><td>0</td><td>0</td><td>1</td></tr>\n",
              "\t<tr><td>1</td><td>0</td><td>0</td><td>0</td><td>1</td></tr>\n",
              "</tbody>\n",
              "</table>\n"
            ]
          },
          "metadata": {
            "tags": []
          }
        }
      ]
    },
    {
      "cell_type": "markdown",
      "metadata": {
        "id": "Ng0Oc5_cQzPZ",
        "colab_type": "text"
      },
      "source": [
        "We can see that `X` is indeed a matrix by inspecting its `class`"
      ]
    },
    {
      "cell_type": "code",
      "metadata": {
        "id": "RkUNwtf9QzPc",
        "colab_type": "code",
        "colab": {
          "base_uri": "https://localhost:8080/",
          "height": 34
        },
        "outputId": "f3e3e9c5-5baa-4a32-c83d-3919dbdf34fe"
      },
      "source": [
        "class(X)"
      ],
      "execution_count": 7,
      "outputs": [
        {
          "output_type": "display_data",
          "data": {
            "text/plain": [
              "[1] \"matrix\""
            ],
            "text/latex": "'matrix'",
            "text/markdown": "'matrix'",
            "text/html": [
              "'matrix'"
            ]
          },
          "metadata": {
            "tags": []
          }
        }
      ]
    },
    {
      "cell_type": "markdown",
      "metadata": {
        "id": "WZMqhHaNQzPl",
        "colab_type": "text"
      },
      "source": [
        "## Estimating the model parameters using matrix algebra\n",
        "\n",
        "Here, $\\mathbf{y}$ represents the **response vector** and $\\mathbf{X}$ represents the\n",
        "**design matrix**. The estimated model parameters can be obtained as\n",
        "follows \\-- this approach to estimating the model parameter is *very\n",
        "general* and in fact works for any linear model.\n",
        "\n",
        "$$Model\\ Estimates = \\ \\left( \\mathbf{X}^{T}\\mathbf{X} \\right)^{- 1}\\mathbf{X}^{T}\\mathbf{y}$$\n",
        "\n",
        "Compute $\\left( \\mathbf{X}^{T}\\mathbf{X} \\right)^{- 1}$ using `R`"
      ]
    },
    {
      "cell_type": "markdown",
      "metadata": {
        "id": "ckT4pmC_QzPm",
        "colab_type": "text"
      },
      "source": [
        "## Matrix computations in `R`\n",
        "\n",
        "Let's build the expression from the inside-out.  First, note that `R` uses \n",
        "\n",
        "* `%*%` for matrix multiplication and\n",
        "* `t(X)` for the transpose of `X`;"
      ]
    },
    {
      "cell_type": "code",
      "metadata": {
        "id": "OvQhbcQcQzPo",
        "colab_type": "code",
        "colab": {
          "base_uri": "https://localhost:8080/",
          "height": 178
        },
        "outputId": "eba11dfd-ec8e-4906-da75-81f522a80bea"
      },
      "source": [
        "t(X) %*% X"
      ],
      "execution_count": 8,
      "outputs": [
        {
          "output_type": "display_data",
          "data": {
            "text/plain": [
              "     [,1] [,2] [,3] [,4] [,5]\n",
              "[1,] 20   5    5    5    5   \n",
              "[2,]  5   5    0    0    0   \n",
              "[3,]  5   0    5    0    0   \n",
              "[4,]  5   0    0    5    0   \n",
              "[5,]  5   0    0    0    5   "
            ],
            "text/latex": "A matrix: 5 × 5 of type dbl\n\\begin{tabular}{lllll}\n\t 20 & 5 & 5 & 5 & 5\\\\\n\t  5 & 5 & 0 & 0 & 0\\\\\n\t  5 & 0 & 5 & 0 & 0\\\\\n\t  5 & 0 & 0 & 5 & 0\\\\\n\t  5 & 0 & 0 & 0 & 5\\\\\n\\end{tabular}\n",
            "text/markdown": "\nA matrix: 5 × 5 of type dbl\n\n| 20 | 5 | 5 | 5 | 5 |\n|  5 | 5 | 0 | 0 | 0 |\n|  5 | 0 | 5 | 0 | 0 |\n|  5 | 0 | 0 | 5 | 0 |\n|  5 | 0 | 0 | 0 | 5 |\n\n",
            "text/html": [
              "<table>\n",
              "<caption>A matrix: 5 × 5 of type dbl</caption>\n",
              "<tbody>\n",
              "\t<tr><td>20</td><td>5</td><td>5</td><td>5</td><td>5</td></tr>\n",
              "\t<tr><td> 5</td><td>5</td><td>0</td><td>0</td><td>0</td></tr>\n",
              "\t<tr><td> 5</td><td>0</td><td>5</td><td>0</td><td>0</td></tr>\n",
              "\t<tr><td> 5</td><td>0</td><td>0</td><td>5</td><td>0</td></tr>\n",
              "\t<tr><td> 5</td><td>0</td><td>0</td><td>0</td><td>5</td></tr>\n",
              "</tbody>\n",
              "</table>\n"
            ]
          },
          "metadata": {
            "tags": []
          }
        }
      ]
    },
    {
      "cell_type": "markdown",
      "metadata": {
        "id": "eYoRfbysQzPv",
        "colab_type": "text"
      },
      "source": [
        "and the inverse of a matrix can be computed using the `solve` function."
      ]
    },
    {
      "cell_type": "code",
      "metadata": {
        "id": "3-ykQp_GQzPy",
        "colab_type": "code",
        "colab": {
          "base_uri": "https://localhost:8080/",
          "height": 131
        },
        "outputId": "8b7024b0-7018-460f-9fb7-eef9651e6730"
      },
      "source": [
        "A = cbind(c(1, -1), c(1, 1))\n",
        "solve(A)"
      ],
      "execution_count": 9,
      "outputs": [
        {
          "output_type": "display_data",
          "data": {
            "text/plain": [
              "     [,1] [,2]\n",
              "[1,] 0.5  -0.5\n",
              "[2,] 0.5   0.5"
            ],
            "text/latex": "A matrix: 2 × 2 of type dbl\n\\begin{tabular}{ll}\n\t 0.5 & -0.5\\\\\n\t 0.5 &  0.5\\\\\n\\end{tabular}\n",
            "text/markdown": "\nA matrix: 2 × 2 of type dbl\n\n| 0.5 | -0.5 |\n| 0.5 |  0.5 |\n\n",
            "text/html": [
              "<table>\n",
              "<caption>A matrix: 2 × 2 of type dbl</caption>\n",
              "<tbody>\n",
              "\t<tr><td>0.5</td><td>-0.5</td></tr>\n",
              "\t<tr><td>0.5</td><td> 0.5</td></tr>\n",
              "</tbody>\n",
              "</table>\n"
            ]
          },
          "metadata": {
            "tags": []
          }
        }
      ]
    },
    {
      "cell_type": "markdown",
      "metadata": {
        "id": "WhPQShsfQzP5",
        "colab_type": "text"
      },
      "source": [
        "Unfortunately, the matrix $\\mathbf{X}^T\\mathbf{X}$ as written does not have an inverse."
      ]
    },
    {
      "cell_type": "code",
      "metadata": {
        "scrolled": true,
        "id": "Jifr8jDeQzP7",
        "colab_type": "code",
        "colab": {
          "base_uri": "https://localhost:8080/",
          "height": 147
        },
        "outputId": "14eb39e4-1c39-4478-9ce4-d421e05c40cb"
      },
      "source": [
        "solve(t(X) %*% X)"
      ],
      "execution_count": 10,
      "outputs": [
        {
          "output_type": "error",
          "ename": "ERROR",
          "evalue": "ignored",
          "traceback": [
            "Error in solve.default(t(X) %*% X): system is computationally singular: reciprocal condition number = 8.88178e-18\nTraceback:\n",
            "1. solve(t(X) %*% X)",
            "2. solve.default(t(X) %*% X)"
          ]
        }
      ]
    },
    {
      "cell_type": "markdown",
      "metadata": {
        "id": "IFoA9cDwQzQD",
        "colab_type": "text"
      },
      "source": [
        "## <font color=\"red\"> Exercise 3 </font>\n",
        "\n",
        "$$\\mathbf{X}  = \\begin{bmatrix}\n",
        "1 & 1 & 0 & 0 & 0 \\\\\n",
        "1 & 1 & 0 & 0 & 0 \\\\\n",
        "1 & 1 & 0 & 0 & 0 \\\\\n",
        "1 & 1 & 0 & 0 & 0 \\\\\n",
        "1 & 1 & 0 & 0 & 0 \\\\\n",
        "1 & 0 & 1 & 0 & 0 \\\\\n",
        "1 & 0 & 1 & 0 & 0 \\\\\n",
        "1 & 0 & 1 & 0 & 0 \\\\\n",
        "1 & 0 & 1 & 0 & 0 \\\\\n",
        "1 & 0 & 1 & 0 & 0 \\\\\n",
        "1 & 0 & 0 & 1 & 0 \\\\\n",
        "1 & 0 & 0 & 1 & 0 \\\\\n",
        "1 & 0 & 0 & 1 & 0 \\\\\n",
        "1 & 0 & 0 & 1 & 0 \\\\\n",
        "1 & 0 & 0 & 1 & 0 \\\\\n",
        "1 & 0 & 0 & 0 & 1 \\\\\n",
        "1 & 0 & 0 & 0 & 1 \\\\\n",
        "1 & 0 & 0 & 0 & 1 \\\\\n",
        "1 & 0 & 0 & 0 & 1 \\\\\n",
        "1 & 0 & 0 & 0 & 1 \\\\\n",
        "\\end{bmatrix}$$\n",
        "\n",
        "Show that column 1 is a linear combination of columns 2-4."
      ]
    },
    {
      "cell_type": "markdown",
      "metadata": {
        "id": "mgn69Bs1QzQG",
        "colab_type": "text"
      },
      "source": [
        "> *Your answer here*"
      ]
    },
    {
      "cell_type": "markdown",
      "metadata": {
        "id": "onfXZi60QzQI",
        "colab_type": "text"
      },
      "source": [
        "**Problem:** The columns of $\\mathbf{X}^{T}\\mathbf{X}$ are not\n",
        "linearly independent; thus, the inverse of $\\mathbf{X}^{T}\\mathbf{X}$\n",
        "cannot be computed.\n",
        "\n",
        "**Solution:** We need to re-parameterize the model so that the\n",
        "model parameters can be estimated. Consider the following\n",
        "re-parameterization. This re-parameterization utilizes the **\"Sum to\n",
        "Zero\"** restriction $\\tau_{1} + \\tau_{2} + \\tau_{3} + \\tau_{4} = 0$.\n",
        "\n",
        "Given this parameterization,\n",
        "\n",
        "$$\\tau_{4} = - (\\tau_{1} + \\tau_{2} + \\tau_{3})$$"
      ]
    },
    {
      "cell_type": "markdown",
      "metadata": {
        "id": "BBigYCOxQzQJ",
        "colab_type": "text"
      },
      "source": [
        "Design matrix using the sum-to-zero parameterization.\n",
        "\n",
        "\n",
        "$$\\begin{bmatrix}\n",
        "y_{11} \\\\\n",
        "y_{12} \\\\\n",
        "y_{13} \\\\\n",
        "y_{14} \\\\\n",
        "y_{15} \\\\\n",
        "y_{21} \\\\\n",
        "y_{22} \\\\\n",
        "y_{23} \\\\\n",
        "y_{24} \\\\\n",
        "y_{25} \\\\\n",
        "y_{31} \\\\\n",
        "y_{32} \\\\\n",
        "y_{33} \\\\\n",
        "y_{34} \\\\\n",
        "y_{35} \\\\\n",
        "y_{41} \\\\\n",
        "y_{42} \\\\\n",
        "y_{43} \\\\\n",
        "y_{44} \\\\\n",
        "y_{45} \\\\\n",
        "\\end{bmatrix} = \\begin{bmatrix}\n",
        "1 & 1 & 0 & 0 \\\\\n",
        "1 & 1 & 0 & 0 \\\\\n",
        "1 & 1 & 0 & 0 \\\\\n",
        "1 & 1 & 0 & 0 \\\\\n",
        "1 & 1 & 0 & 0 \\\\\n",
        "1 & 0 & 1 & 0 \\\\\n",
        "1 & 0 & 1 & 0 \\\\\n",
        "1 & 0 & 1 & 0 \\\\\n",
        "1 & 0 & 1 & 0 \\\\\n",
        "1 & 0 & 1 & 0 \\\\\n",
        "1 & 0 & 0 & 1 \\\\\n",
        "1 & 0 & 0 & 1 \\\\\n",
        "1 & 0 & 0 & 1 \\\\\n",
        "1 & 0 & 0 & 1 \\\\\n",
        "1 & 0 & 0 & 1 \\\\\n",
        "1 & -1 & -1 & -1 \\\\\n",
        "1 & -1 & -1 & -1 \\\\\n",
        "1 & -1 & -1 & -1 \\\\\n",
        "1 & -1 & -1 & -1 \\\\\n",
        "1 & -1 & -1 & -1 \\\\\n",
        "\\end{bmatrix}  \\begin{bmatrix}\n",
        "\\mu \\\\\n",
        "\\tau_1 \\\\\n",
        "\\tau_2 \\\\\n",
        "\\tau_3 \\\\\n",
        "\\end{bmatrix} + \\begin{bmatrix}\n",
        "\\varepsilon_{11} \\\\\n",
        "\\varepsilon_{12} \\\\\n",
        "\\varepsilon_{13} \\\\\n",
        "\\varepsilon_{14} \\\\\n",
        "\\varepsilon_{15} \\\\\n",
        "\\varepsilon_{21} \\\\\n",
        "\\varepsilon_{22} \\\\\n",
        "\\varepsilon_{23} \\\\\n",
        "\\varepsilon_{24} \\\\\n",
        "\\varepsilon_{25} \\\\\n",
        "\\varepsilon_{31} \\\\\n",
        "\\varepsilon_{32} \\\\\n",
        "\\varepsilon_{33} \\\\\n",
        "\\varepsilon_{34} \\\\\n",
        "\\varepsilon_{35} \\\\\n",
        "\\varepsilon_{41} \\\\\n",
        "\\varepsilon_{42} \\\\\n",
        "\\varepsilon_{43} \\\\\n",
        "\\varepsilon_{44} \\\\\n",
        "\\varepsilon_{45} \\\\\n",
        "\\end{bmatrix}$$"
      ]
    },
    {
      "cell_type": "markdown",
      "metadata": {
        "id": "zlwirR5EQzQL",
        "colab_type": "text"
      },
      "source": [
        "Making this change gives us a design matrix that has an inverse.  Again, we take advantage of the repetitive structure of the matrix to construct `X` in `R` using `cbind` and `rep`."
      ]
    },
    {
      "cell_type": "code",
      "metadata": {
        "scrolled": true,
        "id": "DRf-zvlZQzQN",
        "colab_type": "code",
        "colab": {
          "base_uri": "https://localhost:8080/",
          "height": 498
        },
        "outputId": "885853a9-9712-424a-ab96-7d78719350d6"
      },
      "source": [
        "X = cbind(rep(1, each=20),\n",
        "          rep(c(1,0,0,-1), each=5),\n",
        "          rep(c(0,1,0,-1), each=5),\n",
        "          rep(c(0,0,1,-1), each=5))\n",
        "X"
      ],
      "execution_count": 11,
      "outputs": [
        {
          "output_type": "display_data",
          "data": {
            "text/plain": [
              "      [,1] [,2] [,3] [,4]\n",
              " [1,] 1     1    0    0  \n",
              " [2,] 1     1    0    0  \n",
              " [3,] 1     1    0    0  \n",
              " [4,] 1     1    0    0  \n",
              " [5,] 1     1    0    0  \n",
              " [6,] 1     0    1    0  \n",
              " [7,] 1     0    1    0  \n",
              " [8,] 1     0    1    0  \n",
              " [9,] 1     0    1    0  \n",
              "[10,] 1     0    1    0  \n",
              "[11,] 1     0    0    1  \n",
              "[12,] 1     0    0    1  \n",
              "[13,] 1     0    0    1  \n",
              "[14,] 1     0    0    1  \n",
              "[15,] 1     0    0    1  \n",
              "[16,] 1    -1   -1   -1  \n",
              "[17,] 1    -1   -1   -1  \n",
              "[18,] 1    -1   -1   -1  \n",
              "[19,] 1    -1   -1   -1  \n",
              "[20,] 1    -1   -1   -1  "
            ],
            "text/latex": "A matrix: 20 × 4 of type dbl\n\\begin{tabular}{llll}\n\t 1 &  1 &  0 &  0\\\\\n\t 1 &  1 &  0 &  0\\\\\n\t 1 &  1 &  0 &  0\\\\\n\t 1 &  1 &  0 &  0\\\\\n\t 1 &  1 &  0 &  0\\\\\n\t 1 &  0 &  1 &  0\\\\\n\t 1 &  0 &  1 &  0\\\\\n\t 1 &  0 &  1 &  0\\\\\n\t 1 &  0 &  1 &  0\\\\\n\t 1 &  0 &  1 &  0\\\\\n\t 1 &  0 &  0 &  1\\\\\n\t 1 &  0 &  0 &  1\\\\\n\t 1 &  0 &  0 &  1\\\\\n\t 1 &  0 &  0 &  1\\\\\n\t 1 &  0 &  0 &  1\\\\\n\t 1 & -1 & -1 & -1\\\\\n\t 1 & -1 & -1 & -1\\\\\n\t 1 & -1 & -1 & -1\\\\\n\t 1 & -1 & -1 & -1\\\\\n\t 1 & -1 & -1 & -1\\\\\n\\end{tabular}\n",
            "text/markdown": "\nA matrix: 20 × 4 of type dbl\n\n| 1 |  1 |  0 |  0 |\n| 1 |  1 |  0 |  0 |\n| 1 |  1 |  0 |  0 |\n| 1 |  1 |  0 |  0 |\n| 1 |  1 |  0 |  0 |\n| 1 |  0 |  1 |  0 |\n| 1 |  0 |  1 |  0 |\n| 1 |  0 |  1 |  0 |\n| 1 |  0 |  1 |  0 |\n| 1 |  0 |  1 |  0 |\n| 1 |  0 |  0 |  1 |\n| 1 |  0 |  0 |  1 |\n| 1 |  0 |  0 |  1 |\n| 1 |  0 |  0 |  1 |\n| 1 |  0 |  0 |  1 |\n| 1 | -1 | -1 | -1 |\n| 1 | -1 | -1 | -1 |\n| 1 | -1 | -1 | -1 |\n| 1 | -1 | -1 | -1 |\n| 1 | -1 | -1 | -1 |\n\n",
            "text/html": [
              "<table>\n",
              "<caption>A matrix: 20 × 4 of type dbl</caption>\n",
              "<tbody>\n",
              "\t<tr><td>1</td><td> 1</td><td> 0</td><td> 0</td></tr>\n",
              "\t<tr><td>1</td><td> 1</td><td> 0</td><td> 0</td></tr>\n",
              "\t<tr><td>1</td><td> 1</td><td> 0</td><td> 0</td></tr>\n",
              "\t<tr><td>1</td><td> 1</td><td> 0</td><td> 0</td></tr>\n",
              "\t<tr><td>1</td><td> 1</td><td> 0</td><td> 0</td></tr>\n",
              "\t<tr><td>1</td><td> 0</td><td> 1</td><td> 0</td></tr>\n",
              "\t<tr><td>1</td><td> 0</td><td> 1</td><td> 0</td></tr>\n",
              "\t<tr><td>1</td><td> 0</td><td> 1</td><td> 0</td></tr>\n",
              "\t<tr><td>1</td><td> 0</td><td> 1</td><td> 0</td></tr>\n",
              "\t<tr><td>1</td><td> 0</td><td> 1</td><td> 0</td></tr>\n",
              "\t<tr><td>1</td><td> 0</td><td> 0</td><td> 1</td></tr>\n",
              "\t<tr><td>1</td><td> 0</td><td> 0</td><td> 1</td></tr>\n",
              "\t<tr><td>1</td><td> 0</td><td> 0</td><td> 1</td></tr>\n",
              "\t<tr><td>1</td><td> 0</td><td> 0</td><td> 1</td></tr>\n",
              "\t<tr><td>1</td><td> 0</td><td> 0</td><td> 1</td></tr>\n",
              "\t<tr><td>1</td><td>-1</td><td>-1</td><td>-1</td></tr>\n",
              "\t<tr><td>1</td><td>-1</td><td>-1</td><td>-1</td></tr>\n",
              "\t<tr><td>1</td><td>-1</td><td>-1</td><td>-1</td></tr>\n",
              "\t<tr><td>1</td><td>-1</td><td>-1</td><td>-1</td></tr>\n",
              "\t<tr><td>1</td><td>-1</td><td>-1</td><td>-1</td></tr>\n",
              "</tbody>\n",
              "</table>\n"
            ]
          },
          "metadata": {
            "tags": []
          }
        }
      ]
    },
    {
      "cell_type": "markdown",
      "metadata": {
        "id": "HJ0qTB3CQzQT",
        "colab_type": "text"
      },
      "source": [
        "This new re-parameterized matrix has an inverse, as seen below."
      ]
    },
    {
      "cell_type": "code",
      "metadata": {
        "id": "3aBxXLfjQzQV",
        "colab_type": "code",
        "colab": {
          "base_uri": "https://localhost:8080/",
          "height": 139
        },
        "outputId": "18c58ccb-2be9-4560-8157-7f797fcafa20"
      },
      "source": [
        "solve(t(X) %*% X)"
      ],
      "execution_count": 12,
      "outputs": [
        {
          "output_type": "display_data",
          "data": {
            "text/plain": [
              "     [,1] [,2]  [,3]  [,4] \n",
              "[1,] 0.05  0.00  0.00  0.00\n",
              "[2,] 0.00  0.15 -0.05 -0.05\n",
              "[3,] 0.00 -0.05  0.15 -0.05\n",
              "[4,] 0.00 -0.05 -0.05  0.15"
            ],
            "text/latex": "A matrix: 4 × 4 of type dbl\n\\begin{tabular}{llll}\n\t 0.05 &  0.00 &  0.00 &  0.00\\\\\n\t 0.00 &  0.15 & -0.05 & -0.05\\\\\n\t 0.00 & -0.05 &  0.15 & -0.05\\\\\n\t 0.00 & -0.05 & -0.05 &  0.15\\\\\n\\end{tabular}\n",
            "text/markdown": "\nA matrix: 4 × 4 of type dbl\n\n| 0.05 |  0.00 |  0.00 |  0.00 |\n| 0.00 |  0.15 | -0.05 | -0.05 |\n| 0.00 | -0.05 |  0.15 | -0.05 |\n| 0.00 | -0.05 | -0.05 |  0.15 |\n\n",
            "text/html": [
              "<table>\n",
              "<caption>A matrix: 4 × 4 of type dbl</caption>\n",
              "<tbody>\n",
              "\t<tr><td>0.05</td><td> 0.00</td><td> 0.00</td><td> 0.00</td></tr>\n",
              "\t<tr><td>0.00</td><td> 0.15</td><td>-0.05</td><td>-0.05</td></tr>\n",
              "\t<tr><td>0.00</td><td>-0.05</td><td> 0.15</td><td>-0.05</td></tr>\n",
              "\t<tr><td>0.00</td><td>-0.05</td><td>-0.05</td><td> 0.15</td></tr>\n",
              "</tbody>\n",
              "</table>\n"
            ]
          },
          "metadata": {
            "tags": []
          }
        }
      ]
    },
    {
      "cell_type": "markdown",
      "metadata": {
        "id": "tA3MCSJNQzQb",
        "colab_type": "text"
      },
      "source": [
        "## Getting the estimates via matrix algebra\n",
        "\n",
        "We can compute these estimates with matrices using $\\ \\left( \\mathbf{X}^{T}\\mathbf{X} \\right)^{- 1}\\mathbf{X}^{T}\\mathbf{y}$"
      ]
    },
    {
      "cell_type": "code",
      "metadata": {
        "id": "Y3Ib56liQzQd",
        "colab_type": "code",
        "colab": {
          "base_uri": "https://localhost:8080/",
          "height": 191
        },
        "outputId": "f5d2f57b-d38c-4120-a16a-819a756c1b07"
      },
      "source": [
        "mu_hat = solve(t(X) %*% X) %*% t(X) %*% y\n",
        "mu_hat"
      ],
      "execution_count": 13,
      "outputs": [
        {
          "output_type": "display_data",
          "data": {
            "text/plain": [
              "     [,1]  \n",
              "[1,] 617.75\n",
              "[2,] -66.55\n",
              "[3,] -30.35\n",
              "[4,]   7.65"
            ],
            "text/latex": "A matrix: 4 × 1 of type dbl\n\\begin{tabular}{l}\n\t 617.75\\\\\n\t -66.55\\\\\n\t -30.35\\\\\n\t   7.65\\\\\n\\end{tabular}\n",
            "text/markdown": "\nA matrix: 4 × 1 of type dbl\n\n| 617.75 |\n| -66.55 |\n| -30.35 |\n|   7.65 |\n\n",
            "text/html": [
              "<table>\n",
              "<caption>A matrix: 4 × 1 of type dbl</caption>\n",
              "<tbody>\n",
              "\t<tr><td>617.75</td></tr>\n",
              "\t<tr><td>-66.55</td></tr>\n",
              "\t<tr><td>-30.35</td></tr>\n",
              "\t<tr><td>  7.65</td></tr>\n",
              "</tbody>\n",
              "</table>\n"
            ]
          },
          "metadata": {
            "tags": []
          }
        }
      ]
    },
    {
      "cell_type": "markdown",
      "metadata": {
        "id": "XnTs5LL7QzQk",
        "colab_type": "text"
      },
      "source": [
        " Also note that the missing estimate, $\\tau_4$ needs to be computed by hand, i.e. \n",
        "\n",
        "$$\\tau_4 = -1*(-66.55 + -30.35 + 7.65) = 89.25$$\n",
        "\n",
        "This can be automated in `R` as follows.\n"
      ]
    },
    {
      "cell_type": "code",
      "metadata": {
        "id": "M7e63pBQQzQm",
        "colab_type": "code",
        "colab": {
          "base_uri": "https://localhost:8080/",
          "height": 127
        },
        "outputId": "50af0f98-0d73-42d2-f34a-45b3d13f00e5"
      },
      "source": [
        "tau_4 = -1* c(0, -1, -1, -1) %*% mu_hat\n",
        "tau_4"
      ],
      "execution_count": 14,
      "outputs": [
        {
          "output_type": "display_data",
          "data": {
            "text/plain": [
              "     [,1]  \n",
              "[1,] -89.25"
            ],
            "text/latex": "A matrix: 1 × 1 of type dbl\n\\begin{tabular}{l}\n\t -89.25\\\\\n\\end{tabular}\n",
            "text/markdown": "\nA matrix: 1 × 1 of type dbl\n\n| -89.25 |\n\n",
            "text/html": [
              "<table>\n",
              "<caption>A matrix: 1 × 1 of type dbl</caption>\n",
              "<tbody>\n",
              "\t<tr><td>-89.25</td></tr>\n",
              "</tbody>\n",
              "</table>\n"
            ]
          },
          "metadata": {
            "tags": []
          }
        }
      ]
    },
    {
      "cell_type": "markdown",
      "metadata": {
        "id": "2iMUupNVQzQr",
        "colab_type": "text"
      },
      "source": [
        "### Computing model estimates in JMP\n",
        "\n",
        "Select **Analyze > Fit Model** and look for the table named **Expanded Parameter Estimates**.  If this table is not present, you can add the table by selecting **Estimates > Expanded Estimates**.\n",
        "\n",
        "![](https://github.com/yardsale8/STAT321/blob/master/img/expanded_estimates.png?raw=1)\n",
        "\n",
        "**Note:** We use the *Expanded* estimates to avoid the mysterious \"missing\" parameter issue we get with the re-parameterized design matrix."
      ]
    },
    {
      "cell_type": "markdown",
      "metadata": {
        "id": "5siCktu2QzQt",
        "colab_type": "text"
      },
      "source": [
        "## Comparing the estimates to the grand mean and residuals\n",
        "\n",
        "Again compare these estimates to the columns we computed earlier.  We can see that the estimates are indeed another form of these familiar values. \n",
        "\n",
        "![model as table](https://github.com/yardsale8/STAT321/blob/master/img/model_as_table.png?raw=1)"
      ]
    },
    {
      "cell_type": "code",
      "metadata": {
        "id": "Pdj2A6ZRQzQu",
        "colab_type": "code",
        "colab": {
          "base_uri": "https://localhost:8080/",
          "height": 34
        },
        "outputId": "f889a046-2bc4-4b1e-e993-ab5741a60bc1"
      },
      "source": [
        "c(mu_hat, tau_4)"
      ],
      "execution_count": 15,
      "outputs": [
        {
          "output_type": "display_data",
          "data": {
            "text/plain": [
              "[1] 617.75 -66.55 -30.35   7.65 -89.25"
            ],
            "text/latex": "\\begin{enumerate*}\n\\item 617.75\n\\item -66.55\n\\item -30.35\n\\item 7.65000000000003\n\\item -89.2499999999999\n\\end{enumerate*}\n",
            "text/markdown": "1. 617.75\n2. -66.55\n3. -30.35\n4. 7.65000000000003\n5. -89.2499999999999\n\n\n",
            "text/html": [
              "<style>\n",
              ".list-inline {list-style: none; margin:0; padding: 0}\n",
              ".list-inline>li {display: inline-block}\n",
              ".list-inline>li:not(:last-child)::after {content: \"\\00b7\"; padding: 0 .5ex}\n",
              "</style>\n",
              "<ol class=list-inline><li>617.75</li><li>-66.55</li><li>-30.35</li><li>7.65000000000003</li><li>-89.2499999999999</li></ol>\n"
            ]
          },
          "metadata": {
            "tags": []
          }
        }
      ]
    },
    {
      "cell_type": "markdown",
      "metadata": {
        "id": "F1gtfkmmQzQz",
        "colab_type": "text"
      },
      "source": [
        "## Getting the predicted outcomes \n",
        "\n",
        "The **predicted response vector**, also known as **fitted values**, from our simply contains the mean for\n",
        "each treatment level. Compute the predicted response vector for our data.  Recall that the estimated mean vector is given by $\\widehat{\\mu}=\\left( \\mathbf{X}^{\\mathbf{'}}\\mathbf{X} \\right)^{\\mathbf{- 1}}\\mathbf{X}^{\\mathbf{'}}\\mathbf{Y}$\n",
        "\n",
        "Predicted response, often identified as $\\widehat{\\mathbf{y}}$, is given by\n",
        "\n",
        "$$\\begin{matrix}\n",
        "\\widehat{\\mathbf{y}} & = & \\mathbf{X}\\left( \\mathbf{X}^{\\mathbf{T}}\\mathbf{X} \\right)^{\\mathbf{- 1}}\\mathbf{X}^{\\mathbf{T}}\\mathbf{Y} \\\\\n",
        " & = & \\mathbf{X}\\widehat{\\mathbf{\\mu}} \\\\\n",
        " & \\mathbf{=} & \\mathbf{X}\\begin{bmatrix}\n",
        "\\hat{\\mu} \\\\\n",
        "{\\hat{\\tau}}_{1} \\\\\n",
        "{\\hat{\\tau}}_{2} \\\\\n",
        "{\\hat{\\tau}}_{3} \\\\\n",
        "\\end{bmatrix} \\\\\n",
        "\\end{matrix}$$"
      ]
    },
    {
      "cell_type": "markdown",
      "metadata": {
        "id": "jk8RobJiQzQ1",
        "colab_type": "text"
      },
      "source": [
        "For our design matrix and estimated vector of model coefficients we have\n",
        "the following predicted outcomes.\n",
        "\n",
        "$$\\widehat{\\mathbf{y}} = \\begin{bmatrix}\n",
        "{\\widehat{y}}_{11} \\\\\n",
        "{\\widehat{y}}_{12} \\\\\n",
        "{\\widehat{y}}_{13} \\\\\n",
        "{\\widehat{y}}_{14} \\\\\n",
        "{\\widehat{y}}_{15} \\\\\n",
        "{\\widehat{y}}_{21} \\\\\n",
        "{\\widehat{y}}_{22} \\\\\n",
        "{\\widehat{y}}_{23} \\\\\n",
        "{\\widehat{y}}_{24} \\\\\n",
        "{\\widehat{y}}_{25} \\\\\n",
        "{\\widehat{y}}_{31} \\\\\n",
        "{\\widehat{y}}_{32} \\\\\n",
        "{\\widehat{y}}_{33} \\\\\n",
        "{\\widehat{y}}_{34} \\\\\n",
        "{\\widehat{y}}_{35} \\\\\n",
        "{\\widehat{y}}_{41} \\\\\n",
        "{\\widehat{y}}_{42} \\\\\n",
        "{\\widehat{y}}_{43} \\\\\n",
        "{\\widehat{y}}_{44} \\\\\n",
        "{\\widehat{y}}_{45} \\\\\n",
        "\\end{bmatrix} = \\begin{bmatrix}\n",
        "1 & 1 & 0 & 0 \\\\\n",
        "1 & 1 & 0 & 0 \\\\\n",
        "1 & 1 & 0 & 0 \\\\\n",
        "1 & 1 & 0 & 0 \\\\\n",
        "1 & 1 & 0 & 0 \\\\\n",
        "1 & 0 & 1 & 0 \\\\\n",
        "1 & 0 & 1 & 0 \\\\\n",
        "1 & 0 & 1 & 0 \\\\\n",
        "1 & 0 & 1 & 0 \\\\\n",
        "1 & 0 & 1 & 0 \\\\\n",
        "1 & 0 & 0 & 1 \\\\\n",
        "1 & 0 & 0 & 1 \\\\\n",
        "1 & 0 & 0 & 1 \\\\\n",
        "1 & 0 & 0 & 1 \\\\\n",
        "1 & 0 & 0 & 1 \\\\\n",
        "1 & - 1 & - 1 & - 1 \\\\\n",
        "1 & - 1 & - 1 & - 1 \\\\\n",
        "1 & - 1 & - 1 & - 1 \\\\\n",
        "1 & - 1 & - 1 & - 1 \\\\\n",
        "1 & - 1 & - 1 & - 1 \\\\\n",
        "\\end{bmatrix}\\begin{bmatrix}\n",
        "617.75 \\\\\n",
        " - 66.55 \\\\\n",
        " - 30.35 \\\\\n",
        "7.65 \\\\\n",
        "\\end{bmatrix} = \\begin{bmatrix}\n",
        "551.2 \\\\\n",
        "551.2 \\\\\n",
        "551.2 \\\\\n",
        "551.2 \\\\\n",
        "551.2 \\\\\n",
        "587.4 \\\\\n",
        "587.4 \\\\\n",
        "587.4 \\\\\n",
        "587.4 \\\\\n",
        "587.4 \\\\\n",
        "625.4 \\\\\n",
        "625.4 \\\\\n",
        "625.4 \\\\\n",
        "625.4 \\\\\n",
        "625.4 \\\\\n",
        "707.0 \\\\\n",
        "707.0 \\\\\n",
        "707.0 \\\\\n",
        "707.0 \\\\\n",
        "707.0 \\\\\n",
        "\\end{bmatrix}$$"
      ]
    },
    {
      "cell_type": "code",
      "metadata": {
        "id": "WnXuVhJ7QzQ3",
        "colab_type": "code",
        "colab": {
          "base_uri": "https://localhost:8080/",
          "height": 533
        },
        "outputId": "08461f96-f2ab-42b8-d43c-669fccb21477"
      },
      "source": [
        "y_hat = X %*% mu_hat\n",
        "y_hat"
      ],
      "execution_count": 16,
      "outputs": [
        {
          "output_type": "display_data",
          "data": {
            "text/plain": [
              "      [,1] \n",
              " [1,] 551.2\n",
              " [2,] 551.2\n",
              " [3,] 551.2\n",
              " [4,] 551.2\n",
              " [5,] 551.2\n",
              " [6,] 587.4\n",
              " [7,] 587.4\n",
              " [8,] 587.4\n",
              " [9,] 587.4\n",
              "[10,] 587.4\n",
              "[11,] 625.4\n",
              "[12,] 625.4\n",
              "[13,] 625.4\n",
              "[14,] 625.4\n",
              "[15,] 625.4\n",
              "[16,] 707.0\n",
              "[17,] 707.0\n",
              "[18,] 707.0\n",
              "[19,] 707.0\n",
              "[20,] 707.0"
            ],
            "text/latex": "A matrix: 20 × 1 of type dbl\n\\begin{tabular}{l}\n\t 551.2\\\\\n\t 551.2\\\\\n\t 551.2\\\\\n\t 551.2\\\\\n\t 551.2\\\\\n\t 587.4\\\\\n\t 587.4\\\\\n\t 587.4\\\\\n\t 587.4\\\\\n\t 587.4\\\\\n\t 625.4\\\\\n\t 625.4\\\\\n\t 625.4\\\\\n\t 625.4\\\\\n\t 625.4\\\\\n\t 707.0\\\\\n\t 707.0\\\\\n\t 707.0\\\\\n\t 707.0\\\\\n\t 707.0\\\\\n\\end{tabular}\n",
            "text/markdown": "\nA matrix: 20 × 1 of type dbl\n\n| 551.2 |\n| 551.2 |\n| 551.2 |\n| 551.2 |\n| 551.2 |\n| 587.4 |\n| 587.4 |\n| 587.4 |\n| 587.4 |\n| 587.4 |\n| 625.4 |\n| 625.4 |\n| 625.4 |\n| 625.4 |\n| 625.4 |\n| 707.0 |\n| 707.0 |\n| 707.0 |\n| 707.0 |\n| 707.0 |\n\n",
            "text/html": [
              "<table>\n",
              "<caption>A matrix: 20 × 1 of type dbl</caption>\n",
              "<tbody>\n",
              "\t<tr><td>551.2</td></tr>\n",
              "\t<tr><td>551.2</td></tr>\n",
              "\t<tr><td>551.2</td></tr>\n",
              "\t<tr><td>551.2</td></tr>\n",
              "\t<tr><td>551.2</td></tr>\n",
              "\t<tr><td>587.4</td></tr>\n",
              "\t<tr><td>587.4</td></tr>\n",
              "\t<tr><td>587.4</td></tr>\n",
              "\t<tr><td>587.4</td></tr>\n",
              "\t<tr><td>587.4</td></tr>\n",
              "\t<tr><td>625.4</td></tr>\n",
              "\t<tr><td>625.4</td></tr>\n",
              "\t<tr><td>625.4</td></tr>\n",
              "\t<tr><td>625.4</td></tr>\n",
              "\t<tr><td>625.4</td></tr>\n",
              "\t<tr><td>707.0</td></tr>\n",
              "\t<tr><td>707.0</td></tr>\n",
              "\t<tr><td>707.0</td></tr>\n",
              "\t<tr><td>707.0</td></tr>\n",
              "\t<tr><td>707.0</td></tr>\n",
              "</tbody>\n",
              "</table>\n"
            ]
          },
          "metadata": {
            "tags": []
          }
        }
      ]
    },
    {
      "cell_type": "markdown",
      "metadata": {
        "id": "THy8sAE0QzQ8",
        "colab_type": "text"
      },
      "source": [
        "## Getting the Residuals, i.e. Errors, using our General Linear Model\n",
        "\n",
        "The amount of error present in our model is simply the difference\n",
        "between the original response vector and the predicted response vector.\n",
        "The **residual vector** is computed as follows.\n",
        "\n",
        "$$\\widehat{\\mathbf{r}} = \\left( \\mathbf{y} - \\widehat{\\mathbf{y}} \\right)$$\n",
        "\n",
        "Getting the residual vector for our example.\n",
        "\n",
        "$$\\widehat{\\mathbf{r}} = \\begin{bmatrix}\n",
        "575 \\\\\n",
        "530 \\\\\n",
        "542 \\\\\n",
        "539 \\\\\n",
        "570 \\\\\n",
        "610 \\\\\n",
        "593 \\\\\n",
        "565 \\\\\n",
        "590 \\\\\n",
        "579 \\\\\n",
        "610 \\\\\n",
        "651 \\\\\n",
        "600 \\\\\n",
        "629 \\\\\n",
        "637 \\\\\n",
        "715 \\\\\n",
        "725 \\\\\n",
        "710 \\\\\n",
        "700 \\\\\n",
        "685 \\\\\n",
        "\\end{bmatrix} - \\begin{bmatrix}\n",
        "551.2 \\\\\n",
        "551.2 \\\\\n",
        "551.2 \\\\\n",
        "551.2 \\\\\n",
        "551.2 \\\\\n",
        "587.4 \\\\\n",
        "587.4 \\\\\n",
        "587.4 \\\\\n",
        "587.4 \\\\\n",
        "587.4 \\\\\n",
        "625.4 \\\\\n",
        "625.4 \\\\\n",
        "625.4 \\\\\n",
        "625.4 \\\\\n",
        "625.4 \\\\\n",
        "707.0 \\\\\n",
        "707.0 \\\\\n",
        "707.0 \\\\\n",
        "707.0 \\\\\n",
        "707.0 \\\\\n",
        "\\end{bmatrix} = \\begin{bmatrix}\n",
        "23.8 \\\\\n",
        " - 21.2 \\\\\n",
        " - 9.2 \\\\\n",
        " - 12.2 \\\\\n",
        "18.8 \\\\\n",
        "22.6 \\\\\n",
        "5.6 \\\\\n",
        " - 22.4 \\\\\n",
        "2.6 \\\\\n",
        " - 8.4 \\\\\n",
        " - 15.4 \\\\\n",
        "25.6 \\\\\n",
        " - 25.4 \\\\\n",
        "3.6 \\\\\n",
        "11.6 \\\\\n",
        "8.0 \\\\\n",
        "18.0 \\\\\n",
        "3.0 \\\\\n",
        " - 7.0 \\\\\n",
        " - 22.0 \\\\\n",
        "\\end{bmatrix}$$"
      ]
    },
    {
      "cell_type": "code",
      "metadata": {
        "id": "m3B9n1tsQzQ-",
        "colab_type": "code",
        "colab": {
          "base_uri": "https://localhost:8080/",
          "height": 533
        },
        "outputId": "3136c9ac-4559-45f1-cbce-df8a78a406d3"
      },
      "source": [
        "r = y - y_hat\n",
        "r"
      ],
      "execution_count": 17,
      "outputs": [
        {
          "output_type": "display_data",
          "data": {
            "text/plain": [
              "      [,1] \n",
              " [1,]  23.8\n",
              " [2,]  -9.2\n",
              " [3,] -21.2\n",
              " [4,] -12.2\n",
              " [5,]  18.8\n",
              " [6,] -22.4\n",
              " [7,]   5.6\n",
              " [8,]   2.6\n",
              " [9,]  -8.4\n",
              "[10,]  22.6\n",
              "[11,] -25.4\n",
              "[12,]  25.6\n",
              "[13,] -15.4\n",
              "[14,]  11.6\n",
              "[15,]   3.6\n",
              "[16,]  18.0\n",
              "[17,]  -7.0\n",
              "[18,]   8.0\n",
              "[19,] -22.0\n",
              "[20,]   3.0"
            ],
            "text/latex": "A matrix: 20 × 1 of type dbl\n\\begin{tabular}{l}\n\t  23.8\\\\\n\t  -9.2\\\\\n\t -21.2\\\\\n\t -12.2\\\\\n\t  18.8\\\\\n\t -22.4\\\\\n\t   5.6\\\\\n\t   2.6\\\\\n\t  -8.4\\\\\n\t  22.6\\\\\n\t -25.4\\\\\n\t  25.6\\\\\n\t -15.4\\\\\n\t  11.6\\\\\n\t   3.6\\\\\n\t  18.0\\\\\n\t  -7.0\\\\\n\t   8.0\\\\\n\t -22.0\\\\\n\t   3.0\\\\\n\\end{tabular}\n",
            "text/markdown": "\nA matrix: 20 × 1 of type dbl\n\n|  23.8 |\n|  -9.2 |\n| -21.2 |\n| -12.2 |\n|  18.8 |\n| -22.4 |\n|   5.6 |\n|   2.6 |\n|  -8.4 |\n|  22.6 |\n| -25.4 |\n|  25.6 |\n| -15.4 |\n|  11.6 |\n|   3.6 |\n|  18.0 |\n|  -7.0 |\n|   8.0 |\n| -22.0 |\n|   3.0 |\n\n",
            "text/html": [
              "<table>\n",
              "<caption>A matrix: 20 × 1 of type dbl</caption>\n",
              "<tbody>\n",
              "\t<tr><td> 23.8</td></tr>\n",
              "\t<tr><td> -9.2</td></tr>\n",
              "\t<tr><td>-21.2</td></tr>\n",
              "\t<tr><td>-12.2</td></tr>\n",
              "\t<tr><td> 18.8</td></tr>\n",
              "\t<tr><td>-22.4</td></tr>\n",
              "\t<tr><td>  5.6</td></tr>\n",
              "\t<tr><td>  2.6</td></tr>\n",
              "\t<tr><td> -8.4</td></tr>\n",
              "\t<tr><td> 22.6</td></tr>\n",
              "\t<tr><td>-25.4</td></tr>\n",
              "\t<tr><td> 25.6</td></tr>\n",
              "\t<tr><td>-15.4</td></tr>\n",
              "\t<tr><td> 11.6</td></tr>\n",
              "\t<tr><td>  3.6</td></tr>\n",
              "\t<tr><td> 18.0</td></tr>\n",
              "\t<tr><td> -7.0</td></tr>\n",
              "\t<tr><td>  8.0</td></tr>\n",
              "\t<tr><td>-22.0</td></tr>\n",
              "\t<tr><td>  3.0</td></tr>\n",
              "</tbody>\n",
              "</table>\n"
            ]
          },
          "metadata": {
            "tags": []
          }
        }
      ]
    },
    {
      "cell_type": "markdown",
      "metadata": {
        "id": "ziJaDGj0QzRD",
        "colab_type": "text"
      },
      "source": [
        "The sums-of-squared error can easily be computed as follows\n",
        "\n",
        "$${SSE = \\ \\widehat{\\mathbf{r}}}^{T}\\widehat{\\mathbf{r}}$$\n",
        "\n",
        "The average amount of squared error can be computed as\n",
        "\n",
        "$${\\widehat{\\sigma}}^{2} = MSE = \\frac{\\text{SSE}}{\\text{df}_{\\text{error}}} = \\frac{{\\widehat{\\mathbf{r}}}^{T}\\widehat{\\mathbf{r}}}{\\text{df}_{\\text{error}}}$$\n",
        "\n",
        "For our example, we get\n",
        "\n",
        "$${\\widehat{\\sigma}}^{2} = \\frac{{\\widehat{\\mathbf{r}}}^{T}\\widehat{\\mathbf{r}}}{\\text{df}_{\\text{error}}} = \\frac{5339}{16} = 334$$"
      ]
    },
    {
      "cell_type": "code",
      "metadata": {
        "id": "QR62-riMQzRF",
        "colab_type": "code",
        "colab": {
          "base_uri": "https://localhost:8080/",
          "height": 34
        },
        "outputId": "434ceacd-c3d4-4469-a494-8bc8f79038f1"
      },
      "source": [
        "t <- length(unique(data$power_w))\n",
        "df_error <- nrow(data) - t\n",
        "SS_error <- (t(r) %*% r)[1] # 1x1 matrix, grab entry with [1]\n",
        "sigma_sqr_hat <- SS_error/df_error # AKA MS error\n",
        "sigma_sqr_hat"
      ],
      "execution_count": 18,
      "outputs": [
        {
          "output_type": "display_data",
          "data": {
            "text/plain": [
              "[1] 333.7"
            ],
            "text/latex": "333.7",
            "text/markdown": "333.7",
            "text/html": [
              "333.7"
            ]
          },
          "metadata": {
            "tags": []
          }
        }
      ]
    },
    {
      "cell_type": "markdown",
      "metadata": {
        "id": "kx1l8X5CQzRL",
        "colab_type": "text"
      },
      "source": [
        "## The Standard Error of Model Estimates\n",
        "\n",
        "The estimate of ${\\widehat{\\sigma}}^{2}$ is used in computing the\n",
        "standard errors of the estimated model parameters. The standard error\n",
        "estimates of our model parameters are necessary for hypothesis testing\n",
        "and for computing confidence intervals (which we used in the previous\n",
        "handout).\n",
        "\n",
        "The variance-covariance matrix of the estimated parameter vector is\n",
        "given by\n",
        "\n",
        "${\\text{Var}\\left( \\widehat{\\mathbf{\\mu}} \\right) = {\\widehat{\\sigma}}^{2}\\left( \\mathbf{X}^{\\mathbf{T}}\\mathbf{X} \\right)}^{\\mathbf{- 1}}$\n",
        "\n",
        "Computing the variance of the estimated model parameters for our\n",
        "example.\n",
        "\n",
        "$$\\begin{matrix}\n",
        "\\text{Var}\\left( \\widehat{\\mathbf{\\mu}} \\right) = Var\\left( \\begin{bmatrix}\n",
        "\\widehat{\\mu} \\\\\n",
        "{\\widehat{\\tau}}_{1} \\\\\n",
        "{\\widehat{\\tau}}_{2} \\\\\n",
        "{\\widehat{\\tau}}_{3} \\\\\n",
        "\\end{bmatrix} \\right) & \\mathbf{=} & {{\\widehat{\\sigma}}^{2}\\left( \\mathbf{X}^{\\mathbf{'}}\\mathbf{X} \\right)}^{\\mathbf{-}1} \\\\\n",
        " & \\mathbf{=} & 334\\begin{bmatrix}\n",
        "20 & 0 & 0 & 0 \\\\\n",
        "0 & 10 & 5 & 5 \\\\\n",
        "0 & 5 & 10 & 5 \\\\\n",
        "0 & 5 & 5 & 10 \\\\\n",
        "\\end{bmatrix}^{\\mathbf{- 1}} \\\\\n",
        " & \\mathbf{=} & 334\\begin{bmatrix}\n",
        "0.05 & 0 & 0 & 0 \\\\\n",
        "0 & 0.15 & - 0.05 & - 0.05 \\\\\n",
        "0 & - 0.05 & 0.15 & - 0.05 \\\\\n",
        "0 & - 0.05 & - 0.05 & 0.15 \\\\\n",
        "\\end{bmatrix} \\\\\n",
        "\\end{matrix}$$"
      ]
    },
    {
      "cell_type": "code",
      "metadata": {
        "id": "74bV8SPFQzRN",
        "colab_type": "code",
        "colab": {
          "base_uri": "https://localhost:8080/",
          "height": 122
        },
        "outputId": "fa01f0c2-9daf-4023-96e8-183fa9f39ea7"
      },
      "source": [
        "var_cov = sigma_sqr_hat* solve(t(X) %*% X)\n",
        "var_cov"
      ],
      "execution_count": 19,
      "outputs": [
        {
          "output_type": "display_data",
          "data": {
            "text/plain": [
              "     [,1]   [,2]    [,3]    [,4]   \n",
              "[1,] 16.685   0.000   0.000   0.000\n",
              "[2,]  0.000  50.055 -16.685 -16.685\n",
              "[3,]  0.000 -16.685  50.055 -16.685\n",
              "[4,]  0.000 -16.685 -16.685  50.055"
            ],
            "text/latex": "A matrix: 4 × 4 of type dbl\n\\begin{tabular}{llll}\n\t 16.685 &   0.000 &   0.000 &   0.000\\\\\n\t  0.000 &  50.055 & -16.685 & -16.685\\\\\n\t  0.000 & -16.685 &  50.055 & -16.685\\\\\n\t  0.000 & -16.685 & -16.685 &  50.055\\\\\n\\end{tabular}\n",
            "text/markdown": "\nA matrix: 4 × 4 of type dbl\n\n| 16.685 |   0.000 |   0.000 |   0.000 |\n|  0.000 |  50.055 | -16.685 | -16.685 |\n|  0.000 | -16.685 |  50.055 | -16.685 |\n|  0.000 | -16.685 | -16.685 |  50.055 |\n\n",
            "text/html": [
              "<table>\n",
              "<caption>A matrix: 4 × 4 of type dbl</caption>\n",
              "<tbody>\n",
              "\t<tr><td>16.685</td><td>  0.000</td><td>  0.000</td><td>  0.000</td></tr>\n",
              "\t<tr><td> 0.000</td><td> 50.055</td><td>-16.685</td><td>-16.685</td></tr>\n",
              "\t<tr><td> 0.000</td><td>-16.685</td><td> 50.055</td><td>-16.685</td></tr>\n",
              "\t<tr><td> 0.000</td><td>-16.685</td><td>-16.685</td><td> 50.055</td></tr>\n",
              "</tbody>\n",
              "</table>\n"
            ]
          },
          "metadata": {
            "tags": []
          }
        }
      ]
    },
    {
      "cell_type": "markdown",
      "metadata": {
        "id": "Tldysm6yQzRR",
        "colab_type": "text"
      },
      "source": [
        "The diagonal elements of this matrix are the variances for each of the\n",
        "estimated model parameters. The off-diagonal elements are the\n",
        "covariances. A non-zero covariance implies that variation in of the\n",
        "estimated model parameters influences the variation in another. The\n",
        "**design matrix results in, i.e. causes, a covariance structure**\n",
        "amongst the $\\widehat{\\tau}'s$.\n",
        "\n",
        "This covariance structure implies that the design choice will impact our\n",
        "ability to estimate one treatment level effect independent of another.\n",
        "Designs that permit one treatment level effect to be estimated\n",
        "independent of another are often considered optimal designs."
      ]
    },
    {
      "cell_type": "markdown",
      "metadata": {
        "id": "trJWpgFgQzRT",
        "colab_type": "text"
      },
      "source": [
        "## $SE$ of the estimates\n",
        "The standard errors for the model can be found by taking the square root of the diagonal elements."
      ]
    },
    {
      "cell_type": "code",
      "metadata": {
        "id": "fDtD480XQzRU",
        "colab_type": "code",
        "colab": {
          "base_uri": "https://localhost:8080/",
          "height": 34
        },
        "outputId": "ae1bdad0-770a-4ab9-c072-753c729a9690"
      },
      "source": [
        "sqrt(diag(var_cov))"
      ],
      "execution_count": 20,
      "outputs": [
        {
          "output_type": "display_data",
          "data": {
            "text/plain": [
              "[1] 4.084728 7.074956 7.074956 7.074956"
            ],
            "text/latex": "\\begin{enumerate*}\n\\item 4.08472765310002\n\\item 7.07495583025082\n\\item 7.07495583025081\n\\item 7.07495583025081\n\\end{enumerate*}\n",
            "text/markdown": "1. 4.08472765310002\n2. 7.07495583025082\n3. 7.07495583025081\n4. 7.07495583025081\n\n\n",
            "text/html": [
              "<style>\n",
              ".list-inline {list-style: none; margin:0; padding: 0}\n",
              ".list-inline>li {display: inline-block}\n",
              ".list-inline>li:not(:last-child)::after {content: \"\\00b7\"; padding: 0 .5ex}\n",
              "</style>\n",
              "<ol class=list-inline><li>4.08472765310002</li><li>7.07495583025082</li><li>7.07495583025081</li><li>7.07495583025081</li></ol>\n"
            ]
          },
          "metadata": {
            "tags": []
          }
        }
      ]
    },
    {
      "cell_type": "markdown",
      "metadata": {
        "id": "zE0_HjFhQzRZ",
        "colab_type": "text"
      },
      "source": [
        "### Computing the estimates SE in JMP\n",
        "\n",
        "The **Expanded Parameter Estimates** table shown earlier also contains the $SE$ for the esitmates for each model parameter.  \n",
        "\n",
        "![](https://github.com/yardsale8/STAT321/blob/master/img/expanded_estimates.png?raw=1)"
      ]
    },
    {
      "cell_type": "markdown",
      "metadata": {
        "id": "bISr_7leQzRa",
        "colab_type": "text"
      },
      "source": [
        "## The $SE$ for a linear combination of the parameters\n",
        "\n",
        "Next, we will consider the standard error necessary to compare across\n",
        "treatment levels.\n",
        "\n",
        "$$\\text{Var}\\left( \\mathbf{c}\\widehat{\\mathbf{\\mu}} \\right) = \\mathbf{c}\\left\\lbrack {\\widehat{\\sigma}}^{2}\\left( \\mathbf{X}^{\\mathbf{T}}\\mathbf{X} \\right)^{- 1} \\right\\rbrack\\ \\mathbf{c}^{\\mathbf{T}}$$"
      ]
    },
    {
      "cell_type": "markdown",
      "metadata": {
        "id": "CY-FQMT4QzRc",
        "colab_type": "text"
      },
      "source": [
        "The following output from JMP contains the standard error difference\n",
        "quantities for the treatment level comparisons.\n",
        "\n",
        "\n",
        "<img src=\"https://github.com/yardsale8/STAT321/blob/master/img/SE_difference.png?raw=1\" width=600>"
      ]
    },
    {
      "cell_type": "markdown",
      "metadata": {
        "id": "swt_zRXqQzRd",
        "colab_type": "text"
      },
      "source": [
        "Next, we will confirm the calculations for one of these standard errors,\n",
        "say the comparison for Power Setting 180 against Power Setting 160.\n",
        "\n",
        "#### Computing the Difference of Means\n",
        "\n",
        "$$\\begin{matrix}\n",
        "\\text{LSMEAN}_{180} - \\text{LSMEAN}_{160} & = & \\left( \\widehat{\\mu} + {\\widehat{\\tau}}_{2} \\right) - \\left( \\widehat{\\mu} + {\\widehat{\\tau}}_{1} \\right) \\\\\n",
        " & = &  {\\widehat{\\tau}}_{2} - {\\widehat{\\tau}}_{1}  \\\\\n",
        " & = & - 30.35 - \\left( - 66.55 \\right) \\\\\n",
        " & = & 36.2 \\\\\n",
        "\\end{matrix}$$\n",
        "\n",
        "Note that taking the difference between treatments 1 and 2 is the same as taking a difference between $\\tau_1$ and $\\tau_2$, the main effects of those treatments.  In particular, we see that this difference is a linear combination, namely combining 1 $\\tau_1$ and $-1$ $\\tau_2$.\n",
        "\n",
        "$$\n",
        "\\text{LSMEAN}_{180} - \\text{LSMEAN}_{160}  =  {\\widehat{\\tau}}_{2} - {\\widehat{\\tau}}_{1} = 0\\widehat{\\mu} + -1\\widehat{\\tau}_1 + 1\\widehat{\\tau}_2 + 0\\widehat{\\tau}_3 \\\\\n",
        "$$\n",
        "\n",
        "Consequently, this computation can be represented using matrix arithmetic, which we will exploit in the next section."
      ]
    },
    {
      "cell_type": "markdown",
      "metadata": {
        "id": "mC7krYNiQzRf",
        "colab_type": "text"
      },
      "source": [
        "#### The Difference in Means is simply a linear combination\n",
        "\n",
        "Alternatively, we can compute the difference using matrix algebra. This is accomplished using the dot product between a coefficient vector $\\mathbf{c}$ and the estimated parameter vector and $\\widehat{\\mathbf{\\mu}}$. Note that taking treatments 1 and 2 is the same as comparing their main effects,\n",
        "\n",
        "$$\\mathbf{c}\\widehat{\\mathbf{\\mu}}\\mathbf{= \\ }\\begin{bmatrix}\n",
        "0 & - 1 & 1 & 0 \\\\\n",
        "\\end{bmatrix}\\mathbf{*}\\begin{bmatrix}\n",
        "\\widehat{\\mu} \\\\\n",
        "{\\widehat{\\tau}}_{1} \\\\\n",
        "{\\widehat{\\tau}}_{2} \\\\\n",
        "{\\widehat{\\tau}}_{3} \\\\\n",
        "\\end{bmatrix}\\mathbf{=}\\left( {\\widehat{\\tau}}_{2} - {\\widehat{\\tau}}_{1} \\right) = 36.20$$\n",
        "\n",
        "The associated $SE$ of difference can be computed using the fact that\n",
        "\n",
        "$$\\text{Var}\\left( \\mathbf{c}\\widehat{\\mathbf{\\mu}} \\right) = \\mathbf{c}\\left\\lbrack {\\widehat{\\sigma}}^{2}\\left( \\mathbf{X}^{\\mathbf{'}}\\mathbf{X} \\right)^{- 1} \\right\\rbrack\\ \\mathbf{c}^{\\mathbf{T}}.$$\n",
        "\n",
        "When $\\mathbf{c} = \\begin{bmatrix}\n",
        " 0 & - 1 & 1 & 0 \\\\\n",
        " \\end{bmatrix}$, we see that\n",
        "\n",
        "$$\\begin{matrix}\n",
        "\\text{Var}\\left( \\mathbf{c}*\\widehat{\\mathbf{\\mu}} \\right) & = & Var\\left( \\begin{bmatrix}\n",
        "0 & - 1 & 1 & 0 \\\\ \\end{bmatrix}\\mathbf{*}\\widehat{\\mathbf{\\mu}} \\right)\\\\ \n",
        "& \\mathbf{=} & \\begin{bmatrix}\n",
        "0 & - 1 & 1 & 0 \\\\\n",
        "\\end{bmatrix}*Var\\left( \\widehat{\\mathbf{\\mu}} \\right)*\\begin{bmatrix}\n",
        "0 \\\\\n",
        " - 1 \\\\\n",
        "1 \\\\\n",
        "0 \\\\\n",
        "\\end{bmatrix} \\\\\n",
        " & \\mathbf{=} & \\begin{bmatrix}\n",
        "0 & - 1 & 1 & 0 \\\\\n",
        "\\end{bmatrix}*334\\begin{bmatrix}\n",
        "0.05 & 0 & 0 & 0 \\\\\n",
        "0 & 0.15 & - 0.05 & - 0.05 \\\\\n",
        "0 & - 0.05 & 0.15 & - 0.05 \\\\\n",
        "0 & - 0.05 & - 0.05 & 0.15 \\\\\n",
        "\\end{bmatrix}*\\begin{bmatrix}\n",
        "0 \\\\\n",
        " - 1 \\\\\n",
        "1 \\\\\n",
        "0 \\\\\n",
        "\\end{bmatrix} \\\\\n",
        " & \\mathbf{=} & 133.60 \\\\\n",
        "\\end{matrix}$$\n",
        "\n",
        "Let's verify these computation in `R`"
      ]
    },
    {
      "cell_type": "code",
      "metadata": {
        "id": "ymGUiNGSQzRg",
        "colab_type": "code",
        "colab": {
          "base_uri": "https://localhost:8080/",
          "height": 127
        },
        "outputId": "c3460572-d8a3-4ef8-8259-b2b7cbbc14c0"
      },
      "source": [
        "c <- rbind(c(0,-1,1,0))\n",
        "mean_diff_12 <- c %*% mu_hat\n",
        "mean_diff_12"
      ],
      "execution_count": 21,
      "outputs": [
        {
          "output_type": "display_data",
          "data": {
            "text/plain": [
              "     [,1]\n",
              "[1,] 36.2"
            ],
            "text/latex": "A matrix: 1 × 1 of type dbl\n\\begin{tabular}{l}\n\t 36.2\\\\\n\\end{tabular}\n",
            "text/markdown": "\nA matrix: 1 × 1 of type dbl\n\n| 36.2 |\n\n",
            "text/html": [
              "<table>\n",
              "<caption>A matrix: 1 × 1 of type dbl</caption>\n",
              "<tbody>\n",
              "\t<tr><td>36.2</td></tr>\n",
              "</tbody>\n",
              "</table>\n"
            ]
          },
          "metadata": {
            "tags": []
          }
        }
      ]
    },
    {
      "cell_type": "code",
      "metadata": {
        "id": "YFBieBssQzRl",
        "colab_type": "code",
        "colab": {
          "base_uri": "https://localhost:8080/",
          "height": 127
        },
        "outputId": "3fe8fbce-a024-4a9e-d188-a68f03cf6d33"
      },
      "source": [
        "var_diff_12 <- c %*% var_cov %*% t(c)\n",
        "var_diff_12"
      ],
      "execution_count": 22,
      "outputs": [
        {
          "output_type": "display_data",
          "data": {
            "text/plain": [
              "     [,1]  \n",
              "[1,] 133.48"
            ],
            "text/latex": "A matrix: 1 × 1 of type dbl\n\\begin{tabular}{l}\n\t 133.48\\\\\n\\end{tabular}\n",
            "text/markdown": "\nA matrix: 1 × 1 of type dbl\n\n| 133.48 |\n\n",
            "text/html": [
              "<table>\n",
              "<caption>A matrix: 1 × 1 of type dbl</caption>\n",
              "<tbody>\n",
              "\t<tr><td>133.48</td></tr>\n",
              "</tbody>\n",
              "</table>\n"
            ]
          },
          "metadata": {
            "tags": []
          }
        }
      ]
    },
    {
      "cell_type": "markdown",
      "metadata": {
        "id": "-B6O17GRQzRq",
        "colab_type": "text"
      },
      "source": [
        "The standard error is simply the square root of the variance.\n",
        "\n",
        "$$\\ \\begin{matrix}\n",
        "SE_{\\text{Difference}} & = & \\sqrt{\\text{Var}\\left( \\mathbf{c}*\\widehat{\\mathbf{\\mu}} \\right)} \\\\\n",
        " & = & \\sqrt{133.60} \\\\\n",
        " & = & 11.6 \\\\\n",
        "\\end{matrix}$$\n",
        "\n",
        "We can verify this computation in `R`"
      ]
    },
    {
      "cell_type": "code",
      "metadata": {
        "id": "FOGi4ZLGQzRr",
        "colab_type": "code",
        "colab": {
          "base_uri": "https://localhost:8080/",
          "height": 92
        },
        "outputId": "b044fd90-afba-41c7-822e-1767e73d25a0"
      },
      "source": [
        "SE_diff_12 <- sqrt(var_diff_12)\n",
        "SE_diff_12"
      ],
      "execution_count": 23,
      "outputs": [
        {
          "output_type": "display_data",
          "data": {
            "text/plain": [
              "     [,1]    \n",
              "[1,] 11.55335"
            ],
            "text/latex": "A matrix: 1 × 1 of type dbl\n\\begin{tabular}{l}\n\t 11.55335\\\\\n\\end{tabular}\n",
            "text/markdown": "\nA matrix: 1 × 1 of type dbl\n\n| 11.55335 |\n\n",
            "text/html": [
              "<table>\n",
              "<caption>A matrix: 1 × 1 of type dbl</caption>\n",
              "<tbody>\n",
              "\t<tr><td>11.55335</td></tr>\n",
              "</tbody>\n",
              "</table>\n"
            ]
          },
          "metadata": {
            "tags": []
          }
        }
      ]
    },
    {
      "cell_type": "markdown",
      "metadata": {
        "id": "kMsiOrRRQzRx",
        "colab_type": "text"
      },
      "source": [
        "Comparing these computations (for `mean_diff_12` and `SE_diff_12`) to JMP's values, we see that we do indeed get the same estimate and $SE$ for this difference.\n",
        "\n",
        "<img src=\"https://github.com/yardsale8/STAT321/blob/master/img/SE_difference.png?raw=1\" width=600>"
      ]
    },
    {
      "cell_type": "markdown",
      "metadata": {
        "id": "xVeOrxMhQzRy",
        "colab_type": "text"
      },
      "source": [
        "Also note that all pairwise differences will have the same $SE$ (provided we have a balanced design)."
      ]
    },
    {
      "cell_type": "markdown",
      "metadata": {
        "id": "4Q5P5Y7sQzRz",
        "colab_type": "text"
      },
      "source": [
        "## Putting it all together\n",
        "\n",
        "Before we proceed to another example, let's put all of our code together in one place."
      ]
    },
    {
      "cell_type": "markdown",
      "metadata": {
        "id": "Y31T8waAQzR1",
        "colab_type": "text"
      },
      "source": [
        "#### 1. Read the data and make the `y` and `treatment` vectors."
      ]
    },
    {
      "cell_type": "code",
      "metadata": {
        "id": "Rxq5TufmQzR2",
        "colab_type": "code",
        "colab": {}
      },
      "source": [
        "data <- read.csv(\"https://raw.githubusercontent.com/yardsale8/STAT321/master/data/power_etch.csv\")\n",
        "y <- data$etch_rate \n",
        "trt <- data$power_w\n",
        "t <- length(unique(trt))\n",
        "n <- nrow(data)"
      ],
      "execution_count": 0,
      "outputs": []
    },
    {
      "cell_type": "markdown",
      "metadata": {
        "id": "OOdbT8v6QzR6",
        "colab_type": "text"
      },
      "source": [
        "#### 2. Create the design matrix $\\mathbf{X}$"
      ]
    },
    {
      "cell_type": "code",
      "metadata": {
        "id": "DWzRVGJsQzR7",
        "colab_type": "code",
        "colab": {}
      },
      "source": [
        "num_rep <- 5\n",
        "X = cbind(rep(1, each=20),\n",
        "          rep(c(1,0,0,-1), each=num_rep),\n",
        "          rep(c(0,1,0,-1), each=num_rep),\n",
        "          rep(c(0,0,1,-1), each=num_rep))"
      ],
      "execution_count": 0,
      "outputs": []
    },
    {
      "cell_type": "markdown",
      "metadata": {
        "id": "1Zlszh_vQzR_",
        "colab_type": "text"
      },
      "source": [
        "#### 3. Compute the model parameter estimates"
      ]
    },
    {
      "cell_type": "code",
      "metadata": {
        "id": "ix3HZeLsQzSB",
        "colab_type": "code",
        "colab": {}
      },
      "source": [
        "mu_hat = solve(t(X) %*% X) %*% t(X) %*% y # Estimated model parameters"
      ],
      "execution_count": 0,
      "outputs": []
    },
    {
      "cell_type": "markdown",
      "metadata": {
        "id": "dydrNr1ZQzSG",
        "colab_type": "text"
      },
      "source": [
        "#### 4. Compute the fitted values and residuals"
      ]
    },
    {
      "cell_type": "code",
      "metadata": {
        "id": "JVtFJU3nQzSH",
        "colab_type": "code",
        "colab": {}
      },
      "source": [
        "y_hat = X %*% mu_hat # Estimates for y_ij base on the model\n",
        "r = y - y_hat # Within group error are the difference between predicted and actual"
      ],
      "execution_count": 0,
      "outputs": []
    },
    {
      "cell_type": "markdown",
      "metadata": {
        "id": "bbPKj3F8QzSN",
        "colab_type": "text"
      },
      "source": [
        "#### 5. Compute the $MS_{\\text{error}}$ and $\\hat{\\sigma}^2$"
      ]
    },
    {
      "cell_type": "code",
      "metadata": {
        "id": "F8S3N7CgQzSN",
        "colab_type": "code",
        "colab": {}
      },
      "source": [
        "df_error <- n - t\n",
        "SS_error <- (t(r) %*% r)[1] # The dot product is a fancy way to square-and-sum\n",
        "sigma_sqr_hat <- SS_error/df_error # AKA MS error from the ANOVA table"
      ],
      "execution_count": 0,
      "outputs": []
    },
    {
      "cell_type": "markdown",
      "metadata": {
        "id": "f4kSei0QQzSS",
        "colab_type": "text"
      },
      "source": [
        "#### 6. Compute the variance-covariance matrix"
      ]
    },
    {
      "cell_type": "code",
      "metadata": {
        "id": "mwdE53AtQzSU",
        "colab_type": "code",
        "colab": {}
      },
      "source": [
        "var_cov = sigma_sqr_hat* solve(t(X) %*% X)"
      ],
      "execution_count": 0,
      "outputs": []
    },
    {
      "cell_type": "markdown",
      "metadata": {
        "id": "eEM0OxcLQzSZ",
        "colab_type": "text"
      },
      "source": [
        "#### 7. Get the $SE$ for each parameter estimate"
      ]
    },
    {
      "cell_type": "code",
      "metadata": {
        "id": "b95uYmIcQzSa",
        "colab_type": "code",
        "colab": {}
      },
      "source": [
        "SEs <- sqrt(diag(var_cov))"
      ],
      "execution_count": 0,
      "outputs": []
    },
    {
      "cell_type": "markdown",
      "metadata": {
        "id": "qk-Un2I5QzSf",
        "colab_type": "text"
      },
      "source": [
        "#### 8. For all difference, compute the estimate and $SE$ of the difference."
      ]
    },
    {
      "cell_type": "code",
      "metadata": {
        "id": "ZfV0Y947QzSg",
        "colab_type": "code",
        "colab": {}
      },
      "source": [
        "c <- rbind(c(0,1,-1,0))\n",
        "mean_diff_12 <- c %*% mu_hat\n",
        "var_diff_12 <- c %*% var_cov %*% t(c)\n",
        "SE_diff_12 <- sqrt(var_diff_12)"
      ],
      "execution_count": 0,
      "outputs": []
    },
    {
      "cell_type": "markdown",
      "metadata": {
        "id": "Ze9AeISXQzSl",
        "colab_type": "text"
      },
      "source": [
        "## <font color=\"red\"> Exercise 1 </font>\n",
        "\n",
        "**Task:** Verify the estimate and $SE$ for the difference between treatments 2 (180) and 3 (200).\n",
        "\n",
        "<img src=\"https://github.com/yardsale8/STAT321/blob/master/img/SE_difference.png?raw=1\" width=600>"
      ]
    },
    {
      "cell_type": "code",
      "metadata": {
        "id": "8MZ_2IEFQzSm",
        "colab_type": "code",
        "colab": {}
      },
      "source": [
        "# Your code here"
      ],
      "execution_count": 0,
      "outputs": []
    },
    {
      "cell_type": "markdown",
      "metadata": {
        "id": "OThMvUELQzSz",
        "colab_type": "text"
      },
      "source": [
        "## Example 4.2\n",
        "\n",
        "A manufacturer of television sets is interested in the effect on tube \n",
        "connectivity of four different types of coating for color picture tubes. \n",
        "A completely randomized experiment is conducted and the following \n",
        "conductivity data are obtained.\n",
        "\n",
        "<img src=\"https://github.com/yardsale8/STAT321/blob/master/img/conductivity.png?raw=1\"/>"
      ]
    },
    {
      "cell_type": "code",
      "metadata": {
        "id": "k1SLIsFgQzS1",
        "colab_type": "code",
        "colab": {}
      },
      "source": [
        "data <- read.csv(\"https://raw.githubusercontent.com/yardsale8/STAT321/master/data/conductivity.csv\")\n",
        "y <- data$Coating.Type\n",
        "treatments <- data$Conductivity\n",
        "n <- nrow(data)\n",
        "t <- length(unique(treatments))"
      ],
      "execution_count": 0,
      "outputs": []
    },
    {
      "cell_type": "markdown",
      "metadata": {
        "id": "aSZO3cyzQzS3",
        "colab_type": "text"
      },
      "source": [
        "Complete the following:\n",
        "\n",
        "#### Problem 1  \n",
        "\n",
        "Write out the general linear model (using matrix notation) for this\n",
        "data. In particular, clearly specify the response vector $\\mathbf{y}$, the\n",
        "design matrix $\\mathbf{X}$, the vector of model parameters $\\mathbf{\\mu}$, and the\n",
        "error vector $\\mathbf{\\epsilon}$.. You should use the set-to-zero parameterization\n",
        "for the model as in done in Minitab."
      ]
    },
    {
      "cell_type": "markdown",
      "metadata": {
        "id": "fUGFNrmyQzS5",
        "colab_type": "text"
      },
      "source": [
        "> *Your answer here*"
      ]
    },
    {
      "cell_type": "markdown",
      "metadata": {
        "id": "TZC48lcTQzS6",
        "colab_type": "text"
      },
      "source": [
        "Consider the following JMP output from an appropriate analysis.\n",
        "\n",
        "<img src=\"https://github.com/yardsale8/STAT321/blob/master/img/ex2_output.png?raw=1\" width=500>\n",
        "\n",
        "#### Problem 2\n",
        "\n",
        "Verify ❶. That is, use your design matrix $\\mathbf{X}$ and the response\n",
        "vector $\\mathbf{y}$ to compute the estimated model parameters.\n",
        "\n",
        "$$\\widehat{\\mathbf{\\mu}} = \\ \\left( \\mathrm{X}^{T}\\mathrm{X} \\right)^{- 1}\\mathrm{X}^{T}\\mathrm{y}$$"
      ]
    },
    {
      "cell_type": "code",
      "metadata": {
        "id": "UOuYM3lNQzS6",
        "colab_type": "code",
        "colab": {}
      },
      "source": [
        "# Your code here"
      ],
      "execution_count": 0,
      "outputs": []
    },
    {
      "cell_type": "markdown",
      "metadata": {
        "id": "EiT8V3juQzS_",
        "colab_type": "text"
      },
      "source": [
        "#### Problem 3\n",
        "\n",
        "Use your estimated model parameters to verify at least one of the\n",
        "Means given in ❷.\n",
        "\n",
        "![](https://github.com/yardsale8/STAT321/blob/master/img/ex2_means.png?raw=1)"
      ]
    },
    {
      "cell_type": "code",
      "metadata": {
        "id": "GM5zUbcvQzTA",
        "colab_type": "code",
        "colab": {}
      },
      "source": [
        "# Your code here"
      ],
      "execution_count": 0,
      "outputs": []
    },
    {
      "cell_type": "markdown",
      "metadata": {
        "id": "UjTuJQ0wQzTF",
        "colab_type": "text"
      },
      "source": [
        "#### Problem 4\n",
        "\n",
        "Compute the estimated residual vector, $\\widehat{\\mathbf{r}}$, or\n",
        "your model. "
      ]
    },
    {
      "cell_type": "code",
      "metadata": {
        "id": "4Q2WolqLQzTG",
        "colab_type": "code",
        "colab": {}
      },
      "source": [
        "# Your code here"
      ],
      "execution_count": 0,
      "outputs": []
    },
    {
      "cell_type": "markdown",
      "metadata": {
        "id": "rvPI5kkKQzTJ",
        "colab_type": "text"
      },
      "source": [
        "#### Problem 5\n",
        "\n",
        "Use the estimated residual vector to verify ❸. In particular, compute the $MS$ value."
      ]
    },
    {
      "cell_type": "code",
      "metadata": {
        "id": "ZkREjxbEQzTK",
        "colab_type": "code",
        "colab": {}
      },
      "source": [
        "# Your code here"
      ],
      "execution_count": 0,
      "outputs": []
    },
    {
      "cell_type": "markdown",
      "metadata": {
        "id": "_A054XurQzTS",
        "colab_type": "text"
      },
      "source": [
        "#### Problem 5\n",
        "\n",
        "Use the following to verify ❹ on the JMP output."
      ]
    },
    {
      "cell_type": "code",
      "metadata": {
        "id": "VdXut8m2QzTT",
        "colab_type": "code",
        "colab": {}
      },
      "source": [
        "# Your code here"
      ],
      "execution_count": 0,
      "outputs": []
    },
    {
      "cell_type": "markdown",
      "metadata": {
        "id": "ZsxND5d-QzTW",
        "colab_type": "text"
      },
      "source": [
        "#### Problem 7\n",
        "\n",
        "Use your design matrix $\\mathbf{X}$ and\n",
        "\n",
        "$${\\text{Var}\\left( \\widehat{\\mathbf{\\mu}} \\right) = {\\widehat{\\sigma}}^{2}\\left(     \\mathbf{X}^{\\mathbf{'}}\\mathbf{X} \\right)}^{\\mathbf{- 1}}$$\n",
        "\n",
        "to verify at least one of the quantities in ❺."
      ]
    },
    {
      "cell_type": "code",
      "metadata": {
        "id": "NV3g-3AIQzTW",
        "colab_type": "code",
        "colab": {}
      },
      "source": [
        "# Your code here"
      ],
      "execution_count": 0,
      "outputs": []
    },
    {
      "cell_type": "markdown",
      "metadata": {
        "id": "fRBUCtMDQzTa",
        "colab_type": "text"
      },
      "source": [
        "#### Problem 8\n",
        "\n",
        "Consider the predicted or fitted value for Group 2 of 145.25, i.e.\n",
        "❻, and it's associated standard error value of 2.22, i.e. ❼.\n",
        "\n",
        "![](https://github.com/yardsale8/STAT321/blob/master/img/ex2_type2.png?raw=1)\n",
        "\n",
        "What is the form of the $\\mathbf{c}$ vector for Group 2? "
      ]
    },
    {
      "cell_type": "markdown",
      "metadata": {
        "id": "zWvC5DQaQzTb",
        "colab_type": "text"
      },
      "source": [
        "> *Your answer here* "
      ]
    },
    {
      "cell_type": "markdown",
      "metadata": {
        "id": "3pkUGgDrQzTc",
        "colab_type": "text"
      },
      "source": [
        "Use the $\\mathbf{c}$ vector to verify the calculations for the fitted value\n",
        "and standard error provided above.\n",
        "\n",
        "$$\\begin{matrix}\n",
        "Fit = \\ \\mathbf{c}\\widehat{\\mathbf{\\mu}} \\\\\n",
        "SE\\ Fit = \\ \\sqrt{\\text{Var}\\left( \\mathbf{c}*\\widehat{\\mathbf{\\mu}} \\right)} = \\sqrt{\\mathbf{c}\\left\\lbrack {\\widehat{\\sigma}}^{2}\\left( \\mathbf{X}^{\\mathbf{T}}\\mathbf{X} \\right)^{- 1} \\right\\rbrack\\ \\mathbf{c}^{\\mathbf{T}}} \\\\\n",
        "\\end{matrix}$$\n",
        "  "
      ]
    },
    {
      "cell_type": "code",
      "metadata": {
        "id": "_qWLYYUjQzTd",
        "colab_type": "code",
        "colab": {}
      },
      "source": [
        "# Your code here"
      ],
      "execution_count": 0,
      "outputs": []
    },
    {
      "cell_type": "markdown",
      "metadata": {
        "id": "8CFOvFGeQzTg",
        "colab_type": "text"
      },
      "source": [
        "Consider the following output from the pairwise comparison portion of the Minitab output.\n",
        "\n",
        "<img src=\"https://github.com/yardsale8/STAT321/blob/master/img/ex2_diff_13.png?raw=1\" width=400>"
      ]
    },
    {
      "cell_type": "markdown",
      "metadata": {
        "id": "fo4CIO0FQzTh",
        "colab_type": "text"
      },
      "source": [
        "#### Problem 9\n",
        "\n",
        "Verify the calculations for ❽. What is the appropriate **c** vector\n",
        "for this calculation?\n",
        "\n",
        "$$\\text{Difference of Means} = \\ \\mathbf{c}\\widehat{\\mathbf{\\mu}}$$"
      ]
    },
    {
      "cell_type": "code",
      "metadata": {
        "id": "kym7WYVcQzTi",
        "colab_type": "code",
        "colab": {}
      },
      "source": [
        "# Your code here"
      ],
      "execution_count": 0,
      "outputs": []
    },
    {
      "cell_type": "markdown",
      "metadata": {
        "id": "cV0MVQRLQzTl",
        "colab_type": "text"
      },
      "source": [
        "#### Problem 10\n",
        "\n",
        "Verify the calculations for ❾ using the same $\\mathbf{c}$ vector from above.\n",
        " \n",
        "$$\\text{SE of Difference} = \\ \\sqrt{\\text{Var}\\left( \\mathbf{c}*\\widehat{\\mathbf{\\mu}} \\right)} = \\sqrt{\\mathbf{c}\\left\\lbrack {\\widehat{\\sigma}}^{2}\\left( \\mathbf{X}^{\\mathbf{T}}\\mathbf{X} \\right)^{- 1} \\right\\rbrack\\ \\mathbf{c}^{\\mathbf{T}}}$$"
      ]
    },
    {
      "cell_type": "code",
      "metadata": {
        "id": "PF3pXjEYQzTn",
        "colab_type": "code",
        "colab": {}
      },
      "source": [
        "# Your code here"
      ],
      "execution_count": 0,
      "outputs": []
    }
  ]
}