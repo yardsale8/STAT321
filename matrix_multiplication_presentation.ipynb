{
  "nbformat": 4,
  "nbformat_minor": 0,
  "metadata": {
    "kernelspec": {
      "display_name": "R",
      "language": "R",
      "name": "ir"
    },
    "language_info": {
      "codemirror_mode": "r",
      "file_extension": ".r",
      "mimetype": "text/x-r-source",
      "name": "R",
      "pygments_lexer": "r",
      "version": "3.5.1"
    },
    "varInspector": {
      "cols": {
        "lenName": 16,
        "lenType": 16,
        "lenVar": 40
      },
      "kernels_config": {
        "python": {
          "delete_cmd_postfix": "",
          "delete_cmd_prefix": "del ",
          "library": "var_list.py",
          "varRefreshCmd": "print(var_dic_list())"
        },
        "r": {
          "delete_cmd_postfix": ") ",
          "delete_cmd_prefix": "rm(",
          "library": "var_list.r",
          "varRefreshCmd": "cat(var_dic_list()) "
        }
      },
      "types_to_exclude": [
        "module",
        "function",
        "builtin_function_or_method",
        "instance",
        "_Feature"
      ],
      "window_display": false
    },
    "colab": {
      "name": "matrix_multiplication.ipynb",
      "provenance": []
    }
  },
  "cells": [
    {
      "cell_type": "markdown",
      "metadata": {
        "id": "20YJPeTidfF3",
        "colab_type": "text"
      },
      "source": [
        "# A Brief Review of Matrix Multiplication\n",
        "\n",
        "Next we will review a couple of important ideas from linear algebra, namely \n",
        "\n",
        "1. Linear combinations and the dot product\n",
        "2. Matrix multiplication\n",
        "3. Other matrix transforms such as the transpose and inverse.\n",
        "\n",
        "We start by defining the the fundemental stucture in linear algebra, the vector."
      ]
    },
    {
      "cell_type": "markdown",
      "metadata": {
        "id": "eTnCTb9ldfF-",
        "colab_type": "text"
      },
      "source": [
        "## Column vectors and row vectors\n",
        "\n",
        "A **vector** is an order sequence of values.  Vectors can be written as either **column vectors**, which stack the value vertically, or **row vectors**, which organize the values horizontally.  Below we illustrate a row vector $\\mathbf{r}$ and a column vector $\\mathbf{c}$\n",
        "\n",
        "$$\\mathbf{c}= \\begin{pmatrix} \n",
        "                 c_{1} \\\\ \n",
        "                 c_{2} \\\\ \n",
        "                 c_{2} \n",
        "              \\end{pmatrix} \\;\n",
        "\\mathbf{r}= \\begin{pmatrix} \n",
        "                 r_{1} & r_2 & r_3\\\\ \n",
        "              \\end{pmatrix}$$\n",
        "              \n",
        "Take a second to consider our typesetting.  Note that we represent a whole vector with **bold, non-italicized font** and an entry of the vector with *an non-bold, italicized font* using the same letter.  This should help keep it clear when we are taking about a whole vector versus an entry in said vector."
      ]
    },
    {
      "cell_type": "markdown",
      "metadata": {
        "id": "QNHi74kCdfGE",
        "colab_type": "text"
      },
      "source": [
        "## Column and row vectors in `R`\n",
        "\n",
        "We can construct a vector in `R` using the `c` function.  "
      ]
    },
    {
      "cell_type": "code",
      "metadata": {
        "id": "gMNaC15JdfGI",
        "colab_type": "code",
        "colab": {
          "base_uri": "https://localhost:8080/",
          "height": 34
        },
        "outputId": "b8468f5d-c787-40fe-8677-ecc6be731953"
      },
      "source": [
        "v1 <- c(1,2,3)\n",
        "v1"
      ],
      "execution_count": 1,
      "outputs": [
        {
          "output_type": "display_data",
          "data": {
            "text/plain": [
              "[1] 1 2 3"
            ],
            "text/latex": "\\begin{enumerate*}\n\\item 1\n\\item 2\n\\item 3\n\\end{enumerate*}\n",
            "text/markdown": "1. 1\n2. 2\n3. 3\n\n\n",
            "text/html": [
              "<style>\n",
              ".list-inline {list-style: none; margin:0; padding: 0}\n",
              ".list-inline>li {display: inline-block}\n",
              ".list-inline>li:not(:last-child)::after {content: \"\\00b7\"; padding: 0 .5ex}\n",
              "</style>\n",
              "<ol class=list-inline><li>1</li><li>2</li><li>3</li></ol>\n"
            ]
          },
          "metadata": {
            "tags": []
          }
        }
      ]
    },
    {
      "cell_type": "markdown",
      "metadata": {
        "id": "ioXIURa2dfGe",
        "colab_type": "text"
      },
      "source": [
        "We can use `class` to verify that this is an `R` numeric vector (Vectors are also the standard data structure in `R`, so much so that `class` neglects to tell us the \"vector\" part of numeric vector.)"
      ]
    },
    {
      "cell_type": "code",
      "metadata": {
        "id": "AJaGteRmdfGi",
        "colab_type": "code",
        "colab": {
          "base_uri": "https://localhost:8080/",
          "height": 34
        },
        "outputId": "01c205bb-b731-4a1b-a04e-ee0d7e47f87b"
      },
      "source": [
        "str(v1)"
      ],
      "execution_count": 2,
      "outputs": [
        {
          "output_type": "stream",
          "text": [
            " num [1:3] 1 2 3\n"
          ],
          "name": "stdout"
        }
      ]
    },
    {
      "cell_type": "markdown",
      "metadata": {
        "id": "ggGDH_QhdfGs",
        "colab_type": "text"
      },
      "source": [
        "Note that `R` will try to guess whether a vector is a row or column vector and, as we will see in the next section, the meaning of a computation will change depending on the location of the vector.  It is good practice to avoid this sort of confusion, so we will use the `rbind` and `cbind` functions to bind our vectors to rows and columns, respectively."
      ]
    },
    {
      "cell_type": "code",
      "metadata": {
        "id": "YNDjdKmqdfGv",
        "colab_type": "code",
        "colab": {
          "base_uri": "https://localhost:8080/",
          "height": 170
        },
        "outputId": "0d30bf4a-f34a-439e-aa01-ed572f801750"
      },
      "source": [
        "c1 <- cbind(c(1,1,3))\n",
        "c1"
      ],
      "execution_count": 3,
      "outputs": [
        {
          "output_type": "display_data",
          "data": {
            "text/plain": [
              "     [,1]\n",
              "[1,] 1   \n",
              "[2,] 1   \n",
              "[3,] 3   "
            ],
            "text/latex": "A matrix: 3 × 1 of type dbl\n\\begin{tabular}{l}\n\t 1\\\\\n\t 1\\\\\n\t 3\\\\\n\\end{tabular}\n",
            "text/markdown": "\nA matrix: 3 × 1 of type dbl\n\n| 1 |\n| 1 |\n| 3 |\n\n",
            "text/html": [
              "<table>\n",
              "<caption>A matrix: 3 × 1 of type dbl</caption>\n",
              "<tbody>\n",
              "\t<tr><td>1</td></tr>\n",
              "\t<tr><td>1</td></tr>\n",
              "\t<tr><td>3</td></tr>\n",
              "</tbody>\n",
              "</table>\n"
            ]
          },
          "metadata": {
            "tags": []
          }
        }
      ]
    },
    {
      "cell_type": "code",
      "metadata": {
        "scrolled": true,
        "id": "SOdcgOMAdfG5",
        "colab_type": "code",
        "colab": {
          "base_uri": "https://localhost:8080/",
          "height": 127
        },
        "outputId": "b35c310d-d517-46af-a3df-e10cd2651651"
      },
      "source": [
        "r1 <- rbind(c(2,5,1))\n",
        "r1"
      ],
      "execution_count": 4,
      "outputs": [
        {
          "output_type": "display_data",
          "data": {
            "text/plain": [
              "     [,1] [,2] [,3]\n",
              "[1,] 2    5    1   "
            ],
            "text/latex": "A matrix: 1 × 3 of type dbl\n\\begin{tabular}{lll}\n\t 2 & 5 & 1\\\\\n\\end{tabular}\n",
            "text/markdown": "\nA matrix: 1 × 3 of type dbl\n\n| 2 | 5 | 1 |\n\n",
            "text/html": [
              "<table>\n",
              "<caption>A matrix: 1 × 3 of type dbl</caption>\n",
              "<tbody>\n",
              "\t<tr><td>2</td><td>5</td><td>1</td></tr>\n",
              "</tbody>\n",
              "</table>\n"
            ]
          },
          "metadata": {
            "tags": []
          }
        }
      ]
    },
    {
      "cell_type": "markdown",
      "metadata": {
        "id": "nS2mfR4vdfHC",
        "colab_type": "text"
      },
      "source": [
        "Here are some more examples that we will use in the following sections."
      ]
    },
    {
      "cell_type": "code",
      "metadata": {
        "id": "Pw9yMSq3dfHE",
        "colab_type": "code",
        "colab": {}
      },
      "source": [
        "v2 <- c(1, 0, 0)\n",
        "c2 <- cbind(c(1.1, 0.5, 1))\n",
        "r2 <- rbind(c(1,2,1))"
      ],
      "execution_count": 0,
      "outputs": []
    },
    {
      "cell_type": "markdown",
      "metadata": {
        "id": "PqDeJeX9dfHL",
        "colab_type": "text"
      },
      "source": [
        "## Vector arithmetic\n",
        "\n",
        "There are two arithmetic operations defined on vectors, addition and scalar multiplication.\n",
        "\n",
        "**Vector Addition** is only defined for vectors with the same number of entries, is accomplished by adding the corresponding entries, and results in a vector of the same size.\n",
        "\n",
        "#### Adding column vectors\n",
        "\n",
        "$$\\mathbf{a} + \\mathbf{b}= \n",
        "  \\begin{pmatrix} \n",
        "     a_{1} \\\\ \n",
        "     a_{2} \\\\ \n",
        "     a_{3} \n",
        "  \\end{pmatrix} + \n",
        "  \\begin{pmatrix} \n",
        "     b_{1} \\\\ \n",
        "     b_{2} \\\\ \n",
        "     b_{3} \n",
        "  \\end{pmatrix} = \n",
        "  \\begin{pmatrix} \n",
        "     a_1 + b_1\\\\ \n",
        "     a_2 + b_2\\\\ \n",
        "     a_3 + b_3\n",
        "  \\end{pmatrix}$$"
      ]
    },
    {
      "cell_type": "markdown",
      "metadata": {
        "id": "L5hRDjFfdfHO",
        "colab_type": "text"
      },
      "source": [
        "#### Adding row vectors\n",
        "\n",
        "$$\\mathbf{c} + \\mathbf{d}= \n",
        "  \\begin{pmatrix} \n",
        "     c_{1} &  c_{2} &  c_{3} \n",
        "  \\end{pmatrix} + \n",
        "  \\begin{pmatrix} \n",
        "     d_{1} &  d_{2} &  d_{3} \n",
        "  \\end{pmatrix} = \n",
        "  \\begin{pmatrix} \n",
        "     c_1 + d_1 &  c_2 + d_2 &  c_3 + d_3\n",
        "  \\end{pmatrix}$$\n",
        "  \n",
        "Vector addition is performed in `R` using the regular addition `+` operator"
      ]
    },
    {
      "cell_type": "code",
      "metadata": {
        "id": "x6_FIc6UdfHQ",
        "colab_type": "code",
        "colab": {
          "base_uri": "https://localhost:8080/",
          "height": 34
        },
        "outputId": "d372683d-46a3-4693-d876-a6691639afad"
      },
      "source": [
        "v1 + v2"
      ],
      "execution_count": 6,
      "outputs": [
        {
          "output_type": "display_data",
          "data": {
            "text/plain": [
              "[1] 2 2 3"
            ],
            "text/latex": "\\begin{enumerate*}\n\\item 2\n\\item 2\n\\item 3\n\\end{enumerate*}\n",
            "text/markdown": "1. 2\n2. 2\n3. 3\n\n\n",
            "text/html": [
              "<style>\n",
              ".list-inline {list-style: none; margin:0; padding: 0}\n",
              ".list-inline>li {display: inline-block}\n",
              ".list-inline>li:not(:last-child)::after {content: \"\\00b7\"; padding: 0 .5ex}\n",
              "</style>\n",
              "<ol class=list-inline><li>2</li><li>2</li><li>3</li></ol>\n"
            ]
          },
          "metadata": {
            "tags": []
          }
        }
      ]
    },
    {
      "cell_type": "code",
      "metadata": {
        "id": "jZntdoGadfHY",
        "colab_type": "code",
        "colab": {
          "base_uri": "https://localhost:8080/",
          "height": 170
        },
        "outputId": "9a4957d3-82a6-4454-fc6e-8bcf58396d50"
      },
      "source": [
        "c1 + c2"
      ],
      "execution_count": 7,
      "outputs": [
        {
          "output_type": "display_data",
          "data": {
            "text/plain": [
              "     [,1]\n",
              "[1,] 2.1 \n",
              "[2,] 1.5 \n",
              "[3,] 4.0 "
            ],
            "text/latex": "A matrix: 3 × 1 of type dbl\n\\begin{tabular}{l}\n\t 2.1\\\\\n\t 1.5\\\\\n\t 4.0\\\\\n\\end{tabular}\n",
            "text/markdown": "\nA matrix: 3 × 1 of type dbl\n\n| 2.1 |\n| 1.5 |\n| 4.0 |\n\n",
            "text/html": [
              "<table>\n",
              "<caption>A matrix: 3 × 1 of type dbl</caption>\n",
              "<tbody>\n",
              "\t<tr><td>2.1</td></tr>\n",
              "\t<tr><td>1.5</td></tr>\n",
              "\t<tr><td>4.0</td></tr>\n",
              "</tbody>\n",
              "</table>\n"
            ]
          },
          "metadata": {
            "tags": []
          }
        }
      ]
    },
    {
      "cell_type": "code",
      "metadata": {
        "id": "WD8G9h2ddfHf",
        "colab_type": "code",
        "colab": {
          "base_uri": "https://localhost:8080/",
          "height": 127
        },
        "outputId": "9d575119-e414-452c-bd50-56def3efb40b"
      },
      "source": [
        "r1 + r2"
      ],
      "execution_count": 8,
      "outputs": [
        {
          "output_type": "display_data",
          "data": {
            "text/plain": [
              "     [,1] [,2] [,3]\n",
              "[1,] 3    7    2   "
            ],
            "text/latex": "A matrix: 1 × 3 of type dbl\n\\begin{tabular}{lll}\n\t 3 & 7 & 2\\\\\n\\end{tabular}\n",
            "text/markdown": "\nA matrix: 1 × 3 of type dbl\n\n| 3 | 7 | 2 |\n\n",
            "text/html": [
              "<table>\n",
              "<caption>A matrix: 1 × 3 of type dbl</caption>\n",
              "<tbody>\n",
              "\t<tr><td>3</td><td>7</td><td>2</td></tr>\n",
              "</tbody>\n",
              "</table>\n"
            ]
          },
          "metadata": {
            "tags": []
          }
        }
      ]
    },
    {
      "cell_type": "code",
      "metadata": {
        "id": "_7tuti-sdfHo",
        "colab_type": "code",
        "colab": {
          "base_uri": "https://localhost:8080/",
          "height": 170
        },
        "outputId": "58bc0be5-8318-4c18-f24a-4a5ca03d75c1"
      },
      "source": [
        "v1 + c1"
      ],
      "execution_count": 9,
      "outputs": [
        {
          "output_type": "display_data",
          "data": {
            "text/plain": [
              "     [,1]\n",
              "[1,] 2   \n",
              "[2,] 3   \n",
              "[3,] 6   "
            ],
            "text/latex": "A matrix: 3 × 1 of type dbl\n\\begin{tabular}{l}\n\t 2\\\\\n\t 3\\\\\n\t 6\\\\\n\\end{tabular}\n",
            "text/markdown": "\nA matrix: 3 × 1 of type dbl\n\n| 2 |\n| 3 |\n| 6 |\n\n",
            "text/html": [
              "<table>\n",
              "<caption>A matrix: 3 × 1 of type dbl</caption>\n",
              "<tbody>\n",
              "\t<tr><td>2</td></tr>\n",
              "\t<tr><td>3</td></tr>\n",
              "\t<tr><td>6</td></tr>\n",
              "</tbody>\n",
              "</table>\n"
            ]
          },
          "metadata": {
            "tags": []
          }
        }
      ]
    },
    {
      "cell_type": "code",
      "metadata": {
        "id": "ilvXno-VdfHv",
        "colab_type": "code",
        "colab": {
          "base_uri": "https://localhost:8080/",
          "height": 127
        },
        "outputId": "7c78c445-532a-47ef-9f28-d46f1060e429"
      },
      "source": [
        "v1 + r1"
      ],
      "execution_count": 10,
      "outputs": [
        {
          "output_type": "display_data",
          "data": {
            "text/plain": [
              "     [,1] [,2] [,3]\n",
              "[1,] 3    7    4   "
            ],
            "text/latex": "A matrix: 1 × 3 of type dbl\n\\begin{tabular}{lll}\n\t 3 & 7 & 4\\\\\n\\end{tabular}\n",
            "text/markdown": "\nA matrix: 1 × 3 of type dbl\n\n| 3 | 7 | 4 |\n\n",
            "text/html": [
              "<table>\n",
              "<caption>A matrix: 1 × 3 of type dbl</caption>\n",
              "<tbody>\n",
              "\t<tr><td>3</td><td>7</td><td>4</td></tr>\n",
              "</tbody>\n",
              "</table>\n"
            ]
          },
          "metadata": {
            "tags": []
          }
        }
      ]
    },
    {
      "cell_type": "code",
      "metadata": {
        "id": "GbSB259AdfH2",
        "colab_type": "code",
        "colab": {
          "base_uri": "https://localhost:8080/",
          "height": 95
        },
        "outputId": "d34006bd-289f-4bd4-b555-a2050e9ede09"
      },
      "source": [
        "c1 + r1"
      ],
      "execution_count": 11,
      "outputs": [
        {
          "output_type": "error",
          "ename": "ERROR",
          "evalue": "ignored",
          "traceback": [
            "Error in c1 + r1: non-conformable arrays\nTraceback:\n"
          ]
        }
      ]
    },
    {
      "cell_type": "markdown",
      "metadata": {
        "id": "BVOiUR9ddfH8",
        "colab_type": "text"
      },
      "source": [
        "## <font color=\"red\"> Exercise 1</font>\n",
        "\n",
        "Suppose we define the following vectors.\n",
        "\n",
        "$$\\mathbf{a} =\n",
        "\\begin{pmatrix} \n",
        "     1 \\\\ \n",
        "     2 \\\\ \n",
        "     3 \n",
        "  \\end{pmatrix} \\;\n",
        "\\mathbf{b} =\n",
        "\\begin{pmatrix} \n",
        "     4 \\\\ \n",
        "     5 \\\\ \n",
        "     6 \n",
        "  \\end{pmatrix} \\;\n",
        "\\mathbf{c} =\n",
        "\\begin{pmatrix} \n",
        "     7 \\\\ \n",
        "     8 \\\\ \n",
        "     9 \\\\\n",
        "     10\n",
        "  \\end{pmatrix}$$\n",
        "\n",
        "Compute the sum of all pairs of these vectors by hand and in `R`.  If the sum is note defined, identify the problem (in words) and illustrate what happens when you try to add these vectors in `R`."
      ]
    },
    {
      "cell_type": "markdown",
      "metadata": {
        "id": "DYXK76E5dfH_",
        "colab_type": "text"
      },
      "source": [
        "> *Your by-hand computations here"
      ]
    },
    {
      "cell_type": "code",
      "metadata": {
        "id": "nSTNGTTDdfIB",
        "colab_type": "code",
        "colab": {}
      },
      "source": [
        "# Your code here"
      ],
      "execution_count": 0,
      "outputs": []
    },
    {
      "cell_type": "code",
      "metadata": {
        "id": "812dDhpBeVdv",
        "colab_type": "code",
        "colab": {}
      },
      "source": [
        ""
      ],
      "execution_count": 0,
      "outputs": []
    },
    {
      "cell_type": "markdown",
      "metadata": {
        "id": "70jE85aldfII",
        "colab_type": "text"
      },
      "source": [
        "## Scalar multiplication\n",
        "\n",
        "**Scalar multiplication** involves multiplying a *scalar*, or single number, times a *vector*.  The result of scalar multiplication is another vector of the same size as the original, where every entry is multiplied by the scalar.  Suppose that $c$ is a real-valued scalar, then\n",
        "\n",
        "#### Scalar multiplication with a column vector.\n",
        "\n",
        "$$c*\\mathbf{a} =c\\mathbf{a}= \n",
        "  \\begin{pmatrix} \n",
        "     c*a_{1} \\\\ \n",
        "     c*a_{2} \\\\ \n",
        "     c*a_{3} \n",
        "  \\end{pmatrix}$$\n"
      ]
    },
    {
      "cell_type": "markdown",
      "metadata": {
        "id": "jo158gy7dfIK",
        "colab_type": "text"
      },
      "source": [
        "#### Scalar multiplication with a row vector\n",
        "\n",
        "\n",
        "\n",
        "$$c*\\mathbf{b} = c\\mathbf{b}= \n",
        "  \\begin{pmatrix} \n",
        "     c*b_{1} &  c*b_{2} &  c*b_{3} \n",
        "  \\end{pmatrix}$$\n",
        "  \n",
        "  \n",
        "Similar to vector addition, scalar multiplication is performed in `R` using `*`"
      ]
    },
    {
      "cell_type": "code",
      "metadata": {
        "id": "KrQTbtL4dfIL",
        "colab_type": "code",
        "colab": {},
        "outputId": "c42439f6-257b-48cc-ff9b-d8407f8a4959"
      },
      "source": [
        "2*v1"
      ],
      "execution_count": 0,
      "outputs": [
        {
          "output_type": "display_data",
          "data": {
            "text/html": [
              "<ol class=list-inline>\n",
              "\t<li>2</li>\n",
              "\t<li>4</li>\n",
              "\t<li>6</li>\n",
              "</ol>\n"
            ],
            "text/latex": "\\begin{enumerate*}\n\\item 2\n\\item 4\n\\item 6\n\\end{enumerate*}\n",
            "text/markdown": "1. 2\n2. 4\n3. 6\n\n\n",
            "text/plain": [
              "[1] 2 4 6"
            ]
          },
          "metadata": {
            "tags": []
          }
        }
      ]
    },
    {
      "cell_type": "code",
      "metadata": {
        "id": "nCswm68cdfIS",
        "colab_type": "code",
        "colab": {},
        "outputId": "eec18ddb-a6ce-416b-d69b-99dbb9cc2f93"
      },
      "source": [
        "v1*2 # consider bad form in math classes"
      ],
      "execution_count": 0,
      "outputs": [
        {
          "output_type": "display_data",
          "data": {
            "text/html": [
              "<ol class=list-inline>\n",
              "\t<li>2</li>\n",
              "\t<li>4</li>\n",
              "\t<li>6</li>\n",
              "</ol>\n"
            ],
            "text/latex": "\\begin{enumerate*}\n\\item 2\n\\item 4\n\\item 6\n\\end{enumerate*}\n",
            "text/markdown": "1. 2\n2. 4\n3. 6\n\n\n",
            "text/plain": [
              "[1] 2 4 6"
            ]
          },
          "metadata": {
            "tags": []
          }
        }
      ]
    },
    {
      "cell_type": "code",
      "metadata": {
        "id": "Jae6KCh5dfIZ",
        "colab_type": "code",
        "colab": {},
        "outputId": "d598d14e-a605-4e71-890d-46045f748e84"
      },
      "source": [
        "3*c1"
      ],
      "execution_count": 0,
      "outputs": [
        {
          "output_type": "display_data",
          "data": {
            "text/html": [
              "<table>\n",
              "<tbody>\n",
              "\t<tr><td>3</td></tr>\n",
              "\t<tr><td>3</td></tr>\n",
              "\t<tr><td>9</td></tr>\n",
              "</tbody>\n",
              "</table>\n"
            ],
            "text/latex": "\\begin{tabular}{l}\n\t 3\\\\\n\t 3\\\\\n\t 9\\\\\n\\end{tabular}\n",
            "text/markdown": "\n| 3 |\n| 3 |\n| 9 |\n\n",
            "text/plain": [
              "     [,1]\n",
              "[1,] 3   \n",
              "[2,] 3   \n",
              "[3,] 9   "
            ]
          },
          "metadata": {
            "tags": []
          }
        }
      ]
    },
    {
      "cell_type": "code",
      "metadata": {
        "id": "8dut0XuqdfIf",
        "colab_type": "code",
        "colab": {},
        "outputId": "570b2726-a71e-47e3-ff8c-91b3f1f5e407"
      },
      "source": [
        "pi*r1"
      ],
      "execution_count": 0,
      "outputs": [
        {
          "output_type": "display_data",
          "data": {
            "text/html": [
              "<table>\n",
              "<tbody>\n",
              "\t<tr><td>6.283185</td><td>15.70796</td><td>3.141593</td></tr>\n",
              "</tbody>\n",
              "</table>\n"
            ],
            "text/latex": "\\begin{tabular}{lll}\n\t 6.283185 & 15.70796 & 3.141593\\\\\n\\end{tabular}\n",
            "text/markdown": "\n| 6.283185 | 15.70796 | 3.141593 |\n\n",
            "text/plain": [
              "     [,1]     [,2]     [,3]    \n",
              "[1,] 6.283185 15.70796 3.141593"
            ]
          },
          "metadata": {
            "tags": []
          }
        }
      ]
    },
    {
      "cell_type": "markdown",
      "metadata": {
        "id": "BWL8VOxqdfIl",
        "colab_type": "text"
      },
      "source": [
        "## <font color=\"red\"> Exercise 2</font>\n",
        "\n",
        "Consider the vectors defined in <font color=\"red\">Exercise 1</font>.  Perform each of the following computations, both by-hand and using `R`\n",
        "\n",
        "* What is $2\\mathbf{a}$\n",
        "* What is $1.5\\mathbf{b}$\n",
        "* What is $\\pi\\mathbf{d}$"
      ]
    },
    {
      "cell_type": "markdown",
      "metadata": {
        "id": "FnpTOu7zdfIm",
        "colab_type": "text"
      },
      "source": [
        "> *Your by-hand computations here"
      ]
    },
    {
      "cell_type": "code",
      "metadata": {
        "id": "GZ16m8mKdfIp",
        "colab_type": "code",
        "colab": {}
      },
      "source": [
        "# Your code here"
      ],
      "execution_count": 0,
      "outputs": []
    },
    {
      "cell_type": "markdown",
      "metadata": {
        "id": "1hgFY9kfdfIv",
        "colab_type": "text"
      },
      "source": [
        "## Linear combinations\n",
        "\n",
        "A **linear combination** of items involves combining a number of values together through multiplication and addition.  A good example of linear combinations in the wild is a cooking recipe, specifically a recipe for  fruit salad (yummy yummy).  \n",
        "\n",
        "Suppose we have a recipe for a simple fruit salad that mixes \n",
        "\n",
        "* 3 bananas,\n",
        "* 4 peaches,\n",
        "* 15 strawberries, and\n",
        "* 30 blueberries.\n",
        "\n",
        "Mathematically, we might write this process as\n",
        "\n",
        "$$3*b + 4*p + 15*s + 30*b$$\n",
        "\n",
        "This is all there is to a linear combination.\n",
        "\n",
        "Another good example of linear combinations in the wild is totaling a shopping bill.  Suppose that I went shopping for the ingredients to my fruit salad (yummy yummy) and the current prices for each ingredient are currently\n",
        "\n",
        "* Bananas are \\$2 each<br>\n",
        "* Peaches are \\$0.3 each<br>\n",
        "* Strawberries are \\$0.2 each<br>\n",
        "* Blueberries are \\$0.05 each<br>\n",
        "\n",
        "Then the (pre-tax) total of my bill can be expressed with the following linear combination.\n",
        "\n",
        "$$ 3*2 + 4*0.3 + 15*0.2 + 30*0.05 = 11.7$$"
      ]
    },
    {
      "cell_type": "markdown",
      "metadata": {
        "id": "-A3xrvoNdfIx",
        "colab_type": "text"
      },
      "source": [
        "## Linear combinations of vectors\n",
        "\n",
        "A **linear combination of vectors** is the result of performing scalar multiplication on each vector, then adding the results.\n",
        "\n",
        "$$u*\\mathbf{a} + v*\\mathbf{b}= u\\mathbf{a} + v\\mathbf{b}= \n",
        "  \\begin{pmatrix} \n",
        "     u*a_{1} \\\\ \n",
        "     u*a_{2} \\\\ \n",
        "     u*a_{3} \n",
        "  \\end{pmatrix} + \n",
        "  \\begin{pmatrix} \n",
        "     v*b_{1} \\\\ \n",
        "     v*b_{2} \\\\ \n",
        "     v*b_{3} \n",
        "  \\end{pmatrix} = \n",
        "  \\begin{pmatrix} \n",
        "     u*a_1 + v*b_1\\\\ \n",
        "     u*a_2 + v*b_2\\\\ \n",
        "     u*a_3 + v*b_3\n",
        "  \\end{pmatrix}$$\n",
        "\n",
        "\n",
        "It can be argued that this is most important action that we can perform with vectors, and it turns out that all of linear algebra can be thought of as the study of linear combinations of vectors.  \n",
        "\n",
        "Linear combinations in `R` are easy, just combine multiplication and addition."
      ]
    },
    {
      "cell_type": "code",
      "metadata": {
        "id": "ntkg84_6dfIx",
        "colab_type": "code",
        "colab": {},
        "outputId": "8d6a2294-900b-4b84-b8ec-2afd08a927cc"
      },
      "source": [
        "v1 + 2*v2"
      ],
      "execution_count": 0,
      "outputs": [
        {
          "output_type": "display_data",
          "data": {
            "text/html": [
              "<ol class=list-inline>\n",
              "\t<li>3</li>\n",
              "\t<li>2</li>\n",
              "\t<li>3</li>\n",
              "</ol>\n"
            ],
            "text/latex": "\\begin{enumerate*}\n\\item 3\n\\item 2\n\\item 3\n\\end{enumerate*}\n",
            "text/markdown": "1. 3\n2. 2\n3. 3\n\n\n",
            "text/plain": [
              "[1] 3 2 3"
            ]
          },
          "metadata": {
            "tags": []
          }
        }
      ]
    },
    {
      "cell_type": "code",
      "metadata": {
        "id": "JtjJ7Y02dfI4",
        "colab_type": "code",
        "colab": {},
        "outputId": "c39f11bc-f4c8-4278-b626-887b0b5e837f"
      },
      "source": [
        "2*c1 + 1.5*c2"
      ],
      "execution_count": 0,
      "outputs": [
        {
          "output_type": "display_data",
          "data": {
            "text/html": [
              "<table>\n",
              "<tbody>\n",
              "\t<tr><td>3.65</td></tr>\n",
              "\t<tr><td>2.75</td></tr>\n",
              "\t<tr><td>7.50</td></tr>\n",
              "</tbody>\n",
              "</table>\n"
            ],
            "text/latex": "\\begin{tabular}{l}\n\t 3.65\\\\\n\t 2.75\\\\\n\t 7.50\\\\\n\\end{tabular}\n",
            "text/markdown": "\n| 3.65 |\n| 2.75 |\n| 7.50 |\n\n",
            "text/plain": [
              "     [,1]\n",
              "[1,] 3.65\n",
              "[2,] 2.75\n",
              "[3,] 7.50"
            ]
          },
          "metadata": {
            "tags": []
          }
        }
      ]
    },
    {
      "cell_type": "code",
      "metadata": {
        "id": "klxSY_KcdfI9",
        "colab_type": "code",
        "colab": {},
        "outputId": "3a2eb845-d248-4705-c82c-252cfba20752"
      },
      "source": [
        "12*r1 + -11*r2"
      ],
      "execution_count": 0,
      "outputs": [
        {
          "output_type": "display_data",
          "data": {
            "text/html": [
              "<table>\n",
              "<tbody>\n",
              "\t<tr><td>13</td><td>38</td><td>1 </td></tr>\n",
              "</tbody>\n",
              "</table>\n"
            ],
            "text/latex": "\\begin{tabular}{lll}\n\t 13 & 38 & 1 \\\\\n\\end{tabular}\n",
            "text/markdown": "\n| 13 | 38 | 1  |\n\n",
            "text/plain": [
              "     [,1] [,2] [,3]\n",
              "[1,] 13   38   1   "
            ]
          },
          "metadata": {
            "tags": []
          }
        }
      ]
    },
    {
      "cell_type": "markdown",
      "metadata": {
        "id": "6HOVuix3dfJC",
        "colab_type": "text"
      },
      "source": [
        "## <font color=\"red\"> Exercise 3</font>\n",
        "\n",
        "Consider the vectors defined in <font color=\"red\">Exercise 1</font>.  Perform each of the following computations, both by-hand and using `R`\n",
        "\n",
        "* What is $2\\mathbf{a} + 0.5\\mathbf{b}$\n",
        "* Investigate the result of linear combinations of the different type of `R` vectors\n",
        "* How might we express $\\mathbf{a} + \\mathbf{b}$ as an linear combination?\n",
        "* Notice that we haven't defined vector subtraction.  Use a linear combination make a reasonable definition for $\\mathbf{a} - \\mathbf{b}$\n",
        "* Why can't we perform a linear combination of $\\mathbf{a}$ and  $\\mathbf{c}$?"
      ]
    },
    {
      "cell_type": "markdown",
      "metadata": {
        "id": "fyCu-lLzdfJE",
        "colab_type": "text"
      },
      "source": [
        "> *Your by-hand computations and written answers here"
      ]
    },
    {
      "cell_type": "code",
      "metadata": {
        "id": "rkOj7VlUdfJF",
        "colab_type": "code",
        "colab": {}
      },
      "source": [
        "# Your code here"
      ],
      "execution_count": 0,
      "outputs": []
    },
    {
      "cell_type": "markdown",
      "metadata": {
        "id": "1twRgq5VdfJP",
        "colab_type": "text"
      },
      "source": [
        "## Linear combinations and the dot product\n",
        "\n",
        "The **dot product** between two vectors is defined for all vectors of the same size and is computed by taking the sum of the products of corresponding entries.\n",
        "\n",
        "$$\\mathbf{a} \\cdot \\mathbf{b}= \n",
        "  \\begin{pmatrix} \n",
        "     a_{1} \\\\ \n",
        "     a_{2} \\\\ \n",
        "     a_{3} \n",
        "  \\end{pmatrix} \\cdot \n",
        "  \\begin{pmatrix} \n",
        "     b_{1} \\\\ \n",
        "     b_{2} \\\\ \n",
        "     b_{3} \n",
        "  \\end{pmatrix} =  a_1b_1 +   a_2b_2 +   a_3b_3$$\n",
        "  \n",
        "In `R` we can compute the dot product between two vectors defined with `c` using the `%*%` operator."
      ]
    },
    {
      "cell_type": "code",
      "metadata": {
        "id": "h0YYwvdqdfJR",
        "colab_type": "code",
        "colab": {},
        "outputId": "835e38aa-2043-4e0d-b4c2-615afbbf2e1c"
      },
      "source": [
        "c(1,2,3) %*% c(3, 2, 1)"
      ],
      "execution_count": 0,
      "outputs": [
        {
          "output_type": "display_data",
          "data": {
            "text/html": [
              "<table>\n",
              "<tbody>\n",
              "\t<tr><td>10</td></tr>\n",
              "</tbody>\n",
              "</table>\n"
            ],
            "text/latex": "\\begin{tabular}{l}\n\t 10\\\\\n\\end{tabular}\n",
            "text/markdown": "\n| 10 |\n\n",
            "text/plain": [
              "     [,1]\n",
              "[1,] 10  "
            ]
          },
          "metadata": {
            "tags": []
          }
        }
      ]
    },
    {
      "cell_type": "markdown",
      "metadata": {
        "id": "x3BwRiq-dfJV",
        "colab_type": "text"
      },
      "source": [
        "Note that if we explicitly define our vectors as row and column vectors using `rbind` and `cbind`, then we can only compute the dot product of a row vector (on the left) with a column vector (on the right)."
      ]
    },
    {
      "cell_type": "code",
      "metadata": {
        "id": "BqwyqXD1dfJX",
        "colab_type": "code",
        "colab": {},
        "outputId": "71514e43-2047-4338-8b76-49516fc3b94d"
      },
      "source": [
        "rbind(c(1,2,3)) %*% cbind(c(3, 2, 1))"
      ],
      "execution_count": 0,
      "outputs": [
        {
          "output_type": "display_data",
          "data": {
            "text/html": [
              "<table>\n",
              "<tbody>\n",
              "\t<tr><td>10</td></tr>\n",
              "</tbody>\n",
              "</table>\n"
            ],
            "text/latex": "\\begin{tabular}{l}\n\t 10\\\\\n\\end{tabular}\n",
            "text/markdown": "\n| 10 |\n\n",
            "text/plain": [
              "     [,1]\n",
              "[1,] 10  "
            ]
          },
          "metadata": {
            "tags": []
          }
        }
      ]
    },
    {
      "cell_type": "markdown",
      "metadata": {
        "id": "GCCsgadrdfJc",
        "colab_type": "text"
      },
      "source": [
        "Attempting to perform the dot product in the other direction will result something *entirely different* (more on this in the next section)."
      ]
    },
    {
      "cell_type": "code",
      "metadata": {
        "id": "6dJIu4OpdfJe",
        "colab_type": "code",
        "colab": {},
        "outputId": "c53a9b2f-f381-42a4-84f1-c487757b24f7"
      },
      "source": [
        "cbind(c(1,2,3)) %*% rbind(c(3, 2, 1))"
      ],
      "execution_count": 0,
      "outputs": [
        {
          "output_type": "display_data",
          "data": {
            "text/html": [
              "<table>\n",
              "<tbody>\n",
              "\t<tr><td>3</td><td>2</td><td>1</td></tr>\n",
              "\t<tr><td>6</td><td>4</td><td>2</td></tr>\n",
              "\t<tr><td>9</td><td>6</td><td>3</td></tr>\n",
              "</tbody>\n",
              "</table>\n"
            ],
            "text/latex": "\\begin{tabular}{lll}\n\t 3 & 2 & 1\\\\\n\t 6 & 4 & 2\\\\\n\t 9 & 6 & 3\\\\\n\\end{tabular}\n",
            "text/markdown": "\n| 3 | 2 | 1 |\n| 6 | 4 | 2 |\n| 9 | 6 | 3 |\n\n",
            "text/plain": [
              "     [,1] [,2] [,3]\n",
              "[1,] 3    2    1   \n",
              "[2,] 6    4    2   \n",
              "[3,] 9    6    3   "
            ]
          },
          "metadata": {
            "tags": []
          }
        }
      ]
    },
    {
      "cell_type": "markdown",
      "metadata": {
        "id": "tNEJpa--dfJi",
        "colab_type": "text"
      },
      "source": [
        "### Example - Fruit Salad, Yummy Yummy\n",
        "\n",
        "Note that we can think of a dot product as a linear combination, with the coefficients in the left-hand vector and the values being combined in the right-hand vector. If we put the fruit quantities in a (row) vector $\\mathbf{c}$ and the prices in a (column) vector $\\mathbf{p}$, as shown below\n",
        "\n",
        "$$\n",
        "\\mathbf{c}= \n",
        "\\begin{pmatrix} \n",
        "  3  &  4  &  15 &  30\\\\\n",
        "\\end{pmatrix} \\;\n",
        "\\mathbf{p}= \n",
        "\\begin{pmatrix} \n",
        "  2  \\\\ \n",
        "  0.3  \\\\ \n",
        "  0.2 \\\\ \n",
        "  0.05\n",
        "\\end{pmatrix}$$\n",
        "\n",
        "Then the dot product of $\\mathbf{c}$ and $\\mathbf{p}$ gives \n",
        "\n",
        "$$\n",
        "\\mathbf{c} \\cdot \\mathbf{p}= \n",
        "\\begin{pmatrix} \n",
        "  3  &  4  &  15 &  30\\\\\n",
        "\\end{pmatrix}\\cdot\n",
        "\\begin{pmatrix} \n",
        "  2  \\\\ \n",
        "  0.3  \\\\ \n",
        "  0.2 \\\\ \n",
        "  0.05\n",
        "\\end{pmatrix} = 3*2 + 4*0.3 + 15*0.2 + 30*0.05 = 11.7;$$\n",
        "\n",
        "Which was exactly the computation from the last section. There are other ways of thinking about a dot product (i.e. thinking about lengths and angles), but in this class this will be our primary focus."
      ]
    },
    {
      "cell_type": "markdown",
      "metadata": {
        "id": "0sYbSaoAdfJj",
        "colab_type": "text"
      },
      "source": [
        "## Matrices and matrix arithmetic\n",
        "\n",
        "A matrix $\\mathbf{A}$ is a collection of numbers stored in an array with $n$ rows and $m$ columns.  For convenience, we describe the size of such a matrix as $n\\times m$, where the numbers represent the number of rows and columns, respectively.  For example, we might write a $2\\times 2$ matrix $\\mathbf{A}$ as follows.\n",
        "\n",
        "$$\\mathbf{A}= \\begin{pmatrix} \n",
        "                 a_{11} & a_{12} \\\\ \n",
        "                 a_{21} & a_{22} \n",
        "              \\end{pmatrix}$$\n",
        "\n",
        "Matrices can be defined in `R` using by either binding rows with `rbind`, or columns with `cbind`, as shown below. "
      ]
    },
    {
      "cell_type": "code",
      "metadata": {
        "id": "JgUjpgBMdfJl",
        "colab_type": "code",
        "colab": {},
        "outputId": "ef3b8532-a4e5-4d35-8bd5-de767ed819f2"
      },
      "source": [
        "A = rbind(c(1,2,3),\n",
        "          c(1,3,1))\n",
        "A"
      ],
      "execution_count": 0,
      "outputs": [
        {
          "output_type": "display_data",
          "data": {
            "text/html": [
              "<table>\n",
              "<tbody>\n",
              "\t<tr><td>1</td><td>2</td><td>3</td></tr>\n",
              "\t<tr><td>1</td><td>3</td><td>1</td></tr>\n",
              "</tbody>\n",
              "</table>\n"
            ],
            "text/latex": "\\begin{tabular}{lll}\n\t 1 & 2 & 3\\\\\n\t 1 & 3 & 1\\\\\n\\end{tabular}\n",
            "text/markdown": "\n| 1 | 2 | 3 |\n| 1 | 3 | 1 |\n\n",
            "text/plain": [
              "     [,1] [,2] [,3]\n",
              "[1,] 1    2    3   \n",
              "[2,] 1    3    1   "
            ]
          },
          "metadata": {
            "tags": []
          }
        }
      ]
    },
    {
      "cell_type": "code",
      "metadata": {
        "id": "kKd2j4-ydfJq",
        "colab_type": "code",
        "colab": {},
        "outputId": "389f5771-1018-46bd-ef0d-5e0b1c206446"
      },
      "source": [
        "B = cbind(c(1,1,2),\n",
        "          c(3,3,2))\n",
        "B"
      ],
      "execution_count": 0,
      "outputs": [
        {
          "output_type": "display_data",
          "data": {
            "text/html": [
              "<table>\n",
              "<tbody>\n",
              "\t<tr><td>1</td><td>3</td></tr>\n",
              "\t<tr><td>1</td><td>3</td></tr>\n",
              "\t<tr><td>2</td><td>2</td></tr>\n",
              "</tbody>\n",
              "</table>\n"
            ],
            "text/latex": "\\begin{tabular}{ll}\n\t 1 & 3\\\\\n\t 1 & 3\\\\\n\t 2 & 2\\\\\n\\end{tabular}\n",
            "text/markdown": "\n| 1 | 3 |\n| 1 | 3 |\n| 2 | 2 |\n\n",
            "text/plain": [
              "     [,1] [,2]\n",
              "[1,] 1    3   \n",
              "[2,] 1    3   \n",
              "[3,] 2    2   "
            ]
          },
          "metadata": {
            "tags": []
          }
        }
      ]
    },
    {
      "cell_type": "markdown",
      "metadata": {
        "id": "N4tXeVD1dfJv",
        "colab_type": "text"
      },
      "source": [
        "The author prefers `rbind`, as the matrix is represented in the correct order in the code, making it easier to read."
      ]
    },
    {
      "cell_type": "code",
      "metadata": {
        "id": "vGGTDjm7dfJw",
        "colab_type": "code",
        "colab": {},
        "outputId": "da14c377-cb15-43f3-998b-d77a1d99c549"
      },
      "source": [
        "C = rbind(c(1,1),\n",
        "          c(2,2),\n",
        "          c(3,1))\n",
        "C"
      ],
      "execution_count": 0,
      "outputs": [
        {
          "output_type": "display_data",
          "data": {
            "text/html": [
              "<table>\n",
              "<tbody>\n",
              "\t<tr><td>1</td><td>1</td></tr>\n",
              "\t<tr><td>2</td><td>2</td></tr>\n",
              "\t<tr><td>3</td><td>1</td></tr>\n",
              "</tbody>\n",
              "</table>\n"
            ],
            "text/latex": "\\begin{tabular}{ll}\n\t 1 & 1\\\\\n\t 2 & 2\\\\\n\t 3 & 1\\\\\n\\end{tabular}\n",
            "text/markdown": "\n| 1 | 1 |\n| 2 | 2 |\n| 3 | 1 |\n\n",
            "text/plain": [
              "     [,1] [,2]\n",
              "[1,] 1    1   \n",
              "[2,] 2    2   \n",
              "[3,] 3    1   "
            ]
          },
          "metadata": {
            "tags": []
          }
        }
      ]
    },
    {
      "cell_type": "markdown",
      "metadata": {
        "id": "Ko3da0kDdfJ1",
        "colab_type": "text"
      },
      "source": [
        "#### Scalar matrix multiplication\n",
        "\n",
        "We define scalar matrix multiplication and matrix addition in an analogous way to the vector definitions.  Again, scalar multiplication involves multiplying a scalar (single number) with a matrix; and again this computation is resolved by multiplying each element by said scalar.  \n",
        "\n",
        "$$c\\mathbf{A}= c\\begin{pmatrix} \n",
        "                 a_{11} & a_{12} \\\\ \n",
        "                 a_{21} & a_{22} \n",
        "              \\end{pmatrix} =\n",
        "              \\begin{pmatrix} \n",
        "                ca_{11} & ca_{12} \\\\ \n",
        "                ca_{21} &  ca_{22} \n",
        "              \\end{pmatrix} $$\n",
        "\n",
        "As before, scalar multiplication is performed in `R` using `*`"
      ]
    },
    {
      "cell_type": "code",
      "metadata": {
        "id": "AWH9tPGldfJ2",
        "colab_type": "code",
        "colab": {},
        "outputId": "ff1683c4-381c-492e-b394-83ba7b4e3279"
      },
      "source": [
        "2*A"
      ],
      "execution_count": 0,
      "outputs": [
        {
          "output_type": "display_data",
          "data": {
            "text/html": [
              "<table>\n",
              "<tbody>\n",
              "\t<tr><td>2</td><td>4</td><td>6</td></tr>\n",
              "\t<tr><td>2</td><td>6</td><td>2</td></tr>\n",
              "</tbody>\n",
              "</table>\n"
            ],
            "text/latex": "\\begin{tabular}{lll}\n\t 2 & 4 & 6\\\\\n\t 2 & 6 & 2\\\\\n\\end{tabular}\n",
            "text/markdown": "\n| 2 | 4 | 6 |\n| 2 | 6 | 2 |\n\n",
            "text/plain": [
              "     [,1] [,2] [,3]\n",
              "[1,] 2    4    6   \n",
              "[2,] 2    6    2   "
            ]
          },
          "metadata": {
            "tags": []
          }
        }
      ]
    },
    {
      "cell_type": "markdown",
      "metadata": {
        "id": "FtliOj45dfJ5",
        "colab_type": "text"
      },
      "source": [
        "#### Matrix-vector multiplication\n",
        "\n",
        "Next, let's look at matrix-vector multiplication (with the matrix on the left).  The result of $\\mathbf{A}\\mathbf{b}$, is as an example, if $\\mathbf{A}$ is a $2\\times 2$ matrix and $\\mathbf{b}$ is a $2\\times 1$ vector, then the matrix $\\mathbf{A}\\mathbf{b}$ is $2\\times 1$, as follows:\n",
        "\n",
        "$$\\mathbf{A}\\mathbf{b}= \\begin{pmatrix} \n",
        "                 a_{11} & a_{12} \\\\ \n",
        "                 a_{21} & a_{22} \\end{pmatrix}\n",
        "              \\begin{pmatrix} \n",
        "                  b_1\\\\ b_2 \n",
        "              \\end{pmatrix} =\n",
        "              \\begin{pmatrix} \n",
        "                a_{11} b_1 + a_{12}b_2 \\\\ \n",
        "                a_{21}b_1 + a_{22}b_2 \n",
        "              \\end{pmatrix} $$\n",
        "              \n",
        "              \n",
        "<img src=\"https://github.com/yardsale8/STAT321/blob/master/img/matrix_vector_multiplication.gif?raw=1\" width=600>"
      ]
    },
    {
      "cell_type": "markdown",
      "metadata": {
        "id": "o7Z-q6GydfJ7",
        "colab_type": "text"
      },
      "source": [
        "#### Matrix multiplication\n",
        "\n",
        "It is also important to recall the definition of matrix multiplication, we illustrate below for two $2 \\times 2$ matrices.\n",
        "\n",
        "\n",
        "$$\\mathbf{AB}= \\begin{pmatrix} \n",
        "                 a_{11} & a_{12}\\\\ \n",
        "                 a_{21} & a_{22}\n",
        "              \\end{pmatrix}\n",
        "              \\begin{pmatrix} \n",
        "                 b_{11} & b_{12}\\\\ \n",
        "                 b_{21} & b_{22}\n",
        "              \\end{pmatrix} =\n",
        "              \\begin{pmatrix} \n",
        "                a_{11}b_{11} + a_{12}b_{21} & a_{11}b_{12} + a_{12}b_{22}\\\\ \n",
        "                a_{21}b_{11} + a_{22}b_{21} & a_{21}b_{12} + a_{22}b_{22} \n",
        "              \\end{pmatrix} $$\n",
        "\n",
        "Matrix multiplication involves multiplying the entries of rows in the first matrix with the entries of the corresponding column in the second; then summing the results of these products. \n",
        "\n",
        "We illustrate by adding another column to the example animated above, and picking up where we left off.\n",
        "\n",
        "<img src=\"https://github.com/yardsale8/STAT321/blob/master/img/matrix_multiplication.gif?raw=1\" width=600>\n",
        "\n",
        "If we need to multiply larger matrices, we simply continue this process for each column in the right-hand matrix."
      ]
    },
    {
      "cell_type": "markdown",
      "metadata": {
        "id": "cHNNFIupdfJ9",
        "colab_type": "text"
      },
      "source": [
        "We can use `R` to compute the result of matrix multiplication using the `%*%` operator.  "
      ]
    },
    {
      "cell_type": "code",
      "metadata": {
        "id": "xyMKwNt_dfJ9",
        "colab_type": "code",
        "colab": {},
        "outputId": "52a81268-48a3-41ee-ac5b-f0acfad167ab"
      },
      "source": [
        "A %*% B"
      ],
      "execution_count": 0,
      "outputs": [
        {
          "output_type": "display_data",
          "data": {
            "text/html": [
              "<table>\n",
              "<tbody>\n",
              "\t<tr><td>9 </td><td>15</td></tr>\n",
              "\t<tr><td>6 </td><td>14</td></tr>\n",
              "</tbody>\n",
              "</table>\n"
            ],
            "text/latex": "\\begin{tabular}{ll}\n\t 9  & 15\\\\\n\t 6  & 14\\\\\n\\end{tabular}\n",
            "text/markdown": "\n| 9  | 15 |\n| 6  | 14 |\n\n",
            "text/plain": [
              "     [,1] [,2]\n",
              "[1,] 9    15  \n",
              "[2,] 6    14  "
            ]
          },
          "metadata": {
            "tags": []
          }
        }
      ]
    },
    {
      "cell_type": "markdown",
      "metadata": {
        "id": "kHC02d1ZdfKC",
        "colab_type": "text"
      },
      "source": [
        "Note that matrix multiplication is only defined if the number of rows on the LHS matches the number of columns on the RHS.  Consequently, $BC$ is undefined for the matrices defined above, as $B$ and $C$ are both $3\\times 2$."
      ]
    },
    {
      "cell_type": "code",
      "metadata": {
        "id": "Z-5UamHkdfKD",
        "colab_type": "code",
        "colab": {},
        "outputId": "9daaaf5d-2b64-483f-f1ad-933986fc9c04"
      },
      "source": [
        "B %*% C"
      ],
      "execution_count": 0,
      "outputs": [
        {
          "output_type": "error",
          "ename": "ERROR",
          "evalue": "Error in B %*% C: non-conformable arguments\n",
          "traceback": [
            "Error in B %*% C: non-conformable arguments\nTraceback:\n"
          ]
        }
      ]
    },
    {
      "cell_type": "markdown",
      "metadata": {
        "id": "MIq9JcsFdfKH",
        "colab_type": "text"
      },
      "source": [
        "## <font color=\"red\"> Exercise 4</font>\n",
        "\n",
        "Compute the following products, if possible.\n",
        "\n",
        "1. $BA$\n",
        "2. $BC$\n",
        "3. $CB$\n",
        "\n",
        "If the multiplication is not defined, identify the problem."
      ]
    },
    {
      "cell_type": "markdown",
      "metadata": {
        "id": "Bi8g35YYdfKH",
        "colab_type": "text"
      },
      "source": [
        "> *Your by-hand computations and written answers here"
      ]
    },
    {
      "cell_type": "code",
      "metadata": {
        "id": "e8EvRRnAdfKJ",
        "colab_type": "code",
        "colab": {}
      },
      "source": [
        "# Your code here"
      ],
      "execution_count": 0,
      "outputs": []
    },
    {
      "cell_type": "markdown",
      "metadata": {
        "id": "69uXjE5DdfKO",
        "colab_type": "text"
      },
      "source": [
        "A nice way to check if multiplication is defined is to write out the matrix sizes, side-by-side, in the order of the multiplication.  If the multiplication is defined, the middle two numbers will match.  Furthermore, the outside number determine the size of the resulting matrix (when defined). \n",
        "\n",
        "#### Example 1\n",
        "\n",
        "For $AB$ we get\n",
        "\n",
        "$$ \\left(2 \\times 3\\right) * \\left(3 \\times 2\\right),$$\n",
        "\n",
        "and since the inner numbers match the multiplication is defined and we will get a $2\\times 2$ matrix (outer numbers).\n",
        "\n",
        "#### Example 2\n",
        "\n",
        "For $B$ and $C$ we have\n",
        "\n",
        "$$ \\left(3 \\times 2\\right) * \\left(3 \\times 2\\right)$$\n",
        "\n",
        "and we note that the inside numbers (2 and 3) don't match, so the multiplication is not defined."
      ]
    },
    {
      "cell_type": "code",
      "metadata": {
        "id": "ltsHZGZ6dfKP",
        "colab_type": "code",
        "colab": {},
        "outputId": "8c2da8cb-0c00-447c-9832-c1fe2457f35d"
      },
      "source": [
        "B"
      ],
      "execution_count": 0,
      "outputs": [
        {
          "output_type": "display_data",
          "data": {
            "text/html": [
              "<table>\n",
              "<tbody>\n",
              "\t<tr><td>1</td><td>3</td></tr>\n",
              "\t<tr><td>1</td><td>3</td></tr>\n",
              "\t<tr><td>2</td><td>2</td></tr>\n",
              "</tbody>\n",
              "</table>\n"
            ],
            "text/latex": "\\begin{tabular}{ll}\n\t 1 & 3\\\\\n\t 1 & 3\\\\\n\t 2 & 2\\\\\n\\end{tabular}\n",
            "text/markdown": "\n| 1 | 3 |\n| 1 | 3 |\n| 2 | 2 |\n\n",
            "text/plain": [
              "     [,1] [,2]\n",
              "[1,] 1    3   \n",
              "[2,] 1    3   \n",
              "[3,] 2    2   "
            ]
          },
          "metadata": {
            "tags": []
          }
        }
      ]
    },
    {
      "cell_type": "markdown",
      "metadata": {
        "id": "JUQGT_KsdfKU",
        "colab_type": "text"
      },
      "source": [
        "## <font color=\"red\"> Exercise 4</font>\n",
        "\n",
        "Use the method defined above to (a) determine if the multiplication is defined and if so, (b) determine the size of the output.\n",
        "\n",
        "1. $BA$\n",
        "2. $BC$\n",
        "3. $CB$"
      ]
    },
    {
      "cell_type": "markdown",
      "metadata": {
        "id": "e5blbX1IdfKU",
        "colab_type": "text"
      },
      "source": [
        "> *Your by-hand computations and written answers here"
      ]
    },
    {
      "cell_type": "markdown",
      "metadata": {
        "id": "95iFbhMndfKW",
        "colab_type": "text"
      },
      "source": [
        "## Solving systems of equations with matrices\n",
        "\n",
        "Finally, we review the matrix inverse.  Recall that a matrix equation $\\mathbf{A}\\mathbf{x} = \\mathbf{b}$ corresponds to a linear system of equations.  For example, the system shown below \n",
        "corresponds to the matrix equation is given by $\\mathbf{A}\\mathbf{x}=\\mathbf{b}$.\n",
        "\n",
        "$$\\begin{array}{ccccc}\n",
        "2x & + & 3y & = & 5\\\\\n",
        "x & - & y & = & 7\n",
        "\\end{array} \n",
        "\\Longrightarrow\n",
        "\\begin{pmatrix}\n",
        "2 & 3\\\\\n",
        "1 & -1\n",
        "\\end{pmatrix} \n",
        "\\begin{pmatrix}\n",
        "  x\\\\\n",
        "  y\n",
        "\\end{pmatrix} = \n",
        "\\begin{pmatrix}\n",
        "  5\\\\\n",
        "  7\n",
        "\\end{pmatrix} .$$\n",
        "\n",
        "If a system has a unique solution, then the matrix $\\mathbf{A}$ will have a matrix inverse, denoted $\\mathbf{A}^{-1}$, and the solution to the original equation can be written as $\\mathbf{x} = \\mathbf{A}^{-1}\\mathbf{b}$ ^[Read more about computing the inverse on [Wikipedia](https://en.wikipedia.org/wiki/Invertible_matrix).].  R can be used to solve a system in this way, as follows."
      ]
    },
    {
      "cell_type": "code",
      "metadata": {
        "id": "Vx1jXbtUdfKX",
        "colab_type": "code",
        "colab": {},
        "outputId": "676515f5-4de0-4fd6-e153-8043ea214380"
      },
      "source": [
        "A <- rbind(c(2,3),\n",
        "           c(1,-1))\n",
        "A"
      ],
      "execution_count": 0,
      "outputs": [
        {
          "output_type": "display_data",
          "data": {
            "text/html": [
              "<table>\n",
              "<tbody>\n",
              "\t<tr><td>2 </td><td> 3</td></tr>\n",
              "\t<tr><td>1 </td><td>-1</td></tr>\n",
              "</tbody>\n",
              "</table>\n"
            ],
            "text/latex": "\\begin{tabular}{ll}\n\t 2  &  3\\\\\n\t 1  & -1\\\\\n\\end{tabular}\n",
            "text/markdown": "\n| 2  |  3 |\n| 1  | -1 |\n\n",
            "text/plain": [
              "     [,1] [,2]\n",
              "[1,] 2     3  \n",
              "[2,] 1    -1  "
            ]
          },
          "metadata": {
            "tags": []
          }
        }
      ]
    },
    {
      "cell_type": "code",
      "metadata": {
        "id": "7QQMOJ1GdfKc",
        "colab_type": "code",
        "colab": {},
        "outputId": "c6120afc-6eee-4e07-9cff-2eab238812f7"
      },
      "source": [
        "b <- cbind(c(5,7))\n",
        "b"
      ],
      "execution_count": 0,
      "outputs": [
        {
          "output_type": "display_data",
          "data": {
            "text/html": [
              "<table>\n",
              "<tbody>\n",
              "\t<tr><td>5</td></tr>\n",
              "\t<tr><td>7</td></tr>\n",
              "</tbody>\n",
              "</table>\n"
            ],
            "text/latex": "\\begin{tabular}{l}\n\t 5\\\\\n\t 7\\\\\n\\end{tabular}\n",
            "text/markdown": "\n| 5 |\n| 7 |\n\n",
            "text/plain": [
              "     [,1]\n",
              "[1,] 5   \n",
              "[2,] 7   "
            ]
          },
          "metadata": {
            "tags": []
          }
        }
      ]
    },
    {
      "cell_type": "code",
      "metadata": {
        "id": "LVKcCJURdfKi",
        "colab_type": "code",
        "colab": {},
        "outputId": "4655f714-80e9-4a90-ed62-afddc9211153"
      },
      "source": [
        "A.inverse <- solve(A)\n",
        "A.inverse"
      ],
      "execution_count": 0,
      "outputs": [
        {
          "output_type": "display_data",
          "data": {
            "text/html": [
              "<table>\n",
              "<tbody>\n",
              "\t<tr><td>0.2 </td><td> 0.6</td></tr>\n",
              "\t<tr><td>0.2 </td><td>-0.4</td></tr>\n",
              "</tbody>\n",
              "</table>\n"
            ],
            "text/latex": "\\begin{tabular}{ll}\n\t 0.2  &  0.6\\\\\n\t 0.2  & -0.4\\\\\n\\end{tabular}\n",
            "text/markdown": "\n| 0.2  |  0.6 |\n| 0.2  | -0.4 |\n\n",
            "text/plain": [
              "     [,1] [,2]\n",
              "[1,] 0.2   0.6\n",
              "[2,] 0.2  -0.4"
            ]
          },
          "metadata": {
            "tags": []
          }
        }
      ]
    },
    {
      "cell_type": "code",
      "metadata": {
        "id": "YmYfbBQjdfKl",
        "colab_type": "code",
        "colab": {},
        "outputId": "4ba2dae0-8868-484a-db24-a3bc9cbc530a"
      },
      "source": [
        "x <- A.inverse %*% b\n",
        "x"
      ],
      "execution_count": 0,
      "outputs": [
        {
          "output_type": "display_data",
          "data": {
            "text/html": [
              "<table>\n",
              "<tbody>\n",
              "\t<tr><td> 5.2</td></tr>\n",
              "\t<tr><td>-1.8</td></tr>\n",
              "</tbody>\n",
              "</table>\n"
            ],
            "text/latex": "\\begin{tabular}{l}\n\t  5.2\\\\\n\t -1.8\\\\\n\\end{tabular}\n",
            "text/markdown": "\n|  5.2 |\n| -1.8 |\n\n",
            "text/plain": [
              "     [,1]\n",
              "[1,]  5.2\n",
              "[2,] -1.8"
            ]
          },
          "metadata": {
            "tags": []
          }
        }
      ]
    },
    {
      "cell_type": "markdown",
      "metadata": {
        "id": "h1xbUCL7dfKp",
        "colab_type": "text"
      },
      "source": [
        "We can double check this solution by computing $\\mathbf{A}\\mathbf{x}$ and making sure it is the same as $\\mathbf{b}$."
      ]
    },
    {
      "cell_type": "code",
      "metadata": {
        "id": "_X6Ch1sgdfKp",
        "colab_type": "code",
        "colab": {},
        "outputId": "3b753860-dab4-46f9-ed84-e203e76b24aa"
      },
      "source": [
        "A %*% x"
      ],
      "execution_count": 0,
      "outputs": [
        {
          "output_type": "display_data",
          "data": {
            "text/html": [
              "<table>\n",
              "<tbody>\n",
              "\t<tr><td>5</td></tr>\n",
              "\t<tr><td>7</td></tr>\n",
              "</tbody>\n",
              "</table>\n"
            ],
            "text/latex": "\\begin{tabular}{l}\n\t 5\\\\\n\t 7\\\\\n\\end{tabular}\n",
            "text/markdown": "\n| 5 |\n| 7 |\n\n",
            "text/plain": [
              "     [,1]\n",
              "[1,] 5   \n",
              "[2,] 7   "
            ]
          },
          "metadata": {
            "tags": []
          }
        }
      ]
    },
    {
      "cell_type": "markdown",
      "metadata": {
        "id": "Q3jpamecdfKt",
        "colab_type": "text"
      },
      "source": [
        "## The transpose of a matrix\n",
        "\n",
        "Finally, we note that the **transpose** of a matrix $\\mathbf{A}$, denoted $\\mathbf{A}^T$, is contructed using the rows of $\\mathbf{A}$ as columns. \n",
        "\n",
        "$$\\mathbf{A}= \\begin{pmatrix} \n",
        "                 a_{11} & a_{12}\\\\ \n",
        "                 a_{21} & a_{22}\n",
        "              \\end{pmatrix} \\Rightarrow \\mathbf{A}^T = \n",
        "              \\begin{pmatrix} \n",
        "                 a_{11} & a_{21}\\\\ \n",
        "                 a_{12} & a_{22}\n",
        "              \\end{pmatrix}$$\n",
        "\n",
        "We can compute the transpose in R using the `t` function, as follows."
      ]
    },
    {
      "cell_type": "code",
      "metadata": {
        "id": "hVVb7puJdfKu",
        "colab_type": "code",
        "colab": {},
        "outputId": "0eaf2ce1-6022-44fc-c54b-bfa45b897a33"
      },
      "source": [
        "A <- rbind(c(2,3),\n",
        "           c(1,-1))\n",
        "A"
      ],
      "execution_count": 0,
      "outputs": [
        {
          "output_type": "display_data",
          "data": {
            "text/html": [
              "<table>\n",
              "<tbody>\n",
              "\t<tr><td>2 </td><td> 3</td></tr>\n",
              "\t<tr><td>1 </td><td>-1</td></tr>\n",
              "</tbody>\n",
              "</table>\n"
            ],
            "text/latex": "\\begin{tabular}{ll}\n\t 2  &  3\\\\\n\t 1  & -1\\\\\n\\end{tabular}\n",
            "text/markdown": "\n| 2  |  3 |\n| 1  | -1 |\n\n",
            "text/plain": [
              "     [,1] [,2]\n",
              "[1,] 2     3  \n",
              "[2,] 1    -1  "
            ]
          },
          "metadata": {
            "tags": []
          }
        }
      ]
    },
    {
      "cell_type": "code",
      "metadata": {
        "id": "ZaqdSXNQdfKy",
        "colab_type": "code",
        "colab": {},
        "outputId": "ec3c986f-57a3-4fc3-a105-017824dc1091"
      },
      "source": [
        "t(A) # Transpose"
      ],
      "execution_count": 0,
      "outputs": [
        {
          "output_type": "display_data",
          "data": {
            "text/html": [
              "<table>\n",
              "<tbody>\n",
              "\t<tr><td>2 </td><td> 1</td></tr>\n",
              "\t<tr><td>3 </td><td>-1</td></tr>\n",
              "</tbody>\n",
              "</table>\n"
            ],
            "text/latex": "\\begin{tabular}{ll}\n\t 2  &  1\\\\\n\t 3  & -1\\\\\n\\end{tabular}\n",
            "text/markdown": "\n| 2  |  1 |\n| 3  | -1 |\n\n",
            "text/plain": [
              "     [,1] [,2]\n",
              "[1,] 2     1  \n",
              "[2,] 3    -1  "
            ]
          },
          "metadata": {
            "tags": []
          }
        }
      ]
    },
    {
      "cell_type": "code",
      "metadata": {
        "id": "NmMvk6GwdfK2",
        "colab_type": "code",
        "colab": {}
      },
      "source": [
        ""
      ],
      "execution_count": 0,
      "outputs": []
    }
  ]
}